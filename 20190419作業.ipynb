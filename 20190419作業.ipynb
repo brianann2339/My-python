{
 "cells": [
  {
   "cell_type": "code",
   "execution_count": 1,
   "metadata": {},
   "outputs": [
    {
     "name": "stderr",
     "output_type": "stream",
     "text": [
      "Using TensorFlow backend.\n"
     ]
    }
   ],
   "source": [
    "from keras.datasets import mnist "
   ]
  },
  {
   "cell_type": "code",
   "execution_count": 2,
   "metadata": {},
   "outputs": [],
   "source": [
    "%matplotlib inline\n",
    "import numpy as np\n",
    "import matplotlib.pyplot as plt"
   ]
  },
  {
   "cell_type": "code",
   "execution_count": 3,
   "metadata": {},
   "outputs": [],
   "source": [
    "(x_train,y_train),(x_test,y_test) = mnist.load_data()"
   ]
  },
  {
   "cell_type": "code",
   "execution_count": 4,
   "metadata": {},
   "outputs": [],
   "source": [
    "x_train = x_train.reshape(60000,784)\n",
    "x_test = x_test.reshape(10000,784)"
   ]
  },
  {
   "cell_type": "code",
   "execution_count": 5,
   "metadata": {},
   "outputs": [
    {
     "data": {
      "text/plain": [
       "(784,)"
      ]
     },
     "execution_count": 5,
     "metadata": {},
     "output_type": "execute_result"
    }
   ],
   "source": [
    "x_train[8794].shape"
   ]
  },
  {
   "cell_type": "code",
   "execution_count": 6,
   "metadata": {},
   "outputs": [],
   "source": [
    "from keras.utils import np_utils"
   ]
  },
  {
   "cell_type": "code",
   "execution_count": 7,
   "metadata": {},
   "outputs": [
    {
     "data": {
      "text/plain": [
       "array([5, 0, 4, ..., 5, 6, 8], dtype=uint8)"
      ]
     },
     "execution_count": 7,
     "metadata": {},
     "output_type": "execute_result"
    }
   ],
   "source": [
    "y_train"
   ]
  },
  {
   "cell_type": "code",
   "execution_count": 8,
   "metadata": {},
   "outputs": [],
   "source": [
    "y_train = np_utils.to_categorical(y_train,10)\n",
    "y_test = np_utils.to_categorical(y_test,10)"
   ]
  },
  {
   "cell_type": "code",
   "execution_count": 9,
   "metadata": {},
   "outputs": [
    {
     "data": {
      "text/plain": [
       "array([0., 0., 0., 1., 0., 0., 0., 0., 0., 0.], dtype=float32)"
      ]
     },
     "execution_count": 9,
     "metadata": {},
     "output_type": "execute_result"
    }
   ],
   "source": [
    "y_train[8794]"
   ]
  },
  {
   "cell_type": "code",
   "execution_count": 10,
   "metadata": {},
   "outputs": [],
   "source": [
    "from keras.models import Sequential\n",
    "from keras.layers import Dense,Activation\n",
    "from keras.optimizers import SGD"
   ]
  },
  {
   "cell_type": "code",
   "execution_count": 47,
   "metadata": {},
   "outputs": [
    {
     "data": {
      "application/vnd.jupyter.widget-view+json": {
       "model_id": "56824aa1932f419f94c0c5ddfdcca0af",
       "version_major": 2,
       "version_minor": 0
      },
      "text/plain": [
       "interactive(children=(IntSlider(value=4999, description='測試編號', max=9999), Button(description='Run Interact', …"
      ]
     },
     "metadata": {},
     "output_type": "display_data"
    },
    {
     "data": {
      "text/plain": [
       "<function __main__.test(測試編號)>"
      ]
     },
     "execution_count": 47,
     "metadata": {},
     "output_type": "execute_result"
    }
   ],
   "source": [
    "from ipywidgets import interact_manual\n",
    "predict = model_1.predict_classes(x_test)\n",
    "def test(測試編號):\n",
    "    plt.imshow(x_test[測試編號].reshape(28,28),cmap='Greys')\n",
    "    #因為要畫出來 所以用.reshape(28,28)\n",
    "    print('神經網路判斷為:',predict[測試編號])\n",
    "interact_manual(test,測試編號 = (0,9999))"
   ]
  },
  {
   "cell_type": "code",
   "execution_count": 32,
   "metadata": {},
   "outputs": [
    {
     "name": "stdout",
     "output_type": "stream",
     "text": [
      "10000/10000 [==============================] - 0s 11us/step\n"
     ]
    },
    {
     "data": {
      "text/plain": [
       "[0.08296965824365615, 0.1135]"
      ]
     },
     "execution_count": 32,
     "metadata": {},
     "output_type": "execute_result"
    }
   ],
   "source": [
    "score = model_1.evaluate(x_test,y_test)\n",
    "score"
   ]
  },
  {
   "cell_type": "code",
   "execution_count": 33,
   "metadata": {},
   "outputs": [
    {
     "name": "stdout",
     "output_type": "stream",
     "text": [
      "loss: 0.08296965824365615 正確率: 0.1135\n"
     ]
    }
   ],
   "source": [
    "print('loss:',score[0],'正確率:',score[1])"
   ]
  },
  {
   "cell_type": "markdown",
   "metadata": {},
   "source": [
    "\n",
    "\n",
    "## 做正規化"
   ]
  },
  {
   "cell_type": "code",
   "execution_count": 11,
   "metadata": {},
   "outputs": [],
   "source": [
    "x_train = (x_train - x_train.min())/(x_train.max() - x_train.min())\n",
    "x_test = (x_test - x_test.min())/(x_test.max() - x_test.min())"
   ]
  },
  {
   "cell_type": "code",
   "execution_count": 12,
   "metadata": {},
   "outputs": [
    {
     "data": {
      "text/plain": [
       "1.0"
      ]
     },
     "execution_count": 12,
     "metadata": {},
     "output_type": "execute_result"
    }
   ],
   "source": [
    "x_train.max()"
   ]
  },
  {
   "cell_type": "code",
   "execution_count": 14,
   "metadata": {},
   "outputs": [
    {
     "name": "stdout",
     "output_type": "stream",
     "text": [
      "_________________________________________________________________\n",
      "Layer (type)                 Output Shape              Param #   \n",
      "=================================================================\n",
      "dense_4 (Dense)              (None, 100)               78500     \n",
      "_________________________________________________________________\n",
      "activation_4 (Activation)    (None, 100)               0         \n",
      "_________________________________________________________________\n",
      "dense_5 (Dense)              (None, 50)                5050      \n",
      "_________________________________________________________________\n",
      "activation_5 (Activation)    (None, 50)                0         \n",
      "_________________________________________________________________\n",
      "dense_6 (Dense)              (None, 10)                510       \n",
      "_________________________________________________________________\n",
      "activation_6 (Activation)    (None, 10)                0         \n",
      "=================================================================\n",
      "Total params: 84,060\n",
      "Trainable params: 84,060\n",
      "Non-trainable params: 0\n",
      "_________________________________________________________________\n"
     ]
    }
   ],
   "source": [
    "model = Sequential()\n",
    "model.add(Dense(100,input_dim = 784))#第一個隱藏層 4個神經元\n",
    "model.add(Activation('sigmoid'))\n",
    "model.add(Dense(50))\n",
    "model.add(Activation('sigmoid'))\n",
    "model.add(Dense(10))#輸出\n",
    "model.add(Activation('softmax'))\n",
    "model.compile(loss='mse',optimizer=SGD(lr = 0.05),metrics=['accuracy'])\n",
    "model.summary()"
   ]
  },
  {
   "cell_type": "code",
   "execution_count": 17,
   "metadata": {},
   "outputs": [
    {
     "name": "stdout",
     "output_type": "stream",
     "text": [
      "WARNING:tensorflow:From D:\\ANACONDA\\envs\\tensorflowgpu\\lib\\site-packages\\tensorflow\\python\\ops\\math_ops.py:3066: to_int32 (from tensorflow.python.ops.math_ops) is deprecated and will be removed in a future version.\n",
      "Instructions for updating:\n",
      "Use tf.cast instead.\n",
      "Train on 60000 samples, validate on 10000 samples\n",
      "Epoch 1/20\n",
      "60000/60000 [==============================] - 5s 82us/step - loss: 0.0901 - acc: 0.2169 - val_loss: 0.0887 - val_acc: 0.3325\n",
      "Epoch 2/20\n",
      "60000/60000 [==============================] - 5s 80us/step - loss: 0.0877 - acc: 0.3649 - val_loss: 0.0863 - val_acc: 0.3664\n",
      "Epoch 3/20\n",
      "60000/60000 [==============================] - 5s 82us/step - loss: 0.0838 - acc: 0.3842 - val_loss: 0.0802 - val_acc: 0.3796\n",
      "Epoch 4/20\n",
      "60000/60000 [==============================] - 5s 83us/step - loss: 0.0741 - acc: 0.4169 - val_loss: 0.0672 - val_acc: 0.4908\n",
      "Epoch 5/20\n",
      "60000/60000 [==============================] - 5s 85us/step - loss: 0.0609 - acc: 0.5676 - val_loss: 0.0546 - val_acc: 0.6279\n",
      "Epoch 6/20\n",
      "60000/60000 [==============================] - 5s 84us/step - loss: 0.0495 - acc: 0.6849 - val_loss: 0.0441 - val_acc: 0.7405\n",
      "Epoch 7/20\n",
      "60000/60000 [==============================] - 5s 84us/step - loss: 0.0402 - acc: 0.7743 - val_loss: 0.0357 - val_acc: 0.8137\n",
      "Epoch 8/20\n",
      "60000/60000 [==============================] - 5s 84us/step - loss: 0.0330 - acc: 0.8265 - val_loss: 0.0294 - val_acc: 0.8488\n",
      "Epoch 9/20\n",
      "60000/60000 [==============================] - 5s 82us/step - loss: 0.0278 - acc: 0.8510 - val_loss: 0.0251 - val_acc: 0.8639\n",
      "Epoch 10/20\n",
      "60000/60000 [==============================] - 5s 83us/step - loss: 0.0242 - acc: 0.8654 - val_loss: 0.0222 - val_acc: 0.8765\n",
      "Epoch 11/20\n",
      "60000/60000 [==============================] - 5s 85us/step - loss: 0.0218 - acc: 0.8749 - val_loss: 0.0202 - val_acc: 0.8833\n",
      "Epoch 12/20\n",
      "60000/60000 [==============================] - 5s 86us/step - loss: 0.0202 - acc: 0.8820 - val_loss: 0.0187 - val_acc: 0.8904\n",
      "Epoch 13/20\n",
      "60000/60000 [==============================] - 5s 89us/step - loss: 0.0189 - acc: 0.8876 - val_loss: 0.0177 - val_acc: 0.8939\n",
      "Epoch 14/20\n",
      "60000/60000 [==============================] - 6s 100us/step - loss: 0.0179 - acc: 0.8915 - val_loss: 0.0170 - val_acc: 0.8953\n",
      "Epoch 15/20\n",
      "60000/60000 [==============================] - 6s 93us/step - loss: 0.0172 - acc: 0.8950 - val_loss: 0.0162 - val_acc: 0.9000\n",
      "Epoch 16/20\n",
      "60000/60000 [==============================] - 5s 85us/step - loss: 0.0166 - acc: 0.8983 - val_loss: 0.0157 - val_acc: 0.9020\n",
      "Epoch 17/20\n",
      "60000/60000 [==============================] - 6s 94us/step - loss: 0.0160 - acc: 0.9008 - val_loss: 0.0152 - val_acc: 0.9045\n",
      "Epoch 18/20\n",
      "60000/60000 [==============================] - 5s 85us/step - loss: 0.0156 - acc: 0.9030 - val_loss: 0.0148 - val_acc: 0.9053\n",
      "Epoch 19/20\n",
      "60000/60000 [==============================] - 5s 85us/step - loss: 0.0151 - acc: 0.9051 - val_loss: 0.0144 - val_acc: 0.9083\n",
      "Epoch 20/20\n",
      "60000/60000 [==============================] - 5s 86us/step - loss: 0.0148 - acc: 0.9068 - val_loss: 0.0141 - val_acc: 0.9105\n"
     ]
    }
   ],
   "source": [
    "model_1 = model.fit(x_train,y_train,batch_size = 10,\n",
    "                        epochs = 20,\n",
    "                        verbose =1,\n",
    "                        validation_data = (x_test,y_test))\n",
    "\n",
    "#verbose 要不要把訓練結果跑出來 有 0 1 2"
   ]
  },
  {
   "cell_type": "code",
   "execution_count": 18,
   "metadata": {},
   "outputs": [
    {
     "data": {
      "image/png": "[encoded data removed]",
      "text/plain": [
       "<Figure size 432x288 with 1 Axes>"
      ]
     },
     "metadata": {},
     "output_type": "display_data"
    }
   ],
   "source": [
    "plt.plot(model_1.history['acc'])\n",
    "\n",
    "plt.title('model training accuracy')\n",
    "plt.ylabel('accuracy')\n",
    "plt.xlabel('epoch')\n",
    "plt.legend(['model_1'],loc = 'best')\n",
    "plt.show()"
   ]
  },
  {
   "cell_type": "code",
   "execution_count": 22,
   "metadata": {},
   "outputs": [
    {
     "name": "stdout",
     "output_type": "stream",
     "text": [
      "_________________________________________________________________\n",
      "Layer (type)                 Output Shape              Param #   \n",
      "=================================================================\n",
      "dense_7 (Dense)              (None, 100)               78500     \n",
      "_________________________________________________________________\n",
      "activation_7 (Activation)    (None, 100)               0         \n",
      "_________________________________________________________________\n",
      "dense_8 (Dense)              (None, 80)                8080      \n",
      "_________________________________________________________________\n",
      "activation_8 (Activation)    (None, 80)                0         \n",
      "_________________________________________________________________\n",
      "dense_9 (Dense)              (None, 10)                810       \n",
      "_________________________________________________________________\n",
      "activation_9 (Activation)    (None, 10)                0         \n",
      "=================================================================\n",
      "Total params: 87,390\n",
      "Trainable params: 87,390\n",
      "Non-trainable params: 0\n",
      "_________________________________________________________________\n"
     ]
    }
   ],
   "source": [
    "model_2 = Sequential()\n",
    "model_2.add(Dense(100,input_dim = 784))#第一個隱藏層 4個神經元\n",
    "model_2.add(Activation('sigmoid'))\n",
    "model_2.add(Dense(80))\n",
    "model_2.add(Activation('sigmoid'))\n",
    "model_2.add(Dense(10))#輸出\n",
    "model_2.add(Activation('softmax'))\n",
    "model_2.compile(loss='mse',optimizer=SGD(lr = 0.05),metrics=['accuracy'])\n",
    "model_2.summary()"
   ]
  },
  {
   "cell_type": "code",
   "execution_count": 23,
   "metadata": {},
   "outputs": [
    {
     "name": "stdout",
     "output_type": "stream",
     "text": [
      "Train on 60000 samples, validate on 10000 samples\n",
      "Epoch 1/20\n",
      "60000/60000 [==============================] - 5s 86us/step - loss: 0.0894 - acc: 0.2052 - val_loss: 0.0886 - val_acc: 0.3410\n",
      "Epoch 2/20\n",
      "60000/60000 [==============================] - 5s 82us/step - loss: 0.0877 - acc: 0.3462 - val_loss: 0.0864 - val_acc: 0.4187\n",
      "Epoch 3/20\n",
      "60000/60000 [==============================] - 5s 82us/step - loss: 0.0841 - acc: 0.3835 - val_loss: 0.0804 - val_acc: 0.4347\n",
      "Epoch 4/20\n",
      "60000/60000 [==============================] - 5s 83us/step - loss: 0.0749 - acc: 0.4450 - val_loss: 0.0681 - val_acc: 0.4844\n",
      "Epoch 5/20\n",
      "60000/60000 [==============================] - 5s 85us/step - loss: 0.0616 - acc: 0.5456 - val_loss: 0.0549 - val_acc: 0.6247\n",
      "Epoch 6/20\n",
      "60000/60000 [==============================] - 5s 89us/step - loss: 0.0498 - acc: 0.6762 - val_loss: 0.0444 - val_acc: 0.7236\n",
      "Epoch 7/20\n",
      "60000/60000 [==============================] - 5s 91us/step - loss: 0.0406 - acc: 0.7557 - val_loss: 0.0365 - val_acc: 0.7912\n",
      "Epoch 8/20\n",
      "60000/60000 [==============================] - 5s 85us/step - loss: 0.0338 - acc: 0.8157 - val_loss: 0.0304 - val_acc: 0.8399\n",
      "Epoch 9/20\n",
      "60000/60000 [==============================] - 5s 85us/step - loss: 0.0285 - acc: 0.8488 - val_loss: 0.0257 - val_acc: 0.8629\n",
      "Epoch 10/20\n",
      "60000/60000 [==============================] - 5s 86us/step - loss: 0.0245 - acc: 0.8655 - val_loss: 0.0223 - val_acc: 0.8766\n",
      "Epoch 11/20\n",
      "60000/60000 [==============================] - 5s 88us/step - loss: 0.0217 - acc: 0.8767 - val_loss: 0.0199 - val_acc: 0.8856\n",
      "Epoch 12/20\n",
      "60000/60000 [==============================] - 5s 90us/step - loss: 0.0198 - acc: 0.8851 - val_loss: 0.0184 - val_acc: 0.8910\n",
      "Epoch 13/20\n",
      "60000/60000 [==============================] - 5s 86us/step - loss: 0.0185 - acc: 0.8905 - val_loss: 0.0173 - val_acc: 0.8955\n",
      "Epoch 14/20\n",
      "60000/60000 [==============================] - 5s 87us/step - loss: 0.0175 - acc: 0.8944 - val_loss: 0.0164 - val_acc: 0.8992\n",
      "Epoch 15/20\n",
      "60000/60000 [==============================] - 5s 88us/step - loss: 0.0167 - acc: 0.8973 - val_loss: 0.0158 - val_acc: 0.9018\n",
      "Epoch 16/20\n",
      "60000/60000 [==============================] - 5s 87us/step - loss: 0.0161 - acc: 0.9004 - val_loss: 0.0152 - val_acc: 0.9046\n",
      "Epoch 17/20\n",
      "60000/60000 [==============================] - 5s 87us/step - loss: 0.0156 - acc: 0.9025 - val_loss: 0.0148 - val_acc: 0.9068\n",
      "Epoch 18/20\n",
      "60000/60000 [==============================] - 5s 89us/step - loss: 0.0151 - acc: 0.9051 - val_loss: 0.0144 - val_acc: 0.9098\n",
      "Epoch 19/20\n",
      "60000/60000 [==============================] - 5s 87us/step - loss: 0.0147 - acc: 0.9069 - val_loss: 0.0140 - val_acc: 0.9125\n",
      "Epoch 20/20\n",
      "60000/60000 [==============================] - 5s 87us/step - loss: 0.0144 - acc: 0.9089 - val_loss: 0.0137 - val_acc: 0.9142\n"
     ]
    }
   ],
   "source": [
    "model_2_out = model_2.fit(x_train,y_train,batch_size = 10,\n",
    "                        epochs = 20,\n",
    "                        verbose =1,\n",
    "                        validation_data = (x_test,y_test))\n"
   ]
  },
  {
   "cell_type": "code",
   "execution_count": 24,
   "metadata": {},
   "outputs": [
    {
     "data": {
      "image/png": "[encoded data removed]",
      "text/plain": [
       "<Figure size 432x288 with 1 Axes>"
      ]
     },
     "metadata": {},
     "output_type": "display_data"
    }
   ],
   "source": [
    "plt.plot(model_1.history['acc'])\n",
    "plt.plot(model_2_out.history['acc'])\n",
    "\n",
    "plt.title('model training accuracy')\n",
    "plt.ylabel('accuracy')\n",
    "plt.xlabel('epoch')\n",
    "plt.legend(['model_1','modle_2'],loc = 'best')\n",
    "plt.show()"
   ]
  },
  {
   "cell_type": "markdown",
   "metadata": {},
   "source": [
    "## 上圖看起來，model_2與model_1相比起來，只是將第二層隱藏層從50個神經元到80個神經元，看起來沒有大幅度的改變\n",
    "##     \n",
    "##    \n",
    "\n",
    "\n",
    "\n",
    "\n"
   ]
  },
  {
   "cell_type": "code",
   "execution_count": 26,
   "metadata": {},
   "outputs": [
    {
     "name": "stdout",
     "output_type": "stream",
     "text": [
      "_________________________________________________________________\n",
      "Layer (type)                 Output Shape              Param #   \n",
      "=================================================================\n",
      "dense_13 (Dense)             (None, 500)               392500    \n",
      "_________________________________________________________________\n",
      "activation_13 (Activation)   (None, 500)               0         \n",
      "_________________________________________________________________\n",
      "dense_14 (Dense)             (None, 100)               50100     \n",
      "_________________________________________________________________\n",
      "activation_14 (Activation)   (None, 100)               0         \n",
      "_________________________________________________________________\n",
      "dense_15 (Dense)             (None, 10)                1010      \n",
      "_________________________________________________________________\n",
      "activation_15 (Activation)   (None, 10)                0         \n",
      "=================================================================\n",
      "Total params: 443,610\n",
      "Trainable params: 443,610\n",
      "Non-trainable params: 0\n",
      "_________________________________________________________________\n"
     ]
    }
   ],
   "source": [
    "model_3 = Sequential()\n",
    "model_3.add(Dense(500,input_dim = 784))#第一個隱藏層 4個神經元\n",
    "model_3.add(Activation('sigmoid'))\n",
    "model_3.add(Dense(100))\n",
    "model_3.add(Activation('sigmoid'))\n",
    "model_3.add(Dense(10))#輸出\n",
    "model_3.add(Activation('softmax'))\n",
    "model_3.compile(loss='mse',optimizer=SGD(lr = 0.05),metrics=['accuracy'])\n",
    "model_3.summary()"
   ]
  },
  {
   "cell_type": "code",
   "execution_count": 27,
   "metadata": {},
   "outputs": [
    {
     "name": "stdout",
     "output_type": "stream",
     "text": [
      "Train on 60000 samples, validate on 10000 samples\n",
      "Epoch 1/20\n",
      "60000/60000 [==============================] - 15s 248us/step - loss: 0.0891 - acc: 0.2159 - val_loss: 0.0876 - val_acc: 0.2933\n",
      "Epoch 2/20\n",
      "60000/60000 [==============================] - 15s 250us/step - loss: 0.0851 - acc: 0.2923 - val_loss: 0.0810 - val_acc: 0.2959\n",
      "Epoch 3/20\n",
      "60000/60000 [==============================] - 16s 265us/step - loss: 0.0749 - acc: 0.4054 - val_loss: 0.0677 - val_acc: 0.5189\n",
      "Epoch 4/20\n",
      "60000/60000 [==============================] - 16s 272us/step - loss: 0.0608 - acc: 0.5992 - val_loss: 0.0527 - val_acc: 0.6888\n",
      "Epoch 5/20\n",
      "60000/60000 [==============================] - 16s 260us/step - loss: 0.0463 - acc: 0.7365 - val_loss: 0.0391 - val_acc: 0.7952\n",
      "Epoch 6/20\n",
      "60000/60000 [==============================] - 16s 261us/step - loss: 0.0349 - acc: 0.8195 - val_loss: 0.0299 - val_acc: 0.8526\n",
      "Epoch 7/20\n",
      "60000/60000 [==============================] - 16s 264us/step - loss: 0.0278 - acc: 0.8550 - val_loss: 0.0245 - val_acc: 0.8721\n",
      "Epoch 8/20\n",
      "60000/60000 [==============================] - 19s 311us/step - loss: 0.0236 - acc: 0.8696 - val_loss: 0.0213 - val_acc: 0.8822\n",
      "Epoch 9/20\n",
      "60000/60000 [==============================] - 17s 285us/step - loss: 0.0211 - acc: 0.8788 - val_loss: 0.0192 - val_acc: 0.8876\n",
      "Epoch 10/20\n",
      "60000/60000 [==============================] - 16s 272us/step - loss: 0.0194 - acc: 0.8850 - val_loss: 0.0178 - val_acc: 0.8934\n",
      "Epoch 11/20\n",
      "60000/60000 [==============================] - 16s 267us/step - loss: 0.0182 - acc: 0.8902 - val_loss: 0.0169 - val_acc: 0.8964\n",
      "Epoch 12/20\n",
      "60000/60000 [==============================] - 15s 256us/step - loss: 0.0173 - acc: 0.8945 - val_loss: 0.0161 - val_acc: 0.8990\n",
      "Epoch 13/20\n",
      "60000/60000 [==============================] - 16s 265us/step - loss: 0.0166 - acc: 0.8979 - val_loss: 0.0155 - val_acc: 0.9019\n",
      "Epoch 14/20\n",
      "60000/60000 [==============================] - 16s 260us/step - loss: 0.0160 - acc: 0.9002 - val_loss: 0.0150 - val_acc: 0.9036\n",
      "Epoch 15/20\n",
      "60000/60000 [==============================] - 17s 291us/step - loss: 0.0155 - acc: 0.9026 - val_loss: 0.0146 - val_acc: 0.9062\n",
      "Epoch 16/20\n",
      "60000/60000 [==============================] - 18s 299us/step - loss: 0.0151 - acc: 0.9045 - val_loss: 0.0144 - val_acc: 0.9081\n",
      "Epoch 17/20\n",
      "60000/60000 [==============================] - 17s 277us/step - loss: 0.0148 - acc: 0.9062 - val_loss: 0.0140 - val_acc: 0.9093\n",
      "Epoch 18/20\n",
      "60000/60000 [==============================] - 16s 269us/step - loss: 0.0145 - acc: 0.9080 - val_loss: 0.0137 - val_acc: 0.9122\n",
      "Epoch 19/20\n",
      "60000/60000 [==============================] - 19s 309us/step - loss: 0.0142 - acc: 0.9095 - val_loss: 0.0135 - val_acc: 0.9130\n",
      "Epoch 20/20\n",
      "60000/60000 [==============================] - 17s 277us/step - loss: 0.0139 - acc: 0.9111 - val_loss: 0.0133 - val_acc: 0.9143\n"
     ]
    }
   ],
   "source": [
    "model_3_out = model_3.fit(x_train,y_train,batch_size = 10,\n",
    "                        epochs = 20,\n",
    "                        verbose =1,\n",
    "                        validation_data = (x_test,y_test))\n"
   ]
  },
  {
   "cell_type": "code",
   "execution_count": 28,
   "metadata": {},
   "outputs": [
    {
     "data": {
      "image/png": "[encoded data removed]",
      "text/plain": [
       "<Figure size 432x288 with 1 Axes>"
      ]
     },
     "metadata": {},
     "output_type": "display_data"
    }
   ],
   "source": [
    "plt.plot(model_1.history['acc'])\n",
    "plt.plot(model_2_out.history['acc'])\n",
    "plt.plot(model_3_out.history['acc'])\n",
    "\n",
    "plt.title('model training accuracy')\n",
    "plt.ylabel('accuracy')\n",
    "plt.xlabel('epoch')\n",
    "plt.legend(['model_1','modle_2','model_3'],loc = 'best')\n",
    "plt.show()"
   ]
  },
  {
   "cell_type": "markdown",
   "metadata": {},
   "source": [
    "## 由上面看來 model_3神經元數量做大幅的改變 accuracy會更快到達90%\n",
    "##     \n",
    "##    "
   ]
  },
  {
   "cell_type": "code",
   "execution_count": 31,
   "metadata": {},
   "outputs": [
    {
     "name": "stdout",
     "output_type": "stream",
     "text": [
      "_________________________________________________________________\n",
      "Layer (type)                 Output Shape              Param #   \n",
      "=================================================================\n",
      "dense_19 (Dense)             (None, 500)               392500    \n",
      "_________________________________________________________________\n",
      "activation_19 (Activation)   (None, 500)               0         \n",
      "_________________________________________________________________\n",
      "dense_20 (Dense)             (None, 100)               50100     \n",
      "_________________________________________________________________\n",
      "activation_20 (Activation)   (None, 100)               0         \n",
      "_________________________________________________________________\n",
      "dense_21 (Dense)             (None, 10)                1010      \n",
      "_________________________________________________________________\n",
      "activation_21 (Activation)   (None, 10)                0         \n",
      "=================================================================\n",
      "Total params: 443,610\n",
      "Trainable params: 443,610\n",
      "Non-trainable params: 0\n",
      "_________________________________________________________________\n"
     ]
    }
   ],
   "source": [
    "model_4 = Sequential()\n",
    "model_4.add(Dense(500,input_dim = 784))#第一個隱藏層 4個神經元\n",
    "model_4.add(Activation('relu'))\n",
    "model_4.add(Dense(100))\n",
    "model_4.add(Activation('relu'))\n",
    "model_4.add(Dense(10))#輸出\n",
    "model_4.add(Activation('softmax'))\n",
    "model_4.compile(loss='mse',optimizer=SGD(lr = 0.05),metrics=['accuracy'])\n",
    "model_4.summary()"
   ]
  },
  {
   "cell_type": "code",
   "execution_count": 32,
   "metadata": {},
   "outputs": [
    {
     "name": "stdout",
     "output_type": "stream",
     "text": [
      "Train on 60000 samples, validate on 10000 samples\n",
      "Epoch 1/20\n",
      "60000/60000 [==============================] - 17s 284us/step - loss: 0.0318 - acc: 0.7978 - val_loss: 0.0142 - val_acc: 0.9124\n",
      "Epoch 2/20\n",
      "60000/60000 [==============================] - 16s 269us/step - loss: 0.0131 - acc: 0.9181 - val_loss: 0.0110 - val_acc: 0.9312\n",
      "Epoch 3/20\n",
      "60000/60000 [==============================] - 16s 266us/step - loss: 0.0107 - acc: 0.9334 - val_loss: 0.0096 - val_acc: 0.9391\n",
      "Epoch 4/20\n",
      "60000/60000 [==============================] - 16s 262us/step - loss: 0.0093 - acc: 0.9422 - val_loss: 0.0088 - val_acc: 0.9432\n",
      "Epoch 5/20\n",
      "60000/60000 [==============================] - 16s 267us/step - loss: 0.0083 - acc: 0.9492 - val_loss: 0.0078 - val_acc: 0.9496\n",
      "Epoch 6/20\n",
      "60000/60000 [==============================] - 16s 266us/step - loss: 0.0075 - acc: 0.9538 - val_loss: 0.0072 - val_acc: 0.9523\n",
      "Epoch 7/20\n",
      "60000/60000 [==============================] - 16s 267us/step - loss: 0.0068 - acc: 0.9584 - val_loss: 0.0068 - val_acc: 0.9560\n",
      "Epoch 8/20\n",
      "60000/60000 [==============================] - 16s 270us/step - loss: 0.0062 - acc: 0.9624 - val_loss: 0.0064 - val_acc: 0.9586\n",
      "Epoch 9/20\n",
      "60000/60000 [==============================] - 16s 272us/step - loss: 0.0057 - acc: 0.9659 - val_loss: 0.0060 - val_acc: 0.9612\n",
      "Epoch 10/20\n",
      "60000/60000 [==============================] - 16s 271us/step - loss: 0.0053 - acc: 0.9693 - val_loss: 0.0057 - val_acc: 0.9653\n",
      "Epoch 11/20\n",
      "60000/60000 [==============================] - 16s 273us/step - loss: 0.0049 - acc: 0.9716 - val_loss: 0.0053 - val_acc: 0.9664\n",
      "Epoch 12/20\n",
      "60000/60000 [==============================] - 20s 328us/step - loss: 0.0046 - acc: 0.9735 - val_loss: 0.0051 - val_acc: 0.9681\n",
      "Epoch 13/20\n",
      "60000/60000 [==============================] - 17s 288us/step - loss: 0.0043 - acc: 0.9754 - val_loss: 0.0049 - val_acc: 0.9692\n",
      "Epoch 14/20\n",
      "60000/60000 [==============================] - 16s 262us/step - loss: 0.0040 - acc: 0.9772 - val_loss: 0.0047 - val_acc: 0.9705\n",
      "Epoch 15/20\n",
      "60000/60000 [==============================] - 18s 305us/step - loss: 0.0037 - acc: 0.9788 - val_loss: 0.0047 - val_acc: 0.9692\n",
      "Epoch 16/20\n",
      "60000/60000 [==============================] - 19s 316us/step - loss: 0.0035 - acc: 0.9804 - val_loss: 0.0044 - val_acc: 0.9716\n",
      "Epoch 17/20\n",
      "60000/60000 [==============================] - 17s 282us/step - loss: 0.0033 - acc: 0.9818 - val_loss: 0.0045 - val_acc: 0.9724\n",
      "Epoch 18/20\n",
      "60000/60000 [==============================] - 17s 276us/step - loss: 0.0031 - acc: 0.9832 - val_loss: 0.0043 - val_acc: 0.9734\n",
      "Epoch 19/20\n",
      "60000/60000 [==============================] - 16s 274us/step - loss: 0.0030 - acc: 0.9844 - val_loss: 0.0041 - val_acc: 0.9739\n",
      "Epoch 20/20\n",
      "60000/60000 [==============================] - 16s 263us/step - loss: 0.0028 - acc: 0.9852 - val_loss: 0.0040 - val_acc: 0.9748\n"
     ]
    }
   ],
   "source": [
    "model_4_out = model_4.fit(x_train,y_train,batch_size = 10,\n",
    "                        epochs = 20,\n",
    "                        verbose =1,\n",
    "                        validation_data = (x_test,y_test))"
   ]
  },
  {
   "cell_type": "code",
   "execution_count": 33,
   "metadata": {},
   "outputs": [
    {
     "data": {
      "image/png": "[encoded data removed]",
      "text/plain": [
       "<Figure size 432x288 with 1 Axes>"
      ]
     },
     "metadata": {},
     "output_type": "display_data"
    }
   ],
   "source": [
    "plt.plot(model_1.history['acc'])\n",
    "plt.plot(model_2_out.history['acc'])\n",
    "plt.plot(model_3_out.history['acc'])\n",
    "plt.plot(model_4_out.history['acc'])\n",
    "plt.title('model training accuracy')\n",
    "plt.ylabel('accuracy')\n",
    "plt.xlabel('epoch')\n",
    "plt.legend(['model_1','modle_2','model_3','model_4'],loc = 'best')\n",
    "plt.show()"
   ]
  },
  {
   "cell_type": "markdown",
   "metadata": {},
   "source": [
    "## 由上面看來 將隱藏層Activation 從 sigmoid 改為 'relu'\n",
    "## accuracy一開始就很高acc: 0.7978  最後更高達0.9852 \n",
    "##     \n",
    "##    "
   ]
  },
  {
   "cell_type": "code",
   "execution_count": 34,
   "metadata": {},
   "outputs": [
    {
     "data": {
      "image/png": "[encoded data removed]",
      "text/plain": [
       "<Figure size 432x288 with 1 Axes>"
      ]
     },
     "metadata": {},
     "output_type": "display_data"
    }
   ],
   "source": [
    "plt.plot(model_1.history['val_loss'])\n",
    "plt.plot(model_2_out.history['val_loss'])\n",
    "plt.plot(model_3_out.history['val_loss'])\n",
    "plt.plot(model_4_out.history['val_loss'])\n",
    "plt.title('model validation loss')\n",
    "plt.ylabel('loss')\n",
    "plt.xlabel('epoch')\n",
    "plt.legend(['model_1','modle_2','model_3','model_4'],loc = 'best')\n",
    "plt.show()"
   ]
  },
  {
   "cell_type": "markdown",
   "metadata": {},
   "source": [
    "## 由上面看來 \n",
    "## model_1與model_2 loss 看起來差不多\n",
    "## model_3 的隱藏層神經元數項較多  loss略為下降\n",
    "## model_4 將隱藏層Activation 從 sigmoid 改為 'relu' ，loss在一開始就比其他模型還要小很多\n",
    "##     \n",
    "##    "
   ]
  },
  {
   "cell_type": "code",
   "execution_count": 35,
   "metadata": {},
   "outputs": [
    {
     "name": "stdout",
     "output_type": "stream",
     "text": [
      "10000/10000 [==============================] - 0s 17us/step\n",
      "10000/10000 [==============================] - 0s 14us/step\n",
      "10000/10000 [==============================] - 0s 22us/step\n",
      "10000/10000 [==============================] - 0s 21us/step\n"
     ]
    }
   ],
   "source": [
    "score1 = model.evaluate(x_test,y_test)\n",
    "score2 = model_2.evaluate(x_test,y_test)\n",
    "score3 = model_3.evaluate(x_test,y_test)\n",
    "score4 = model_4.evaluate(x_test,y_test)"
   ]
  },
  {
   "cell_type": "markdown",
   "metadata": {},
   "source": [
    "## 印出loss accuracy"
   ]
  },
  {
   "cell_type": "code",
   "execution_count": 36,
   "metadata": {},
   "outputs": [
    {
     "name": "stdout",
     "output_type": "stream",
     "text": [
      "loss: 0.009787096895650028 正確率: 0.9361\n",
      "loss: 0.01371088651791215 正確率: 0.9142\n",
      "loss: 0.013288127596210689 正確率: 0.9143\n",
      "loss: 0.0040383652878612335 正確率: 0.9748\n"
     ]
    }
   ],
   "source": [
    "print('loss:',score1[0],'正確率:',score1[1])\n",
    "print('loss:',score2[0],'正確率:',score2[1])\n",
    "print('loss:',score3[0],'正確率:',score3[1])\n",
    "print('loss:',score4[0],'正確率:',score4[1])\n",
    "#loss 是平均誤差\n",
    "#不過loss很難看的出來好或不好"
   ]
  },
  {
   "cell_type": "markdown",
   "metadata": {},
   "source": [
    "## 將最好的model存起來"
   ]
  },
  {
   "cell_type": "code",
   "execution_count": 37,
   "metadata": {},
   "outputs": [],
   "source": [
    "model_json = model_4.to_json()\n",
    "open('model_4.json','w').write(model_json)\n",
    "model.save_weights('model_4_weight.h5')"
   ]
  },
  {
   "cell_type": "code",
   "execution_count": null,
   "metadata": {},
   "outputs": [],
   "source": []
  }
 ],
 "metadata": {
  "kernelspec": {
   "display_name": "Python (tensorflowgpu)",
   "language": "python",
   "name": "tensorflowgpu"
  },
  "language_info": {
   "codemirror_mode": {
    "name": "ipython",
    "version": 3
   },
   "file_extension": ".py",
   "mimetype": "text/x-python",
   "name": "python",
   "nbconvert_exporter": "python",
   "pygments_lexer": "ipython3",
   "version": "3.5.5"
  }
 },
 "nbformat": 4,
 "nbformat_minor": 2
}
