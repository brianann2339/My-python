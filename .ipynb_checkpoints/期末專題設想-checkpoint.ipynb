{
 "cells": [
  {
   "cell_type": "markdown",
   "metadata": {},
   "source": [
    "# 應用邏輯回歸與基因演算法選特徵值用在急診預後 判斷基本生理訊息預測死亡\n",
    "## 想要找到新的預測方法的算式\n",
    "## 會將特徵最加減乘除\n",
    "## 再將特徵用基因演算法找出最適合的特徵值\n",
    "\n",
    "\n",
    "## 我的資料不是網路上的\n",
    "## 但是資料是已經去識別化的\n"
   ]
  },
  {
   "cell_type": "code",
   "execution_count": null,
   "metadata": {},
   "outputs": [],
   "source": []
  }
 ],
 "metadata": {
  "kernelspec": {
   "display_name": "Python (tensorflowgpu)",
   "language": "python",
   "name": "tensorflowgpu"
  },
  "language_info": {
   "codemirror_mode": {
    "name": "ipython",
    "version": 3
   },
   "file_extension": ".py",
   "mimetype": "text/x-python",
   "name": "python",
   "nbconvert_exporter": "python",
   "pygments_lexer": "ipython3",
   "version": "3.5.5"
  }
 },
 "nbformat": 4,
 "nbformat_minor": 2
}
