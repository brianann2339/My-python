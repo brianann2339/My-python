{
 "cells": [
  {
   "cell_type": "code",
   "execution_count": 1,
   "metadata": {},
   "outputs": [
    {
     "name": "stderr",
     "output_type": "stream",
     "text": [
      "D:\\ANACONDA\\envs\\tensorflowgpu\\lib\\site-packages\\sklearn\\cross_validation.py:41: DeprecationWarning: This module was deprecated in version 0.18 in favor of the model_selection module into which all the refactored classes and functions are moved. Also note that the interface of the new CV iterators are different from that of this module. This module will be removed in 0.20.\n",
      "  \"This module will be removed in 0.20.\", DeprecationWarning)\n"
     ]
    }
   ],
   "source": [
    "# 导入后续需要用到的库文件\n",
    "import numpy as np\n",
    "import pandas as pd\n",
    "import seaborn as sns\n",
    "import matplotlib.pylab as plt\n",
    "from sklearn.preprocessing import StandardScaler\n",
    "from sklearn.cross_validation import train_test_split\n",
    "from sklearn.linear_model import LogisticRegression\n",
    "from sklearn.metrics import confusion_matrix\n",
    "from sklearn.metrics import classification_report"
   ]
  },
  {
   "cell_type": "code",
   "execution_count": 2,
   "metadata": {},
   "outputs": [
    {
     "data": {
      "text/html": [
       "<div>\n",
       "<style scoped>\n",
       "    .dataframe tbody tr th:only-of-type {\n",
       "        vertical-align: middle;\n",
       "    }\n",
       "\n",
       "    .dataframe tbody tr th {\n",
       "        vertical-align: top;\n",
       "    }\n",
       "\n",
       "    .dataframe thead th {\n",
       "        text-align: right;\n",
       "    }\n",
       "</style>\n",
       "<table border=\"1\" class=\"dataframe\">\n",
       "  <thead>\n",
       "    <tr style=\"text-align: right;\">\n",
       "      <th></th>\n",
       "      <th>gender</th>\n",
       "      <th>age</th>\n",
       "      <th>DOA</th>\n",
       "      <th>pre_systolic</th>\n",
       "      <th>pre_respiration</th>\n",
       "      <th>pre_pulse</th>\n",
       "      <th>coma_total</th>\n",
       "      <th>systolic</th>\n",
       "      <th>respiration</th>\n",
       "      <th>pulse</th>\n",
       "      <th>...</th>\n",
       "      <th>history_4</th>\n",
       "      <th>history_5</th>\n",
       "      <th>history_6</th>\n",
       "      <th>history_7</th>\n",
       "      <th>sono</th>\n",
       "      <th>ct</th>\n",
       "      <th>pluse_pressure</th>\n",
       "      <th>pre_pluse_pressure</th>\n",
       "      <th>pulse/systolic</th>\n",
       "      <th>prepulse/presystolic</th>\n",
       "    </tr>\n",
       "  </thead>\n",
       "  <tbody>\n",
       "    <tr>\n",
       "      <th>0</th>\n",
       "      <td>1</td>\n",
       "      <td>30</td>\n",
       "      <td>0</td>\n",
       "      <td>110</td>\n",
       "      <td>21</td>\n",
       "      <td>74</td>\n",
       "      <td>15</td>\n",
       "      <td>105</td>\n",
       "      <td>15</td>\n",
       "      <td>76</td>\n",
       "      <td>...</td>\n",
       "      <td>0</td>\n",
       "      <td>0</td>\n",
       "      <td>0</td>\n",
       "      <td>0</td>\n",
       "      <td>0</td>\n",
       "      <td>0</td>\n",
       "      <td>43</td>\n",
       "      <td>52</td>\n",
       "      <td>0.723810</td>\n",
       "      <td>0.190909</td>\n",
       "    </tr>\n",
       "    <tr>\n",
       "      <th>1</th>\n",
       "      <td>1</td>\n",
       "      <td>88</td>\n",
       "      <td>0</td>\n",
       "      <td>191</td>\n",
       "      <td>18</td>\n",
       "      <td>77</td>\n",
       "      <td>14</td>\n",
       "      <td>191</td>\n",
       "      <td>18</td>\n",
       "      <td>77</td>\n",
       "      <td>...</td>\n",
       "      <td>0</td>\n",
       "      <td>0</td>\n",
       "      <td>0</td>\n",
       "      <td>0</td>\n",
       "      <td>0</td>\n",
       "      <td>1</td>\n",
       "      <td>121</td>\n",
       "      <td>121</td>\n",
       "      <td>0.403141</td>\n",
       "      <td>0.094241</td>\n",
       "    </tr>\n",
       "    <tr>\n",
       "      <th>2</th>\n",
       "      <td>1</td>\n",
       "      <td>57</td>\n",
       "      <td>0</td>\n",
       "      <td>80</td>\n",
       "      <td>16</td>\n",
       "      <td>67</td>\n",
       "      <td>15</td>\n",
       "      <td>157</td>\n",
       "      <td>16</td>\n",
       "      <td>68</td>\n",
       "      <td>...</td>\n",
       "      <td>0</td>\n",
       "      <td>0</td>\n",
       "      <td>0</td>\n",
       "      <td>0</td>\n",
       "      <td>0</td>\n",
       "      <td>0</td>\n",
       "      <td>73</td>\n",
       "      <td>30</td>\n",
       "      <td>0.433121</td>\n",
       "      <td>0.200000</td>\n",
       "    </tr>\n",
       "    <tr>\n",
       "      <th>3</th>\n",
       "      <td>1</td>\n",
       "      <td>29</td>\n",
       "      <td>0</td>\n",
       "      <td>140</td>\n",
       "      <td>20</td>\n",
       "      <td>103</td>\n",
       "      <td>15</td>\n",
       "      <td>140</td>\n",
       "      <td>20</td>\n",
       "      <td>103</td>\n",
       "      <td>...</td>\n",
       "      <td>0</td>\n",
       "      <td>0</td>\n",
       "      <td>0</td>\n",
       "      <td>0</td>\n",
       "      <td>0</td>\n",
       "      <td>0</td>\n",
       "      <td>70</td>\n",
       "      <td>70</td>\n",
       "      <td>0.735714</td>\n",
       "      <td>0.142857</td>\n",
       "    </tr>\n",
       "    <tr>\n",
       "      <th>4</th>\n",
       "      <td>2</td>\n",
       "      <td>83</td>\n",
       "      <td>0</td>\n",
       "      <td>216</td>\n",
       "      <td>22</td>\n",
       "      <td>67</td>\n",
       "      <td>15</td>\n",
       "      <td>216</td>\n",
       "      <td>22</td>\n",
       "      <td>67</td>\n",
       "      <td>...</td>\n",
       "      <td>0</td>\n",
       "      <td>0</td>\n",
       "      <td>0</td>\n",
       "      <td>0</td>\n",
       "      <td>0</td>\n",
       "      <td>0</td>\n",
       "      <td>89</td>\n",
       "      <td>89</td>\n",
       "      <td>0.310185</td>\n",
       "      <td>0.101852</td>\n",
       "    </tr>\n",
       "  </tbody>\n",
       "</table>\n",
       "<p>5 rows × 26 columns</p>\n",
       "</div>"
      ],
      "text/plain": [
       "   gender  age  DOA  pre_systolic  pre_respiration  pre_pulse  coma_total  \\\n",
       "0       1   30    0           110               21         74          15   \n",
       "1       1   88    0           191               18         77          14   \n",
       "2       1   57    0            80               16         67          15   \n",
       "3       1   29    0           140               20        103          15   \n",
       "4       2   83    0           216               22         67          15   \n",
       "\n",
       "   systolic  respiration  pulse          ...           history_4  history_5  \\\n",
       "0       105           15     76          ...                   0          0   \n",
       "1       191           18     77          ...                   0          0   \n",
       "2       157           16     68          ...                   0          0   \n",
       "3       140           20    103          ...                   0          0   \n",
       "4       216           22     67          ...                   0          0   \n",
       "\n",
       "   history_6  history_7  sono  ct  pluse_pressure  pre_pluse_pressure  \\\n",
       "0          0          0     0   0              43                  52   \n",
       "1          0          0     0   1             121                 121   \n",
       "2          0          0     0   0              73                  30   \n",
       "3          0          0     0   0              70                  70   \n",
       "4          0          0     0   0              89                  89   \n",
       "\n",
       "   pulse/systolic  prepulse/presystolic  \n",
       "0        0.723810              0.190909  \n",
       "1        0.403141              0.094241  \n",
       "2        0.433121              0.200000  \n",
       "3        0.735714              0.142857  \n",
       "4        0.310185              0.101852  \n",
       "\n",
       "[5 rows x 26 columns]"
      ]
     },
     "execution_count": 2,
     "metadata": {},
     "output_type": "execute_result"
    }
   ],
   "source": [
    "# 读取数据并查看\n",
    "data = pd.read_excel('C:/Users/annas/Desktop/複製的Trauma個案資料(每月給安倫)/Trauma個案資料(每月給安倫)/all/all_input_0320python.xlsx')\n",
    "data.head()"
   ]
  },
  {
   "cell_type": "code",
   "execution_count": 145,
   "metadata": {},
   "outputs": [],
   "source": [
    "#data_dummy = pd.get_dummies(data[['gender']])\n",
    "man = []\n",
    "woman = []\n",
    "for i,g in enumerate(data.gender):\n",
    "    if g==1:\n",
    "        man.append(1)\n",
    "        woman.append(0)\n",
    "    elif g==2:\n",
    "        man.append(0)\n",
    "        woman.append(1)\n",
    "    elif g==0:\n",
    "        man.append(0)\n",
    "        woman.append(0)"
   ]
  },
  {
   "cell_type": "code",
   "execution_count": 146,
   "metadata": {},
   "outputs": [],
   "source": [
    "data = data.drop(labels = ['gender'],axis = 1)\n"
   ]
  },
  {
   "cell_type": "code",
   "execution_count": 147,
   "metadata": {},
   "outputs": [],
   "source": [
    "d_man = pd.DataFrame(man, columns=['man']) "
   ]
  },
  {
   "cell_type": "code",
   "execution_count": 148,
   "metadata": {},
   "outputs": [],
   "source": [
    "d_woman = pd.DataFrame(woman , columns=['woman']) "
   ]
  },
  {
   "cell_type": "code",
   "execution_count": 149,
   "metadata": {},
   "outputs": [],
   "source": [
    "data = data.join(d_man)"
   ]
  },
  {
   "cell_type": "code",
   "execution_count": 150,
   "metadata": {},
   "outputs": [],
   "source": [
    "data = data.join(d_woman)"
   ]
  },
  {
   "cell_type": "code",
   "execution_count": 151,
   "metadata": {},
   "outputs": [],
   "source": [
    "y = pd.read_excel('C:/Users/annas/Desktop/複製的Trauma個案資料(每月給安倫)/Trauma個案資料(每月給安倫)/all/all_result_0320python.xlsx')\n",
    "\n",
    "# X_train, X_test, y_train, y_test = train_test_split(X, y, test_size=0.3, random_state=0)"
   ]
  },
  {
   "cell_type": "code",
   "execution_count": 152,
   "metadata": {},
   "outputs": [],
   "source": [
    " X_train, X_test, y_train, y_test = train_test_split(data, y, test_size=0.3, random_state=0)\n",
    "#数据集基本行列都确定之后，我们就可以进行分割了，这里将30%的数据集作为测试集："
   ]
  },
  {
   "cell_type": "code",
   "execution_count": 153,
   "metadata": {},
   "outputs": [],
   "source": [
    "# 标准化\n",
    "stdsc_col = data.columns[0:1].append(data.columns[2:9]).append(data.columns[21:25])#,\n",
    "nonstdsc_col = data.columns[1:2].append(data.columns[9:21]).append(data.columns[25:27])#,10:21\n",
    "# print(stdsc_col)\n",
    "# print(nonstdsc_col)\n",
    "\n",
    "stdsc = StandardScaler()\n",
    "X_train_conti_std = stdsc.fit_transform(X_train[stdsc_col])\n",
    "X_test_conti_std = stdsc.fit_transform(X_test[stdsc_col])\n",
    "# 将ndarray转为dataframe\n",
    "X_train_conti_std = pd.DataFrame(data=X_train_conti_std, columns=[stdsc_col], index=X_train.index)\n",
    "X_test_conti_std = pd.DataFrame(data=X_test_conti_std, columns=[stdsc_col], index=X_test.index)"
   ]
  },
  {
   "cell_type": "code",
   "execution_count": 154,
   "metadata": {},
   "outputs": [],
   "source": [
    "X_train_set = [X_train, X_train_conti_std]\n",
    "X_test_set = [X_test, X_test_conti_std]\n",
    "X_train = pd.concat(X_train_set, axis=1)\n",
    "X_test = pd.concat(X_test_set, axis=1)"
   ]
  },
  {
   "cell_type": "code",
   "execution_count": 160,
   "metadata": {},
   "outputs": [
    {
     "name": "stderr",
     "output_type": "stream",
     "text": [
      "D:\\ANACONDA\\envs\\tensorflowgpu\\lib\\site-packages\\sklearn\\utils\\validation.py:578: DataConversionWarning: A column-vector y was passed when a 1d array was expected. Please change the shape of y to (n_samples, ), for example using ravel().\n",
      "  y = column_or_1d(y, warn=True)\n"
     ]
    },
    {
     "name": "stdout",
     "output_type": "stream",
     "text": [
      "[[6650   45]\n",
      " [1058  338]]\n"
     ]
    }
   ],
   "source": [
    "from sklearn.metrics import confusion_matrix\n",
    "# # 基于训练集使用逻辑回归建模\n",
    "# classifier = LogisticRegression(random_state=0)\n",
    "# classifier.fit(X_train, y_train)\n",
    " \n",
    "# # 将模型应用于测试集并查看混淆矩阵\n",
    "# y_pred = classifier.predict(X_test)\n",
    "# confusion_matrix = confusion_matrix(y_test, y_pred)\n",
    "# print(confusion_matrix)\n",
    "\n",
    "# 基于训练集使用逻辑回归建模\n",
    "classifier = LogisticRegression(random_state=0)\n",
    "classifier.fit(data, y)\n",
    " \n",
    "# 将模型应用于测试集并查看混淆矩阵\n",
    "y_pred = classifier.predict(data)\n",
    "confusion_matrix = confusion_matrix(y, y_pred)\n",
    "print(confusion_matrix)"
   ]
  },
  {
   "cell_type": "code",
   "execution_count": 162,
   "metadata": {},
   "outputs": [
    {
     "name": "stdout",
     "output_type": "stream",
     "text": [
      "[[6650   45]\n",
      " [1058  338]]\n"
     ]
    },
    {
     "name": "stderr",
     "output_type": "stream",
     "text": [
      "D:\\ANACONDA\\envs\\tensorflowgpu\\lib\\site-packages\\sklearn\\utils\\validation.py:578: DataConversionWarning: A column-vector y was passed when a 1d array was expected. Please change the shape of y to (n_samples, ), for example using ravel().\n",
      "  y = column_or_1d(y, warn=True)\n"
     ]
    }
   ],
   "source": [
    "# 导入后续需要用到的库文件\n",
    "import numpy as np\n",
    "import pandas as pd\n",
    "import seaborn as sns\n",
    "import matplotlib.pylab as plt\n",
    "from sklearn.preprocessing import StandardScaler\n",
    "from sklearn.cross_validation import train_test_split\n",
    "from sklearn.linear_model import LogisticRegression\n",
    "from sklearn.metrics import confusion_matrix\n",
    "from sklearn.metrics import classification_report\n",
    "# 读取数据并查看\n",
    "data = pd.read_excel('C:/Users/annas/Desktop/複製的Trauma個案資料(每月給安倫)/Trauma個案資料(每月給安倫)/all/all_input_0320python.xlsx')\n",
    "#data_dummy = pd.get_dummies(data[['gender']])\n",
    "man = []\n",
    "woman = []\n",
    "for i,g in enumerate(data.gender):\n",
    "    if g==1:\n",
    "        man.append(1)\n",
    "        woman.append(0)\n",
    "    elif g==2:\n",
    "        man.append(0)\n",
    "        woman.append(1)\n",
    "    elif g==0:\n",
    "        man.append(0)\n",
    "        woman.append(0)\n",
    "data = data.drop(labels = ['gender'],axis = 1)\n",
    "d_man = pd.DataFrame(man, columns=['man']) \n",
    "d_woman = pd.DataFrame(woman , columns=['woman']) \n",
    "data = data.join(d_man)\n",
    "data = data.join(d_woman)\n",
    "y = pd.read_excel('C:/Users/annas/Desktop/複製的Trauma個案資料(每月給安倫)/Trauma個案資料(每月給安倫)/all/all_result_0320python.xlsx')\n",
    "X_train, X_test, y_train, y_test = train_test_split(data, y, test_size=0.3, random_state=0)\n",
    "#数据集基本行列都确定之后，我们就可以进行分割了，这里将30%的数据集作为测试集：\n",
    "\n",
    "#不標準化\n",
    "X_train_set = [X_train]\n",
    "X_test_set = [X_test]\n",
    "X_train = pd.concat(X_train_set, axis=1)\n",
    "X_test = pd.concat(X_test_set, axis=1)\n",
    "\n",
    "\n",
    "# # 基于训练集使用逻辑回归建模\n",
    "# classifier = LogisticRegression(random_state=0)\n",
    "# classifier.fit(X_train, y_train)\n",
    " \n",
    "# # 将模型应用于测试集并查看混淆矩阵\n",
    "# y_pred = classifier.predict(X_test)\n",
    "# confusion_matrix = confusion_matrix(y_test, y_pred)\n",
    "# print(confusion_matrix)\n",
    "\n",
    "# 基于训练集使用逻辑回归建模\n",
    "\n",
    "classifier = LogisticRegression(penalty='l2',C=1.0,random_state=0)\n",
    "classifier.fit(data, y)\n",
    " \n",
    "# 将模型应用于测试集并查看混淆矩阵\n",
    "y_pred = classifier.predict(data)\n",
    "confusion_matrix = confusion_matrix(y, y_pred)\n",
    "print(confusion_matrix)"
   ]
  },
  {
   "cell_type": "code",
   "execution_count": 164,
   "metadata": {},
   "outputs": [
    {
     "name": "stdout",
     "output_type": "stream",
     "text": [
      "[[ 636 6059]\n",
      " [  82 1314]]\n"
     ]
    },
    {
     "name": "stderr",
     "output_type": "stream",
     "text": [
      "D:\\ANACONDA\\envs\\tensorflowgpu\\lib\\site-packages\\sklearn\\linear_model\\stochastic_gradient.py:128: FutureWarning: max_iter and tol parameters have been added in <class 'sklearn.linear_model.stochastic_gradient.SGDClassifier'> in 0.19. If both are left unset, they default to max_iter=5 and tol=None. If tol is not None, max_iter defaults to max_iter=1000. From 0.21, default max_iter will be 1000, and default tol will be 1e-3.\n",
      "  \"and default tol will be 1e-3.\" % type(self), FutureWarning)\n",
      "D:\\ANACONDA\\envs\\tensorflowgpu\\lib\\site-packages\\sklearn\\utils\\validation.py:578: DataConversionWarning: A column-vector y was passed when a 1d array was expected. Please change the shape of y to (n_samples, ), for example using ravel().\n",
      "  y = column_or_1d(y, warn=True)\n"
     ]
    }
   ],
   "source": [
    "from sklearn.metrics import confusion_matrix\n",
    "from sklearn.linear_model import SGDClassifier\n",
    "sgdc=SGDClassifier(loss='log')\n",
    "sgdc.fit(data,y)\n",
    "sgdc_pre = sgdc.predict(data)\n",
    "confusion_matrix = confusion_matrix(y, sgdc_pre)\n",
    "print(confusion_matrix)"
   ]
  },
  {
   "cell_type": "code",
   "execution_count": 224,
   "metadata": {
    "scrolled": true
   },
   "outputs": [
    {
     "name": "stdout",
     "output_type": "stream",
     "text": [
      "[[1958   35]\n",
      " [ 289  146]]\n"
     ]
    },
    {
     "name": "stderr",
     "output_type": "stream",
     "text": [
      "D:\\ANACONDA\\envs\\tensorflowgpu\\lib\\site-packages\\sklearn\\utils\\validation.py:578: DataConversionWarning: A column-vector y was passed when a 1d array was expected. Please change the shape of y to (n_samples, ), for example using ravel().\n",
      "  y = column_or_1d(y, warn=True)\n"
     ]
    }
   ],
   "source": [
    "# 导入后续需要用到的库文件\n",
    "import numpy as np\n",
    "import pandas as pd\n",
    "import seaborn as sns\n",
    "import matplotlib.pylab as plt\n",
    "from sklearn.preprocessing import StandardScaler\n",
    "from sklearn.cross_validation import train_test_split\n",
    "from sklearn.linear_model import LogisticRegression\n",
    "from sklearn.metrics import confusion_matrix\n",
    "from sklearn.metrics import classification_report\n",
    "# 读取数据并查看\n",
    "data = pd.read_excel('C:/Users/annas/Desktop/複製的Trauma個案資料(每月給安倫)/Trauma個案資料(每月給安倫)/all/all_input_0324python.xlsx')\n",
    "#data_dummy = pd.get_dummies(data[['gender']])\n",
    "# man = []\n",
    "# woman = []\n",
    "# for i,g in enumerate(data.gender):\n",
    "#     if g==1:\n",
    "#         man.append(1)\n",
    "#         woman.append(0)\n",
    "#     elif g==2:\n",
    "#         man.append(0)\n",
    "#         woman.append(1)\n",
    "#     elif g==0:\n",
    "#         man.append(0)\n",
    "#         woman.append(0)\n",
    "# data = data.drop(labels = ['gender'],axis = 1)\n",
    "# d_man = pd.DataFrame(man, columns=['man']) \n",
    "# d_woman = pd.DataFrame(woman , columns=['woman']) \n",
    "# data = data.join(d_man)\n",
    "# data = data.join(d_woman)\n",
    "y = pd.read_excel('C:/Users/annas/Desktop/複製的Trauma個案資料(每月給安倫)/Trauma個案資料(每月給安倫)/all/all_result_0320python.xlsx')\n",
    "X_train, X_test, y_train, y_test = train_test_split(data, y, test_size=0.3)#, random_state=0\n",
    "#数据集基本行列都确定之后，我们就可以进行分割了，这里将30%的数据集作为测试集：\n",
    "\n",
    "#不標準化\n",
    "X_train_set = [X_train]\n",
    "X_test_set = [X_test]\n",
    "X_train = pd.concat(X_train_set, axis=1)\n",
    "X_test = pd.concat(X_test_set, axis=1)\n",
    "\n",
    "\n",
    "# 基于训练集使用逻辑回归建模\n",
    "classifier = LogisticRegression()#random_state=0\n",
    "classifier.fit(X_train, y_train)\n",
    " \n",
    "# 将模型应用于测试集并查看混淆矩阵\n",
    "y_pred = classifier.predict(X_test)\n",
    "confusion_matrix = confusion_matrix(y_test, y_pred)\n",
    "print(confusion_matrix)\n",
    "\n",
    "# 基于训练集使用逻辑回归建模\n",
    "\n",
    "# classifier = LogisticRegression(penalty='l2',C=1.0,random_state=0)\n",
    "# classifier.fit(data, y)\n",
    " \n",
    "# # 将模型应用于测试集并查看混淆矩阵\n",
    "# y_pred = classifier.predict(data)\n",
    "# confusion_matrix = confusion_matrix(y, y_pred)\n",
    "#print(confusion_matrix)"
   ]
  },
  {
   "cell_type": "code",
   "execution_count": 239,
   "metadata": {},
   "outputs": [
    {
     "name": "stdout",
     "output_type": "stream",
     "text": [
      "[[7779   25]\n",
      " [ 103  183]]\n"
     ]
    },
    {
     "name": "stderr",
     "output_type": "stream",
     "text": [
      "D:\\ANACONDA\\envs\\tensorflowgpu\\lib\\site-packages\\sklearn\\utils\\validation.py:578: DataConversionWarning: A column-vector y was passed when a 1d array was expected. Please change the shape of y to (n_samples, ), for example using ravel().\n",
      "  y = column_or_1d(y, warn=True)\n"
     ]
    }
   ],
   "source": [
    "# 导入后续需要用到的库文件\n",
    "import numpy as np\n",
    "import pandas as pd\n",
    "import seaborn as sns\n",
    "import matplotlib.pylab as plt\n",
    "from sklearn.preprocessing import StandardScaler\n",
    "from sklearn.cross_validation import train_test_split\n",
    "from sklearn.linear_model import LogisticRegression\n",
    "from sklearn.metrics import confusion_matrix\n",
    "from sklearn.metrics import classification_report\n",
    "# 读取数据并查看\n",
    "data = pd.read_excel('C:/Users/annas/Desktop/複製的Trauma個案資料(每月給安倫)/Trauma個案資料(每月給安倫)/all/all_input_0320_5to1python.xlsx')\n",
    "#data_dummy = pd.get_dummies(data[['gender']])\n",
    "# man = []\n",
    "# woman = []\n",
    "# for i,g in enumerate(data.gender):\n",
    "#     if g==1:\n",
    "#         man.append(1)\n",
    "#         woman.append(0)\n",
    "#     elif g==2:\n",
    "#         man.append(0)\n",
    "#         woman.append(1)\n",
    "#     elif g==0:\n",
    "#         man.append(0)\n",
    "#         woman.append(0)\n",
    "# data = data.drop(labels = ['gender'],axis = 1)\n",
    "# d_man = pd.DataFrame(man, columns=['man']) \n",
    "# d_woman = pd.DataFrame(woman , columns=['woman']) \n",
    "# data = data.join(d_man)\n",
    "# data = data.join(d_woman)\n",
    "y = pd.read_excel('C:/Users/annas/Desktop/複製的Trauma個案資料(每月給安倫)/Trauma個案資料(每月給安倫)/all/all_result_0320_5to1python.xlsx')\n",
    "X_train, X_test, y_train, y_test = train_test_split(data, y, test_size=0.3)#, random_state=0\n",
    "#数据集基本行列都确定之后，我们就可以进行分割了，这里将30%的数据集作为测试集：\n",
    "\n",
    "#不標準化\n",
    "X_train_set = [X_train]\n",
    "X_test_set = [X_test]\n",
    "X_train = pd.concat(X_train_set, axis=1)\n",
    "X_test = pd.concat(X_test_set, axis=1)\n",
    "\n",
    "\n",
    "# # 基于训练集使用逻辑回归建模\n",
    "# classifier = LogisticRegression()#random_state=0\n",
    "# classifier.fit(X_train, y_train)\n",
    " \n",
    "# # 将模型应用于测试集并查看混淆矩阵\n",
    "# y_pred = classifier.predict(X_test)\n",
    "# confusion_matrix = confusion_matrix(y_test, y_pred)\n",
    "# print(confusion_matrix)\n",
    "\n",
    "#基于训练集使用逻辑回归建模\n",
    "\n",
    "classifier = LogisticRegression(penalty='l2',C=1.0,random_state=0)\n",
    "classifier.fit(data, y)\n",
    " \n",
    "# 将模型应用于测试集并查看混淆矩阵\n",
    "y_pred = classifier.predict(data)\n",
    "confusion_matrix = confusion_matrix(y, y_pred)\n",
    "print(confusion_matrix)\n"
   ]
  },
  {
   "cell_type": "code",
   "execution_count": 233,
   "metadata": {},
   "outputs": [
    {
     "name": "stdout",
     "output_type": "stream",
     "text": [
      "[[6675   20]\n",
      " [1229  167]]\n"
     ]
    },
    {
     "name": "stderr",
     "output_type": "stream",
     "text": [
      "D:\\ANACONDA\\envs\\tensorflowgpu\\lib\\site-packages\\sklearn\\linear_model\\stochastic_gradient.py:128: FutureWarning: max_iter and tol parameters have been added in <class 'sklearn.linear_model.stochastic_gradient.SGDClassifier'> in 0.19. If both are left unset, they default to max_iter=5 and tol=None. If tol is not None, max_iter defaults to max_iter=1000. From 0.21, default max_iter will be 1000, and default tol will be 1e-3.\n",
      "  \"and default tol will be 1e-3.\" % type(self), FutureWarning)\n",
      "D:\\ANACONDA\\envs\\tensorflowgpu\\lib\\site-packages\\sklearn\\utils\\validation.py:578: DataConversionWarning: A column-vector y was passed when a 1d array was expected. Please change the shape of y to (n_samples, ), for example using ravel().\n",
      "  y = column_or_1d(y, warn=True)\n"
     ]
    }
   ],
   "source": [
    "\n",
    "from sklearn.metrics import confusion_matrix\n",
    "from sklearn.linear_model import SGDClassifier\n",
    "sgdc=SGDClassifier(loss='log')\n",
    "sgdc.fit(data,y)\n",
    "sgdc_pre = sgdc.predict(data)\n",
    "confusion_matrix = confusion_matrix(y, sgdc_pre)\n",
    "print(confusion_matrix)"
   ]
  },
  {
   "cell_type": "code",
   "execution_count": 4,
   "metadata": {},
   "outputs": [
    {
     "name": "stdout",
     "output_type": "stream",
     "text": [
      "<class 'pandas.core.frame.DataFrame'>\n"
     ]
    },
    {
     "name": "stderr",
     "output_type": "stream",
     "text": [
      "D:\\ANACONDA\\envs\\tensorflowgpu\\lib\\site-packages\\sklearn\\utils\\validation.py:578: DataConversionWarning: A column-vector y was passed when a 1d array was expected. Please change the shape of y to (n_samples, ), for example using ravel().\n",
      "  y = column_or_1d(y, warn=True)\n"
     ]
    },
    {
     "name": "stdout",
     "output_type": "stream",
     "text": [
      "[[4541 2154]\n",
      " [  99 1297]]\n",
      "0.8036752291300654\n",
      "j 0.1\n"
     ]
    },
    {
     "data": {
      "image/png": "[encoded data removed]",
      "text/plain": [
       "<Figure size 432x288 with 1 Axes>"
      ]
     },
     "metadata": {},
     "output_type": "display_data"
    }
   ],
   "source": [
    "##改的\n",
    "\n",
    "\n",
    "import numpy as np\n",
    "import matplotlib.pyplot as plt\n",
    "import numpy as np\n",
    "import pandas as pd\n",
    "import seaborn as sns\n",
    "import matplotlib.pylab as plt\n",
    "from sklearn.preprocessing import StandardScaler\n",
    "from sklearn.cross_validation import train_test_split\n",
    "from sklearn.linear_model import LogisticRegression\n",
    "from sklearn.metrics import confusion_matrix\n",
    "from sklearn.metrics import classification_report\n",
    "# 读取数据并查看\n",
    "data = pd.read_excel('C:/Users/annas/Desktop/複製的Trauma個案資料(每月給安倫)/Trauma個案資料(每月給安倫)/all/all_input_0320python.xlsx')\n",
    "data_dummy = pd.get_dummies(data[['gender']])\n",
    "man = []\n",
    "woman = []\n",
    "for i,g in enumerate(data.gender):\n",
    "    if g==1:\n",
    "        man.append(1)\n",
    "        woman.append(0)\n",
    "    elif g==2:\n",
    "        man.append(0)\n",
    "        woman.append(1)\n",
    "    elif g==0:\n",
    "        man.append(0)\n",
    "        woman.append(0)\n",
    "data = data.drop(labels = ['gender'],axis = 1)\n",
    "d_man = pd.DataFrame(man, columns=['man']) \n",
    "d_woman = pd.DataFrame(woman , columns=['woman']) \n",
    "data = data.join(d_man)\n",
    "data = data.join(d_woman)\n",
    "y = pd.read_excel('C:/Users/annas/Desktop/複製的Trauma個案資料(每月給安倫)/Trauma個案資料(每月給安倫)/all/all_result_0320_1to0_2to1python.xlsx')\n",
    "print(type(y))\n",
    "# y[np.where(y==1)]=0\n",
    "# y(np.where(y==2))=1\n",
    "X_train, X_test, y_train, y_test = train_test_split(data, y, test_size=0.3)#, random_state=0\n",
    "#数据集基本行列都确定之后，我们就可以进行分割了，这里将30%的数据集作为测试集：\n",
    "\n",
    "#不標準化\n",
    "X_train_set = [X_train]\n",
    "X_test_set = [X_test]\n",
    "X_train = pd.concat(X_train_set, axis=1)\n",
    "X_test = pd.concat(X_test_set, axis=1)\n",
    "\n",
    "\n",
    "\n",
    "#w = np.mat(np.random.randn(3,1))\n",
    "\n",
    "\n",
    "\n",
    "\n",
    "# # 基于训练集使用逻辑回归建模\n",
    "# classifier = LogisticRegression()#random_state=0\n",
    "# classifier.fit(X_train, y_train)\n",
    " \n",
    "# # 将模型应用于测试集并查看混淆矩阵\n",
    "# y_pred = classifier.predict(X_test)\n",
    "# confusion_matrix = confusion_matrix(y_test, y_pred)\n",
    "# print(confusion_matrix)\n",
    "\n",
    "#基于训练集使用逻辑回归建模\n",
    "maxl=0;\n",
    "maxj=0;\n",
    "j=0.1;\n",
    "#while True:\n",
    "classifier = LogisticRegression(penalty='l1',C=30,random_state=0,solver ='liblinear',class_weight={0:j,1:(1-j)})#,solver ='lbfgs'\n",
    "classifier.fit(data, y)\n",
    "#classifier.fit(X_train, y_train)\n",
    "\n",
    "\n",
    "# y_pred = classifier.predict(X_test)\n",
    "# confusion_matrix = confusion_matrix(y_test, y_pred)\n",
    "# print(confusion_matrix)\n",
    "\n",
    "# 将模型应用于测试集并查看混淆矩阵\n",
    "y_pred = classifier.predict(data)\n",
    "confusion_matrix = confusion_matrix(y, y_pred)\n",
    "print(confusion_matrix)\n",
    "# confusion_matrix[0 0]\n",
    "\n",
    "\n",
    "\n",
    "\n",
    "    #X_train, X_test, y_train, y_test\n",
    "\n",
    "from sklearn.metrics import roc_auc_score\n",
    "from sklearn.metrics import roc_curve\n",
    "\n",
    "logit_roc_auc = roc_auc_score(y, classifier.predict(data))\n",
    "#logit_roc_auc = roc_auc_score(y_test, classifier.predict(X_test))\n",
    "print(logit_roc_auc);\n",
    "print('j',j)\n",
    "#fpr, tpr, thresholds = roc_curve(y_test, classifier.predict_proba(X_test)[:,1])\n",
    "fpr, tpr, thresholds = roc_curve(y, classifier.predict_proba(data)[:,1])\n",
    "plt.figure()\n",
    "plt.plot(fpr, tpr, label='Logistic Regression (area = %0.2f)' % logit_roc_auc)\n",
    "plt.plot([0, 1], [0, 1],'r--')\n",
    "plt.xlim([0.0, 1.0])\n",
    "plt.ylim([0.0, 1.05])\n",
    "plt.xlabel('False Positive Rate')\n",
    "plt.ylabel('True Positive Rate')\n",
    "plt.title('Receiver operating characteristic')\n",
    "plt.legend(loc=\"lower right\")\n",
    "plt.savefig('Log_ROC')\n",
    "plt.show()\n",
    "#     if maxl<logit_roc_auc:\n",
    "#         maxl = logit_roc_auc\n",
    "#         maxj = j\n",
    "#     j=j+0.001;\n",
    "#     if j>0.2:\n",
    "#         break;\n",
    "\n",
    "# print('maxl',maxl)\n",
    "# print('maxj',maxj)"
   ]
  },
  {
   "cell_type": "code",
   "execution_count": 4,
   "metadata": {},
   "outputs": [
    {
     "name": "stdout",
     "output_type": "stream",
     "text": [
      "7804\n",
      "0\n",
      "286\n",
      "0\n"
     ]
    }
   ],
   "source": [
    "import numpy as np\n",
    "alpha = 0.001\n",
    "maxiter = 10000\n",
    "\n",
    "xmat = np.ones([1,len(data.values)]).T\n",
    "\n",
    "w = np.mat(np.random.randn(len(data.columns)+1,1))\n",
    "xmat= np.hstack((xmat,data.values))\n",
    "ymat = y.values\n",
    "\n",
    "for i in range(maxiter):\n",
    "    H = 1/(1+np.exp(-xmat*w))#.multiply(\n",
    "    dw = xmat.T*(H-ymat)\n",
    "    w -= alpha*dw \n",
    "\n",
    "\n",
    "    \n",
    "    \n",
    "    \n",
    "# w0 = w[0,0]\n",
    "# w1 = w[1,0]\n",
    "# w2 = w[2,0]\n",
    "# plotx1 = np.arange(1,7,0.01)\n",
    "# plotx2 = -w0/w2-w1/w2*plotx1\n",
    "# plt.plot(plotx1,plotx2,c = 'r')\n",
    "# plt.scatter(xmat[:,1][ymat==0].A,xmat[:,2][ymat==0].A)#局色\n",
    "# plt.scatter(xmat[:,1][ymat==1].A,xmat[:,2][ymat==1].A)\n",
    "# plt.grid()\n",
    "# plt.legend()\n",
    "# plt.show()\n",
    "\n",
    "#fun = w0+w1x1+w2x2 \n",
    "\n",
    "c0_0=0\n",
    "c0_1=0\n",
    "c1_0=0\n",
    "c1_1=0\n",
    "\n",
    "for i1,d1 in enumerate(xmat[:,1]):\n",
    "#     print(w0+w1*xmat[i1,1]+w2*xmat[i1,2])\n",
    "#     print(ymat[i1])\n",
    "#     print(ymat[i1]==[[1]])\n",
    "    for i in range(0,np.shape(w)[0]):\n",
    "        if i==0:\n",
    "            fun=w[i]#w[0]\n",
    "        else:\n",
    "            fun = fun+w[i]*xmat[i1,i]#fun = w[0]+w[1]*xmat[i1,1]+w[2]*xmat[i1,2];\n",
    "        \n",
    "    \n",
    "    \n",
    "    if (fun>0) & (ymat[i1]==[[1]]):\n",
    "        c1_1 =c1_1+1;\n",
    "    elif (fun<0) & (ymat[i1]==[[1]]):\n",
    "        c0_1 = c0_1+1;\n",
    "    elif (fun>0) & (ymat[i1]==[[2]]):\n",
    "        c1_0 = c1_0+1;\n",
    "    elif (fun<0) & (ymat[i1]==[[2]]):\n",
    "        c0_0 = c0_0+1;\n",
    "        \n",
    "print(c1_1)#是1(局色)被判成1\n",
    "print(c0_1)#是1(局色)被判成0(藍色)\n",
    "print(c1_0)\n",
    "print(c0_0)\n"
   ]
  },
  {
   "cell_type": "code",
   "execution_count": 13,
   "metadata": {
    "scrolled": true
   },
   "outputs": [
    {
     "name": "stdout",
     "output_type": "stream",
     "text": [
      "5\n",
      "0\n",
      "0\n",
      "5\n"
     ]
    }
   ],
   "source": [
    "import matplotlib.pyplot as plt\n",
    "xmat = np.mat([[1,2,1,2],\n",
    "        [1,2,2,3],\n",
    "        [1,5,4,3],\n",
    "        [1,4,5,5],\n",
    "        [1,2,3,6],\n",
    "        [1,3,2,7],\n",
    "        [1,6,5,8],\n",
    "        [1,4,1,9],\n",
    "        [1,6,3,6],\n",
    "        [1,7,4,5]])\n",
    "\n",
    "\n",
    "ymat = np.mat([[0],\n",
    "               [0],\n",
    "               [1],\n",
    "               [1],\n",
    "               [0],\n",
    "               [0],\n",
    "               [1],\n",
    "               [0],\n",
    "               [1],\n",
    "               [1]])\n",
    "import numpy as np\n",
    "alpha = 0.001\n",
    "maxiter = 1000000\n",
    "\n",
    "\n",
    "w = np.mat(np.random.randn(4,1))\n",
    "\n",
    "for i in range(maxiter):\n",
    "    H = 1/(1+np.exp(-xmat*w))#.multiply(\n",
    "    dw = xmat.T*(H-ymat)\n",
    "    w -= alpha*dw \n",
    "\n",
    "w0 = w[0,0]\n",
    "w1 = w[1,0]\n",
    "w2 = w[2,0]\n",
    "w3 = w[3,0]\n",
    "# plotx1 = np.arange(1,7,0.01)\n",
    "# plotx2 = -w0/w2-w1/w2*plotx1\n",
    "# plt.plot(plotx1,plotx2,c = 'r')\n",
    "# plt.scatter(xmat[:,1][ymat==0].A,xmat[:,2][ymat==0].A)#局色\n",
    "# plt.scatter(xmat[:,1][ymat==1].A,xmat[:,2][ymat==1].A)\n",
    "# plt.grid()\n",
    "# plt.legend()\n",
    "# plt.show()\n",
    "\n",
    "#fun = w0+w1x1+w2x2 \n",
    "\n",
    "c0_0=0\n",
    "c0_1=0\n",
    "c1_0=0\n",
    "c1_1=0\n",
    "\n",
    "for i1,d1 in enumerate(xmat[:,1]):\n",
    "#     print(w0+w1*xmat[i1,1]+w2*xmat[i1,2])\n",
    "#     print(ymat[i1])\n",
    "#     print(ymat[i1]==[[1]])\n",
    "    if (w0+w1*xmat[i1,1]+w2*xmat[i1,2]+w3*xmat[i1,3]>0) & (ymat[i1]==[[1]]):\n",
    "        c1_1 =c1_1+1;\n",
    "    elif (w0+w1*xmat[i1,1]+w2*xmat[i1,2]+w3*xmat[i1,3]<0) & (ymat[i1]==[[1]]):\n",
    "        c0_1 = c0_1+1;\n",
    "    elif (w0+w1*xmat[i1,1]+w2*xmat[i1,2]+w3*xmat[i1,3]>0) & (ymat[i1]==[[0]]):\n",
    "        c1_0 = c1_0+1;\n",
    "    elif (w0+w1*xmat[i1,1]+w2*xmat[i1,2]+w3*xmat[i1,3]<0) & (ymat[i1]==[[0]]):\n",
    "        c0_0 = c0_0+1;\n",
    "        \n",
    "print(c1_1)#是1(局色)被判成1\n",
    "print(c0_1)#是1(局色)被判成0(藍色)\n",
    "print(c1_0)\n",
    "print(c0_0)\n"
   ]
  },
  {
   "cell_type": "code",
   "execution_count": 376,
   "metadata": {},
   "outputs": [
    {
     "data": {
      "text/plain": [
       "28"
      ]
     },
     "execution_count": 376,
     "metadata": {},
     "output_type": "execute_result"
    }
   ],
   "source": [
    "np.shape(w)[0]"
   ]
  },
  {
   "cell_type": "code",
   "execution_count": 45,
   "metadata": {},
   "outputs": [
    {
     "data": {
      "text/plain": [
       "6695"
      ]
     },
     "execution_count": 45,
     "metadata": {},
     "output_type": "execute_result"
    }
   ],
   "source": [
    "confusion_matrix[0,0]"
   ]
  },
  {
   "cell_type": "code",
   "execution_count": 62,
   "metadata": {},
   "outputs": [
    {
     "name": "stdout",
     "output_type": "stream",
     "text": [
      "(1000, 20)\n",
      "AUC: 0.895\n"
     ]
    },
    {
     "data": {
      "image/png": "[encoded data removed]",
      "text/plain": [
       "<Figure size 432x288 with 1 Axes>"
      ]
     },
     "metadata": {},
     "output_type": "display_data"
    }
   ],
   "source": [
    "# roc curve and auc\n",
    "from sklearn.datasets import make_classification\n",
    "from sklearn.neighbors import KNeighborsClassifier\n",
    "from sklearn.model_selection import train_test_split\n",
    "from sklearn.metrics import roc_curve\n",
    "from sklearn.metrics import roc_auc_score\n",
    "from matplotlib import pyplot\n",
    "# generate 2 class dataset\n",
    "X, y = make_classification(n_samples=1000, n_classes=2, weights=[1,1], random_state=1)\n",
    "# split into train/test sets\n",
    "trainX, testX, trainy, testy = train_test_split(X, y, test_size=0.5, random_state=2)\n",
    "# fit a model\n",
    "model = KNeighborsClassifier(n_neighbors=3)\n",
    "model.fit(trainX, trainy)\n",
    "# predict probabilities\n",
    "probs = model.predict_proba(testX)\n",
    "# keep probabilities for the positive outcome only\n",
    "print(np.shape(X))\n",
    "probs = probs[:, 1]\n",
    "# calculate AUC\n",
    "auc = roc_auc_score(testy, probs)\n",
    "print('AUC: %.3f' % auc)\n",
    "# calculate roc curve\n",
    "fpr, tpr, thresholds = roc_curve(testy, probs)\n",
    "# plot no skill\n",
    "pyplot.plot([0, 1], [0, 1], linestyle='--')\n",
    "# plot the roc curve for the model\n",
    "pyplot.plot(fpr, tpr, marker='.')\n",
    "# show the plot\n",
    "pyplot.show()\n",
    "\n",
    "\n"
   ]
  },
  {
   "cell_type": "code",
   "execution_count": 2,
   "metadata": {},
   "outputs": [
    {
     "name": "stdout",
     "output_type": "stream",
     "text": [
      "0.1\n",
      "0.2\n",
      "0.30000000000000004\n",
      "0.4\n",
      "0.5\n",
      "0.6\n",
      "0.7\n",
      "0.7999999999999999\n",
      "0.8999999999999999\n",
      "0.9999999999999999\n",
      "1.0999999999999999\n"
     ]
    }
   ],
   "source": [
    "j=0; \n",
    "while True:\n",
    "    j=j+0.1;\n",
    "    print(j)\n",
    "    if j>1:\n",
    "        break;"
   ]
  },
  {
   "cell_type": "code",
   "execution_count": 18,
   "metadata": {},
   "outputs": [
    {
     "name": "stderr",
     "output_type": "stream",
     "text": [
      "D:\\ANACONDA\\envs\\tensorflowgpu\\lib\\site-packages\\ipykernel_launcher.py:7: DeprecationWarning: \n",
      ".ix is deprecated. Please use\n",
      ".loc for label based indexing or\n",
      ".iloc for positional indexing\n",
      "\n",
      "See the documentation here:\n",
      "http://pandas.pydata.org/pandas-docs/stable/indexing.html#ix-indexer-is-deprecated\n",
      "  import sys\n"
     ]
    },
    {
     "data": {
      "text/plain": [
       "[]"
      ]
     },
     "execution_count": 18,
     "metadata": {},
     "output_type": "execute_result"
    },
    {
     "data": {
      "image/png": "[encoded data removed]",
      "text/plain": [
       "<Figure size 432x288 with 1 Axes>"
      ]
     },
     "metadata": {},
     "output_type": "display_data"
    }
   ],
   "source": [
    "import pandas as pd\n",
    "import statsmodels.api as sm\n",
    "import pylab as pl\n",
    "import numpy as np\n",
    "i = np.arange(len(tpr)) # index for df\n",
    "roc = pd.DataFrame({'fpr' : pd.Series(fpr, index=i),'tpr' : pd.Series(tpr, index = i), '1-fpr' : pd.Series(1-fpr, index = i), 'tf' : pd.Series(tpr - (1-fpr), index = i), 'thresholds' : pd.Series(thresholds, index = i)})\n",
    "roc.ix[(roc.tf-0).abs().argsort()[:1]]\n",
    "\n",
    "# Plot tpr vs 1-fpr\n",
    "fig, ax = pl.subplots()\n",
    "pl.plot(roc['tpr'])\n",
    "pl.plot(roc['1-fpr'], color = 'red')\n",
    "pl.xlabel('1-False Positive Rate')\n",
    "pl.ylabel('True Positive Rate')\n",
    "pl.title('Receiver operating characteristic')\n",
    "ax.set_xticklabels([])"
   ]
  },
  {
   "cell_type": "code",
   "execution_count": 29,
   "metadata": {},
   "outputs": [
    {
     "data": {
      "text/plain": [
       "1.6443077382541529"
      ]
     },
     "execution_count": 29,
     "metadata": {},
     "output_type": "execute_result"
    }
   ],
   "source": [
    "np.max(tpr+(1-fpr))"
   ]
  },
  {
   "cell_type": "code",
   "execution_count": 31,
   "metadata": {},
   "outputs": [
    {
     "name": "stdout",
     "output_type": "stream",
     "text": [
      "405\n"
     ]
    }
   ],
   "source": [
    "for i,d in enumerate(tpr):\n",
    "    if (tpr[i]+(1-fpr[i]))== 1.6443077382541529:\n",
    "        print(i)"
   ]
  },
  {
   "cell_type": "code",
   "execution_count": 32,
   "metadata": {},
   "outputs": [
    {
     "data": {
      "text/plain": [
       "0.4457166330970128"
      ]
     },
     "execution_count": 32,
     "metadata": {},
     "output_type": "execute_result"
    }
   ],
   "source": [
    "thresholds[405]\n"
   ]
  },
  {
   "cell_type": "code",
   "execution_count": 33,
   "metadata": {},
   "outputs": [
    {
     "data": {
      "text/plain": [
       "array([0.99997718, 0.9996798 , 0.99965721, 0.9995751 , 0.99955858,\n",
       "       0.99954387, 0.99946839, 0.99942263, 0.99932391, 0.99932205,\n",
       "       0.99923357, 0.99917816, 0.99914368, 0.99909971, 0.99890997,\n",
       "       0.99890803, 0.99888413, 0.99877662, 0.99795327, 0.99793245,\n",
       "       0.99759211, 0.99733811, 0.99664358, 0.99651627, 0.98330727,\n",
       "       0.98243559, 0.97834617, 0.97822438, 0.97556782, 0.97108629,\n",
       "       0.96971383, 0.96938056, 0.94381437, 0.94300433, 0.93255581,\n",
       "       0.93189545, 0.92713602, 0.92565148, 0.92228085, 0.91835178,\n",
       "       0.91324531, 0.91309092, 0.90923663, 0.90802139, 0.89806259,\n",
       "       0.89693744, 0.89562833, 0.89173367, 0.88294346, 0.88276043,\n",
       "       0.88273623, 0.88236354, 0.87841449, 0.87692862, 0.8743397 ,\n",
       "       0.87364266, 0.87181515, 0.87032824, 0.86908599, 0.8686123 ,\n",
       "       0.86850727, 0.86753107, 0.8673739 , 0.86628594, 0.86371498,\n",
       "       0.86258927, 0.85940284, 0.85648446, 0.85570544, 0.85495485,\n",
       "       0.8497689 , 0.8465925 , 0.84610063, 0.84435011, 0.84384111,\n",
       "       0.84325564, 0.84159152, 0.83774931, 0.83637682, 0.83457366,\n",
       "       0.83419382, 0.83103731, 0.82198271, 0.82128412, 0.8205151 ,\n",
       "       0.81628193, 0.81469141, 0.81038953, 0.80754834, 0.80739866,\n",
       "       0.80604211, 0.80564681, 0.8012523 , 0.7969282 , 0.79553009,\n",
       "       0.79426831, 0.79394748, 0.79344589, 0.79189156, 0.7918372 ,\n",
       "       0.79180187, 0.78830649, 0.78750689, 0.78655628, 0.783925  ,\n",
       "       0.78389048, 0.78300725, 0.77990284, 0.77832315, 0.77751417,\n",
       "       0.77676038, 0.77665489, 0.77313298, 0.772854  , 0.76974007,\n",
       "       0.76821861, 0.76413535, 0.7640215 , 0.76330996, 0.76150631,\n",
       "       0.7610026 , 0.76033529, 0.75966124, 0.75830029, 0.75677902,\n",
       "       0.75665841, 0.75518778, 0.75414306, 0.75360749, 0.75018855,\n",
       "       0.74956063, 0.74925228, 0.74758351, 0.74671584, 0.74509426,\n",
       "       0.74483832, 0.74375195, 0.74374665, 0.74345802, 0.74276619,\n",
       "       0.74265883, 0.74188748, 0.74117918, 0.7382274 , 0.73636542,\n",
       "       0.7362172 , 0.735924  , 0.7355329 , 0.73534549, 0.73518968,\n",
       "       0.73437986, 0.73272197, 0.73159887, 0.73015457, 0.72737227,\n",
       "       0.72692071, 0.72664986, 0.72553649, 0.72513461, 0.7251059 ,\n",
       "       0.72393633, 0.72123058, 0.71562893, 0.71480725, 0.71443307,\n",
       "       0.71379691, 0.7132832 , 0.71027343, 0.70843976, 0.7075524 ,\n",
       "       0.70680191, 0.70662936, 0.70639802, 0.70565311, 0.70541283,\n",
       "       0.70526306, 0.70446612, 0.70436547, 0.69997149, 0.69924177,\n",
       "       0.69901494, 0.69866195, 0.69831615, 0.69814044, 0.69576527,\n",
       "       0.69496425, 0.69315367, 0.69251652, 0.69120689, 0.68954243,\n",
       "       0.68919953, 0.68900234, 0.68724367, 0.68706779, 0.68627026,\n",
       "       0.68594909, 0.68521673, 0.68520797, 0.68444262, 0.68441459,\n",
       "       0.68409742, 0.68050653, 0.67657893, 0.6765245 , 0.67650589,\n",
       "       0.67581732, 0.67295978, 0.67274844, 0.67139436, 0.67121269,\n",
       "       0.67116223, 0.67050909, 0.66869871, 0.66809929, 0.66742195,\n",
       "       0.6670053 , 0.66680918, 0.66627458, 0.66619008, 0.66528261,\n",
       "       0.662983  , 0.66171437, 0.66094828, 0.66038702, 0.65983726,\n",
       "       0.65886082, 0.65846967, 0.65837721, 0.65788191, 0.65321856,\n",
       "       0.65267638, 0.65065716, 0.65013771, 0.64666989, 0.64618609,\n",
       "       0.64583684, 0.6455733 , 0.64420689, 0.64382212, 0.64375119,\n",
       "       0.64131595, 0.64124255, 0.64062392, 0.64038242, 0.63800952,\n",
       "       0.63754746, 0.63646758, 0.63639156, 0.63387783, 0.63262343,\n",
       "       0.63235943, 0.63187519, 0.62983108, 0.6290324 , 0.62578264,\n",
       "       0.62559856, 0.62147991, 0.62134712, 0.62104337, 0.62062854,\n",
       "       0.61856045, 0.61846564, 0.6175163 , 0.61636499, 0.61617814,\n",
       "       0.61592253, 0.61509465, 0.61463836, 0.61439551, 0.61322279,\n",
       "       0.61247871, 0.61030603, 0.60998574, 0.6097873 , 0.60866563,\n",
       "       0.60730896, 0.60683233, 0.60627053, 0.60481528, 0.60461181,\n",
       "       0.60436076, 0.60403384, 0.6039088 , 0.60345937, 0.60342247,\n",
       "       0.60221991, 0.60126707, 0.60105804, 0.60053422, 0.60050312,\n",
       "       0.59887402, 0.59726005, 0.59675755, 0.59548165, 0.59482892,\n",
       "       0.59421395, 0.59285587, 0.59276314, 0.58977252, 0.58924711,\n",
       "       0.58788525, 0.58786634, 0.58574732, 0.58560967, 0.58409977,\n",
       "       0.58305787, 0.58243919, 0.5802187 , 0.5798649 , 0.5795527 ,\n",
       "       0.57763845, 0.57513508, 0.57394191, 0.56791966, 0.56731634,\n",
       "       0.56463832, 0.5645888 , 0.56164487, 0.56160083, 0.55637882,\n",
       "       0.55484999, 0.55476234, 0.55450099, 0.55372515, 0.55341624,\n",
       "       0.55287578, 0.55262392, 0.55142815, 0.5508814 , 0.55055857,\n",
       "       0.55002   , 0.54984376, 0.54982233, 0.54883064, 0.54867289,\n",
       "       0.5463667 , 0.5456334 , 0.54388749, 0.54138746, 0.54089408,\n",
       "       0.53990717, 0.53666214, 0.53633364, 0.53038152, 0.52957322,\n",
       "       0.52767145, 0.52634557, 0.52582956, 0.52557339, 0.52364113,\n",
       "       0.52352427, 0.52295981, 0.52285108, 0.5205505 , 0.52052986,\n",
       "       0.5201807 , 0.51947506, 0.51597881, 0.51514371, 0.51213021,\n",
       "       0.50786983, 0.50643827, 0.50625637, 0.50547882, 0.50501321,\n",
       "       0.5035661 , 0.50257316, 0.49844536, 0.4984179 , 0.49812241,\n",
       "       0.49808022, 0.49113758, 0.49105318, 0.4910276 , 0.49040282,\n",
       "       0.48998986, 0.48871069, 0.48657812, 0.48180854, 0.48136163,\n",
       "       0.48052297, 0.4804925 , 0.47973037, 0.47896593, 0.47520025,\n",
       "       0.47504217, 0.47322823, 0.47301731, 0.47152551, 0.47119625,\n",
       "       0.46919091, 0.46809825, 0.46706672, 0.46694799, 0.46625575,\n",
       "       0.46554094, 0.46115519, 0.46070452, 0.458143  , 0.45783411,\n",
       "       0.44954478, 0.44945308, 0.44829983, 0.44727565, 0.44619712,\n",
       "       0.44571663, 0.4322687 , 0.43158197, 0.42352798, 0.42321995,\n",
       "       0.4208125 , 0.42043155, 0.41971577, 0.4173315 , 0.41424266,\n",
       "       0.40925255, 0.40883173, 0.39925886, 0.39750177, 0.39608724,\n",
       "       0.39562582, 0.38891053, 0.38838788, 0.38198199, 0.37934644,\n",
       "       0.36601127, 0.36569392, 0.36343404, 0.36299125, 0.35994604,\n",
       "       0.35948413, 0.35948094, 0.35935568, 0.33468721, 0.32649917,\n",
       "       0.3260316 , 0.32509782, 0.31413237, 0.30171722, 0.30032962,\n",
       "       0.29967098, 0.29188538, 0.23506833, 0.23210822, 0.21381816,\n",
       "       0.21241637, 0.18229759, 0.18203763, 0.17813896, 0.17780776,\n",
       "       0.17771456, 0.17597884, 0.16320437, 0.16302853, 0.15660182,\n",
       "       0.15587603, 0.13290788, 0.13290162, 0.12341043, 0.1232463 ,\n",
       "       0.12065149, 0.12041706, 0.11903144, 0.11890815, 0.11759464,\n",
       "       0.11755408, 0.11388741, 0.11366686, 0.11313269, 0.11273127,\n",
       "       0.11185161, 0.1118371 , 0.10807404, 0.10805221, 0.10642465,\n",
       "       0.10641475, 0.10446869, 0.10405533, 0.10042341, 0.10038532,\n",
       "       0.09946519, 0.09931011, 0.09405543, 0.09398794, 0.09380242,\n",
       "       0.09376737, 0.09200197, 0.09198905, 0.08852378, 0.0884122 ,\n",
       "       0.08611649, 0.08611499, 0.08318747, 0.08306347, 0.07989622,\n",
       "       0.07985512, 0.07803764, 0.07790337, 0.07673114, 0.07670306,\n",
       "       0.07456526, 0.07456414, 0.07338487, 0.07336188, 0.07324428,\n",
       "       0.07319771, 0.07178007, 0.07175663, 0.07095065, 0.07089481,\n",
       "       0.07072585, 0.07068997, 0.06894415, 0.06892815, 0.06756415,\n",
       "       0.06753109, 0.06674516, 0.06673824, 0.06663643, 0.06660655,\n",
       "       0.06583563, 0.0658194 , 0.06486639, 0.06483709, 0.06361726,\n",
       "       0.06357962, 0.06193566, 0.06192914, 0.0618404 , 0.06183637,\n",
       "       0.06160141, 0.06156199, 0.06125239, 0.06115449, 0.05837253,\n",
       "       0.05837018, 0.05831023, 0.05828042, 0.05647257, 0.05646354,\n",
       "       0.05506598, 0.05502356, 0.05448519, 0.05440641, 0.0533123 ,\n",
       "       0.05327237, 0.04053928, 0.04047505, 0.03256775, 0.03224458,\n",
       "       0.00341906])"
      ]
     },
     "execution_count": 33,
     "metadata": {},
     "output_type": "execute_result"
    }
   ],
   "source": [
    "thresholds"
   ]
  },
  {
   "cell_type": "code",
   "execution_count": 8,
   "metadata": {},
   "outputs": [
    {
     "name": "stdout",
     "output_type": "stream",
     "text": [
      "<class 'pandas.core.frame.DataFrame'>\n"
     ]
    },
    {
     "name": "stderr",
     "output_type": "stream",
     "text": [
      "D:\\ANACONDA\\envs\\tensorflowgpu\\lib\\site-packages\\sklearn\\utils\\validation.py:578: DataConversionWarning: A column-vector y was passed when a 1d array was expected. Please change the shape of y to (n_samples, ), for example using ravel().\n",
      "  y = column_or_1d(y, warn=True)\n"
     ]
    },
    {
     "name": "stdout",
     "output_type": "stream",
     "text": [
      "[[7416  388]\n",
      " [  21  265]]\n",
      "0.938427666643966\n",
      "j 0.1\n"
     ]
    },
    {
     "data": {
      "image/png": "[encoded data removed]",
      "text/plain": [
       "<Figure size 432x288 with 1 Axes>"
      ]
     },
     "metadata": {},
     "output_type": "display_data"
    }
   ],
   "source": [
    "import numpy as np\n",
    "import matplotlib.pyplot as plt\n",
    "import numpy as np\n",
    "import pandas as pd\n",
    "import seaborn as sns\n",
    "import matplotlib.pylab as plt\n",
    "from sklearn.preprocessing import StandardScaler\n",
    "from sklearn.cross_validation import train_test_split\n",
    "from sklearn.linear_model import LogisticRegression\n",
    "from sklearn.metrics import confusion_matrix\n",
    "from sklearn.metrics import classification_report\n",
    "# 读取数据并查看\n",
    "data = pd.read_excel('C:/Users/annas/Desktop/複製的Trauma個案資料(每月給安倫)/Trauma個案資料(每月給安倫)/all/all_input_0326_5_1_no_ctsonopython.xlsx')\n",
    "data_dummy = pd.get_dummies(data[['gender']])\n",
    "man = []\n",
    "woman = []\n",
    "for i,g in enumerate(data.gender):\n",
    "    if g==1:\n",
    "        man.append(1)\n",
    "        woman.append(0)\n",
    "    elif g==2:\n",
    "        man.append(0)\n",
    "        woman.append(1)\n",
    "    elif g==0:\n",
    "        man.append(0)\n",
    "        woman.append(0)\n",
    "data = data.drop(labels = ['gender'],axis = 1)\n",
    "d_man = pd.DataFrame(man, columns=['man']) \n",
    "d_woman = pd.DataFrame(woman , columns=['woman']) \n",
    "data = data.join(d_man)\n",
    "data = data.join(d_woman)\n",
    "y = pd.read_excel('C:/Users/annas/Desktop/複製的Trauma個案資料(每月給安倫)/Trauma個案資料(每月給安倫)/all/all_result_0326_5_1python.xlsx')\n",
    "print(type(y))\n",
    "# y[np.where(y==1)]=0\n",
    "# y(np.where(y==2))=1\n",
    "X_train, X_test, y_train, y_test = train_test_split(data, y, test_size=0.3)#, random_state=0\n",
    "#数据集基本行列都确定之后，我们就可以进行分割了，这里将30%的数据集作为测试集：\n",
    "\n",
    "#不標準化\n",
    "X_train_set = [X_train]\n",
    "X_test_set = [X_test]\n",
    "X_train = pd.concat(X_train_set, axis=1)\n",
    "X_test = pd.concat(X_test_set, axis=1)\n",
    "\n",
    "\n",
    "\n",
    "#w = np.mat(np.random.randn(3,1))\n",
    "\n",
    "\n",
    "\n",
    "\n",
    "# # 基于训练集使用逻辑回归建模\n",
    "# classifier = LogisticRegression()#random_state=0\n",
    "# classifier.fit(X_train, y_train)\n",
    " \n",
    "# # 将模型应用于测试集并查看混淆矩阵\n",
    "# y_pred = classifier.predict(X_test)\n",
    "# confusion_matrix = confusion_matrix(y_test, y_pred)\n",
    "# print(confusion_matrix)\n",
    "\n",
    "#基于训练集使用逻辑回归建模\n",
    "maxl=0;\n",
    "maxj=0;\n",
    "#j=0.1;\n",
    "#while True:\n",
    "classifier = LogisticRegression(penalty='l1',C=1,random_state=0,solver ='liblinear',class_weight={0:0.03,1:1})#,solver ='lbfgs'\n",
    "classifier.fit(data, y)\n",
    "#classifier.fit(X_train, y_train)\n",
    "\n",
    "\n",
    "# y_pred = classifier.predict(X_test)\n",
    "# confusion_matrix = confusion_matrix(y_test, y_pred)\n",
    "# print(confusion_matrix)\n",
    "\n",
    "    # # 将模型应用于测试集并查看混淆矩阵\n",
    "y_pred = classifier.predict(data)\n",
    "confusion_matrix = confusion_matrix(y, y_pred)\n",
    "print(confusion_matrix)\n",
    "#confusion_matrix[0 0]\n",
    "\n",
    "\n",
    "\n",
    "\n",
    "    #X_train, X_test, y_train, y_test\n",
    "\n",
    "from sklearn.metrics import roc_auc_score\n",
    "from sklearn.metrics import roc_curve\n",
    "\n",
    "logit_roc_auc = roc_auc_score(y, classifier.predict(data))\n",
    "#logit_roc_auc = roc_auc_score(y_test, classifier.predict(X_test))\n",
    "print(logit_roc_auc);\n",
    "print('j',j)\n",
    "fpr, tpr, thresholds = roc_curve(y, classifier.predict_proba(data)[:,1])\n",
    "#fpr, tpr, thresholds = roc_curve(y_test, classifier.predict_proba(X_test)[:,1])\n",
    "plt.figure()\n",
    "plt.plot(fpr, tpr, label='Logistic Regression (area = %0.2f)' % logit_roc_auc)\n",
    "plt.plot([0, 1], [0, 1],'r--')\n",
    "plt.xlim([0.0, 1.0])\n",
    "plt.ylim([0.0, 1.05])\n",
    "plt.xlabel('False Positive Rate')\n",
    "plt.ylabel('True Positive Rate')\n",
    "plt.title('Receiver operating characteristic')\n",
    "plt.legend(loc=\"lower right\")\n",
    "plt.savefig('Log_ROC')\n",
    "plt.show()\n",
    "# if maxl<logit_roc_auc:\n",
    "#     maxl = logit_roc_auc\n",
    "#     maxj = j\n",
    "# j=j+0.1;\n",
    "# if j>1:\n",
    "#     break;\n",
    "\n",
    "# print('maxl',maxl)\n",
    "# print('maxj',maxj)"
   ]
  },
  {
   "cell_type": "code",
   "execution_count": 9,
   "metadata": {},
   "outputs": [
    {
     "name": "stdout",
     "output_type": "stream",
     "text": [
      "[[ 3.23740847e-02  0.00000000e+00  2.15254428e-02 -2.90301754e-02\n",
      "  -6.79539136e-04 -2.75765297e-01 -1.68849146e-02  2.35744759e-03\n",
      "   1.53637770e-03  0.00000000e+00  3.67692469e-01  0.00000000e+00\n",
      "   3.46101902e-01  0.00000000e+00  8.63118881e-01  1.18984793e+00\n",
      "   2.19955009e-01  0.00000000e+00  1.07072160e-02 -8.36779224e-03\n",
      "   0.00000000e+00  0.00000000e+00  9.08605636e-01  1.74196257e-01\n",
      "  -1.53721233e-02 -3.03308203e-01  9.22707358e-02  4.22808654e-02\n",
      "   0.00000000e+00  3.76754860e-01  3.68499874e-01  0.00000000e+00\n",
      "   0.00000000e+00  0.00000000e+00 -5.37594614e-01]]\n",
      "[0.]\n"
     ]
    },
    {
     "data": {
      "text/html": [
       "<div>\n",
       "<style scoped>\n",
       "    .dataframe tbody tr th:only-of-type {\n",
       "        vertical-align: middle;\n",
       "    }\n",
       "\n",
       "    .dataframe tbody tr th {\n",
       "        vertical-align: top;\n",
       "    }\n",
       "\n",
       "    .dataframe thead th {\n",
       "        text-align: right;\n",
       "    }\n",
       "</style>\n",
       "<table border=\"1\" class=\"dataframe\">\n",
       "  <thead>\n",
       "    <tr style=\"text-align: right;\">\n",
       "      <th></th>\n",
       "      <th>係數</th>\n",
       "    </tr>\n",
       "  </thead>\n",
       "  <tbody>\n",
       "    <tr>\n",
       "      <th>age</th>\n",
       "      <td>0.032374</td>\n",
       "    </tr>\n",
       "    <tr>\n",
       "      <th>DOA</th>\n",
       "      <td>0.000000</td>\n",
       "    </tr>\n",
       "    <tr>\n",
       "      <th>pre_systolic</th>\n",
       "      <td>0.021525</td>\n",
       "    </tr>\n",
       "    <tr>\n",
       "      <th>pre_respiration</th>\n",
       "      <td>-0.029030</td>\n",
       "    </tr>\n",
       "    <tr>\n",
       "      <th>pre_pulse</th>\n",
       "      <td>-0.000680</td>\n",
       "    </tr>\n",
       "    <tr>\n",
       "      <th>coma_total</th>\n",
       "      <td>-0.275765</td>\n",
       "    </tr>\n",
       "    <tr>\n",
       "      <th>systolic</th>\n",
       "      <td>-0.016885</td>\n",
       "    </tr>\n",
       "    <tr>\n",
       "      <th>respiration</th>\n",
       "      <td>0.002357</td>\n",
       "    </tr>\n",
       "    <tr>\n",
       "      <th>pulse</th>\n",
       "      <td>0.001536</td>\n",
       "    </tr>\n",
       "    <tr>\n",
       "      <th>alcohol</th>\n",
       "      <td>0.000000</td>\n",
       "    </tr>\n",
       "    <tr>\n",
       "      <th>history_0</th>\n",
       "      <td>0.367692</td>\n",
       "    </tr>\n",
       "    <tr>\n",
       "      <th>history_1</th>\n",
       "      <td>0.000000</td>\n",
       "    </tr>\n",
       "    <tr>\n",
       "      <th>history_2</th>\n",
       "      <td>0.346102</td>\n",
       "    </tr>\n",
       "    <tr>\n",
       "      <th>history_3</th>\n",
       "      <td>0.000000</td>\n",
       "    </tr>\n",
       "    <tr>\n",
       "      <th>history_4</th>\n",
       "      <td>0.863119</td>\n",
       "    </tr>\n",
       "    <tr>\n",
       "      <th>history_5</th>\n",
       "      <td>1.189848</td>\n",
       "    </tr>\n",
       "    <tr>\n",
       "      <th>history_6</th>\n",
       "      <td>0.219955</td>\n",
       "    </tr>\n",
       "    <tr>\n",
       "      <th>history_7</th>\n",
       "      <td>0.000000</td>\n",
       "    </tr>\n",
       "    <tr>\n",
       "      <th>pluse_pressure</th>\n",
       "      <td>0.010707</td>\n",
       "    </tr>\n",
       "    <tr>\n",
       "      <th>pre_pluse_pressure</th>\n",
       "      <td>-0.008368</td>\n",
       "    </tr>\n",
       "    <tr>\n",
       "      <th>pulse/systolic</th>\n",
       "      <td>0.000000</td>\n",
       "    </tr>\n",
       "    <tr>\n",
       "      <th>prepulse/presystolic</th>\n",
       "      <td>0.000000</td>\n",
       "    </tr>\n",
       "    <tr>\n",
       "      <th>comp</th>\n",
       "      <td>0.908606</td>\n",
       "    </tr>\n",
       "    <tr>\n",
       "      <th>icu_los_1</th>\n",
       "      <td>0.174196</td>\n",
       "    </tr>\n",
       "    <tr>\n",
       "      <th>los</th>\n",
       "      <td>-0.015372</td>\n",
       "    </tr>\n",
       "    <tr>\n",
       "      <th>RTS</th>\n",
       "      <td>-0.303308</td>\n",
       "    </tr>\n",
       "    <tr>\n",
       "      <th>ISS</th>\n",
       "      <td>0.092271</td>\n",
       "    </tr>\n",
       "    <tr>\n",
       "      <th>NISS</th>\n",
       "      <td>0.042281</td>\n",
       "    </tr>\n",
       "    <tr>\n",
       "      <th>TRISS</th>\n",
       "      <td>0.000000</td>\n",
       "    </tr>\n",
       "    <tr>\n",
       "      <th>q_sofa</th>\n",
       "      <td>0.376755</td>\n",
       "    </tr>\n",
       "    <tr>\n",
       "      <th>q_sofa0</th>\n",
       "      <td>0.368500</td>\n",
       "    </tr>\n",
       "    <tr>\n",
       "      <th>q_sofa1</th>\n",
       "      <td>0.000000</td>\n",
       "    </tr>\n",
       "    <tr>\n",
       "      <th>q_sofa2</th>\n",
       "      <td>0.000000</td>\n",
       "    </tr>\n",
       "    <tr>\n",
       "      <th>man</th>\n",
       "      <td>0.000000</td>\n",
       "    </tr>\n",
       "    <tr>\n",
       "      <th>woman</th>\n",
       "      <td>-0.537595</td>\n",
       "    </tr>\n",
       "  </tbody>\n",
       "</table>\n",
       "</div>"
      ],
      "text/plain": [
       "                            係數\n",
       "age                   0.032374\n",
       "DOA                   0.000000\n",
       "pre_systolic          0.021525\n",
       "pre_respiration      -0.029030\n",
       "pre_pulse            -0.000680\n",
       "coma_total           -0.275765\n",
       "systolic             -0.016885\n",
       "respiration           0.002357\n",
       "pulse                 0.001536\n",
       "alcohol               0.000000\n",
       "history_0             0.367692\n",
       "history_1             0.000000\n",
       "history_2             0.346102\n",
       "history_3             0.000000\n",
       "history_4             0.863119\n",
       "history_5             1.189848\n",
       "history_6             0.219955\n",
       "history_7             0.000000\n",
       "pluse_pressure        0.010707\n",
       "pre_pluse_pressure   -0.008368\n",
       "pulse/systolic        0.000000\n",
       "prepulse/presystolic  0.000000\n",
       "comp                  0.908606\n",
       "icu_los_1             0.174196\n",
       "los                  -0.015372\n",
       "RTS                  -0.303308\n",
       "ISS                   0.092271\n",
       "NISS                  0.042281\n",
       "TRISS                 0.000000\n",
       "q_sofa                0.376755\n",
       "q_sofa0               0.368500\n",
       "q_sofa1               0.000000\n",
       "q_sofa2               0.000000\n",
       "man                   0.000000\n",
       "woman                -0.537595"
      ]
     },
     "execution_count": 9,
     "metadata": {},
     "output_type": "execute_result"
    }
   ],
   "source": [
    "from pandas import Series,DataFrame\n",
    "import pandas as pd\n",
    "# 印出係數\n",
    "print(classifier.coef_)\n",
    "# 印出截距\n",
    "print(classifier.intercept_ )\n",
    "\n",
    "\n",
    "df1 = pd.DataFrame(classifier.coef_.T,index=data.columns,columns=['係數'])\n",
    "df1"
   ]
  },
  {
   "cell_type": "code",
   "execution_count": 47,
   "metadata": {},
   "outputs": [
    {
     "data": {
      "text/plain": [
       "Index(['age', 'DOA', 'pre_systolic', 'pre_respiration', 'pre_pulse',\n",
       "       'coma_total', 'systolic', 'respiration', 'pulse', 'call_tteam',\n",
       "       'alcohol', 'history_0', 'history_1', 'history_2', 'history_3',\n",
       "       'history_4', 'history_5', 'history_6', 'history_7', 'sono', 'ct',\n",
       "       'pluse_pressure', 'pre_pluse_pressure', 'pulse/systolic',\n",
       "       'prepulse/presystolic', 'man', 'woman'],\n",
       "      dtype='object')"
      ]
     },
     "execution_count": 47,
     "metadata": {},
     "output_type": "execute_result"
    }
   ],
   "source": [
    "data.columns"
   ]
  },
  {
   "cell_type": "code",
   "execution_count": 15,
   "metadata": {},
   "outputs": [
    {
     "data": {
      "text/plain": [
       "array([[0.92899433, 0.07100567],\n",
       "       [0.92244014, 0.07755986],\n",
       "       [0.97309347, 0.02690653],\n",
       "       ...,\n",
       "       [0.96191008, 0.03808992],\n",
       "       [0.99016276, 0.00983724],\n",
       "       [0.95015941, 0.04984059]])"
      ]
     },
     "execution_count": 15,
     "metadata": {},
     "output_type": "execute_result"
    }
   ],
   "source": [
    "classifier.predict_proba(X_test)"
   ]
  },
  {
   "cell_type": "code",
   "execution_count": 37,
   "metadata": {},
   "outputs": [
    {
     "name": "stderr",
     "output_type": "stream",
     "text": [
      "D:\\ANACONDA\\envs\\tensorflowgpu\\lib\\site-packages\\sklearn\\utils\\validation.py:578: DataConversionWarning: A column-vector y was passed when a 1d array was expected. Please change the shape of y to (n_samples, ), for example using ravel().\n",
      "  y = column_or_1d(y, warn=True)\n"
     ]
    },
    {
     "name": "stdout",
     "output_type": "stream",
     "text": [
      "confusion_matrix\n",
      "[[1754  188]\n",
      " [  13   66]]\n",
      "accuracy_score 0.9005442850074221\n",
      "auc 0.8693178114693192\n"
     ]
    },
    {
     "data": {
      "image/png": "[encoded data removed]",
      "text/plain": [
       "<Figure size 432x288 with 1 Axes>"
      ]
     },
     "metadata": {},
     "output_type": "display_data"
    }
   ],
   "source": [
    "#icu算活\n",
    "# 用來訓練的資料:200901-201712 活著5862 死了207\n",
    "\n",
    "# 用來測試的資料:201801-201902 活1942 死79\n",
    "\n",
    "import numpy as np\n",
    "import matplotlib.pyplot as plt\n",
    "import numpy as np\n",
    "import pandas as pd\n",
    "import seaborn as sns\n",
    "import matplotlib.pylab as plt\n",
    "from sklearn.preprocessing import StandardScaler\n",
    "from sklearn.cross_validation import train_test_split\n",
    "from sklearn.linear_model import LogisticRegression\n",
    "from sklearn.metrics import confusion_matrix\n",
    "from sklearn.metrics import classification_report\n",
    "from sklearn.metrics import accuracy_score\n",
    "# 读取数据并查看\n",
    "data = pd.read_excel('C:/Users/annas/Desktop/複製的Trauma個案資料(每月給安倫)/Trauma個案資料(每月給安倫)/all/all_input_0330_until201712python.xlsx')\n",
    "data\n",
    "data_dummy = pd.get_dummies(data[['gender']])\n",
    "man = []\n",
    "woman = []\n",
    "for i,g in enumerate(data.gender):\n",
    "    if g==1:\n",
    "        man.append(1)\n",
    "        woman.append(0)\n",
    "    elif g==2:\n",
    "        man.append(0)\n",
    "        woman.append(1)\n",
    "    elif g==0:\n",
    "        man.append(0)\n",
    "        woman.append(0)\n",
    "data = data.drop(labels = ['gender'],axis = 1)\n",
    "d_man = pd.DataFrame(man, columns=['man']) \n",
    "d_woman = pd.DataFrame(woman , columns=['woman']) \n",
    "data = data.join(d_man)\n",
    "data = data.join(d_woman)\n",
    "y = pd.read_excel('C:/Users/annas/Desktop/複製的Trauma個案資料(每月給安倫)/Trauma個案資料(每月給安倫)/all/all_result_0330_until201712_to0_1python.xlsx')\n",
    "#print(type(y))\n",
    "# y[np.where(y==1)]=0\n",
    "# y(np.where(y==2))=1\n",
    "#X_train, X_test, y_train, y_test = train_test_split(data, y, test_size=0.3)#, random_state=0\n",
    "#数据集基本行列都确定之后，我们就可以进行分割了，这里将30%的数据集作为测试集：\n",
    "\n",
    "#不標準化\n",
    "# X_train_set = [X_train]\n",
    "# X_test_set = [X_test]\n",
    "# X_train = pd.concat(X_train_set, axis=1)\n",
    "# X_test = pd.concat(X_test_set, axis=1)\n",
    "\n",
    "\n",
    "\n",
    "#w = np.mat(np.random.randn(3,1))\n",
    "\n",
    "\n",
    "\n",
    "\n",
    "# # 基于训练集使用逻辑回归建模\n",
    "# classifier = LogisticRegression()#random_state=0\n",
    "# classifier.fit(X_train, y_train)\n",
    " \n",
    "# # 将模型应用于测试集并查看混淆矩阵\n",
    "# y_pred = classifier.predict(X_test)\n",
    "# confusion_matrix = confusion_matrix(y_test, y_pred)\n",
    "# print(confusion_matrix)\n",
    "\n",
    "#基于训练集使用逻辑回归建模\n",
    "# maxl=0;\n",
    "# maxj=0;\n",
    "#j=0.1;\n",
    "#while True:\n",
    "X_train = data;\n",
    "y_train = y;\n",
    "classifier = LogisticRegression(penalty='l1',C=1,random_state=0,solver ='liblinear',class_weight={0:0.03,1:1})#,solver ='lbfgs'\n",
    "#classifier.fit(data, y)\n",
    "classifier.fit(X_train, y_train)\n",
    "\n",
    "\n",
    "X_test = pd.read_excel('C:/Users/annas/Desktop/複製的Trauma個案資料(每月給安倫)/Trauma個案資料(每月給安倫)/all/all_input_0330_2018python.xlsx')\n",
    "y_test = pd.read_excel('C:/Users/annas/Desktop/複製的Trauma個案資料(每月給安倫)/Trauma個案資料(每月給安倫)/all/all_result_0330_2018_to0_1python.xlsx')\n",
    "X_test_dummy = pd.get_dummies(X_test[['gender']])\n",
    "man = []\n",
    "woman = []\n",
    "for i,g in enumerate(X_test.gender):\n",
    "    if g==1:\n",
    "        man.append(1)\n",
    "        woman.append(0)\n",
    "    elif g==2:\n",
    "        man.append(0)\n",
    "        woman.append(1)\n",
    "    elif g==0:\n",
    "        man.append(0)\n",
    "        woman.append(0)\n",
    "X_test = X_test.drop(labels = ['gender'],axis = 1)\n",
    "X_test_man = pd.DataFrame(man, columns=['man']) \n",
    "X_test_woman = pd.DataFrame(woman , columns=['woman']) \n",
    "X_test = X_test.join(X_test_man)\n",
    "X_test = X_test.join(X_test_woman)\n",
    "\n",
    "\n",
    "\n",
    "\n",
    "\n",
    "y_pred = classifier.predict(X_test)\n",
    "confusion_matrix = confusion_matrix(y_test, y_pred)\n",
    "print('confusion_matrix')\n",
    "print(confusion_matrix)\n",
    "print('accuracy_score',accuracy_score(y_test, y_pred))\n",
    "\n",
    "    # # 将模型应用于测试集并查看混淆矩阵\n",
    "# y_pred = classifier.predict(data)\n",
    "# confusion_matrix = confusion_matrix(y, y_pred)\n",
    "# print(confusion_matrix)\n",
    "#confusion_matrix[0 0]\n",
    "\n",
    "\n",
    "\n",
    "\n",
    "    #X_train, X_test, y_train, y_test\n",
    "\n",
    "from sklearn.metrics import roc_auc_score\n",
    "from sklearn.metrics import roc_curve\n",
    "\n",
    "#logit_roc_auc = roc_auc_score(y, classifier.predict(data))\n",
    "logit_roc_auc = roc_auc_score(y_test, classifier.predict(X_test))\n",
    "print('auc',logit_roc_auc);\n",
    "#print('j',j)\n",
    "#fpr, tpr, thresholds = roc_curve(y, classifier.predict_proba(data)[:,1])\n",
    "fpr, tpr, thresholds = roc_curve(y_test, classifier.predict_proba(X_test)[:,1])\n",
    "plt.figure()\n",
    "plt.plot(fpr, tpr, label='Logistic Regression  (area = %0.2f)' % logit_roc_auc)\n",
    "plt.plot([0, 1], [0, 1],'r--')\n",
    "plt.xlim([0.0, 1.0])\n",
    "plt.ylim([0.0, 1.05])\n",
    "plt.xlabel('False Positive Rate')\n",
    "plt.ylabel('True Positive Rate')\n",
    "plt.title('Receiver operating characteristic')\n",
    "plt.legend(loc=\"lower right\")\n",
    "plt.savefig('Log_ROC')\n",
    "plt.show()\n",
    "# if maxl<logit_roc_auc:\n",
    "#     maxl = logit_roc_auc\n",
    "#     maxj = j\n",
    "# j=j+0.1;\n",
    "# if j>1:\n",
    "#     break;\n",
    "\n",
    "# print('maxl',maxl)\n",
    "# print('maxj',maxj)"
   ]
  },
  {
   "cell_type": "code",
   "execution_count": 46,
   "metadata": {},
   "outputs": [
    {
     "name": "stdout",
     "output_type": "stream",
     "text": [
      "[[4.08133151]]\n",
      "[-0.70102351]\n"
     ]
    },
    {
     "data": {
      "text/html": [
       "<div>\n",
       "<style scoped>\n",
       "    .dataframe tbody tr th:only-of-type {\n",
       "        vertical-align: middle;\n",
       "    }\n",
       "\n",
       "    .dataframe tbody tr th {\n",
       "        vertical-align: top;\n",
       "    }\n",
       "\n",
       "    .dataframe thead th {\n",
       "        text-align: right;\n",
       "    }\n",
       "</style>\n",
       "<table border=\"1\" class=\"dataframe\">\n",
       "  <thead>\n",
       "    <tr style=\"text-align: right;\">\n",
       "      <th></th>\n",
       "      <th>係數</th>\n",
       "    </tr>\n",
       "  </thead>\n",
       "  <tbody>\n",
       "    <tr>\n",
       "      <th>q_sofa</th>\n",
       "      <td>4.081332</td>\n",
       "    </tr>\n",
       "  </tbody>\n",
       "</table>\n",
       "</div>"
      ],
      "text/plain": [
       "              係數\n",
       "q_sofa  4.081332"
      ]
     },
     "execution_count": 46,
     "metadata": {},
     "output_type": "execute_result"
    }
   ],
   "source": [
    "from pandas import Series,DataFrame\n",
    "import pandas as pd\n",
    "# 印出係數\n",
    "print(classifier.coef_)\n",
    "# 印出截距\n",
    "print(classifier.intercept_ )\n",
    "\n",
    "\n",
    "df1 = pd.DataFrame(classifier.coef_.T,index=data.columns,columns=['係數'])\n",
    "df1"
   ]
  },
  {
   "cell_type": "code",
   "execution_count": 39,
   "metadata": {},
   "outputs": [
    {
     "name": "stderr",
     "output_type": "stream",
     "text": [
      "D:\\ANACONDA\\envs\\tensorflowgpu\\lib\\site-packages\\sklearn\\utils\\validation.py:578: DataConversionWarning: A column-vector y was passed when a 1d array was expected. Please change the shape of y to (n_samples, ), for example using ravel().\n",
      "  y = column_or_1d(y, warn=True)\n"
     ]
    },
    {
     "name": "stdout",
     "output_type": "stream",
     "text": [
      "confusion_matrix\n",
      "[[873 735]\n",
      " [ 19 394]]\n",
      "accuracy_score 0.6269173676397823\n",
      "auc 0.748452802573091\n"
     ]
    },
    {
     "data": {
      "image/png": "[encoded data removed]",
      "text/plain": [
       "<Figure size 432x288 with 1 Axes>"
      ]
     },
     "metadata": {},
     "output_type": "display_data"
    }
   ],
   "source": [
    "#icu算死\n",
    "# 用來訓練的資料: 200901-201712 活著5087 死了+icu  983\n",
    "# 用來測試的資料: 201801-201902 活1608 死+icu 413\n",
    "\n",
    "\n",
    "import numpy as np\n",
    "import matplotlib.pyplot as plt\n",
    "import numpy as np\n",
    "import pandas as pd\n",
    "import seaborn as sns\n",
    "import matplotlib.pylab as plt\n",
    "from sklearn.preprocessing import StandardScaler\n",
    "from sklearn.cross_validation import train_test_split\n",
    "from sklearn.linear_model import LogisticRegression\n",
    "from sklearn.metrics import confusion_matrix\n",
    "from sklearn.metrics import classification_report\n",
    "from sklearn.metrics import accuracy_score\n",
    "# 读取数据并查看\n",
    "data = pd.read_excel('C:/Users/annas/Desktop/複製的Trauma個案資料(每月給安倫)/Trauma個案資料(每月給安倫)/all/all_input_0330_until201712_icu_is_die_python.xlsx')\n",
    "data\n",
    "data_dummy = pd.get_dummies(data[['gender']])\n",
    "man = []\n",
    "woman = []\n",
    "for i,g in enumerate(data.gender):\n",
    "    if g==1:\n",
    "        man.append(1)\n",
    "        woman.append(0)\n",
    "    elif g==2:\n",
    "        man.append(0)\n",
    "        woman.append(1)\n",
    "    elif g==0:\n",
    "        man.append(0)\n",
    "        woman.append(0)\n",
    "data = data.drop(labels = ['gender'],axis = 1)\n",
    "d_man = pd.DataFrame(man, columns=['man']) \n",
    "d_woman = pd.DataFrame(woman , columns=['woman']) \n",
    "data = data.join(d_man)\n",
    "data = data.join(d_woman)\n",
    "y = pd.read_excel('C:/Users/annas/Desktop/複製的Trauma個案資料(每月給安倫)/Trauma個案資料(每月給安倫)/all/all_result_0330_until201712_icu_is_die_to0_1python.xlsx')\n",
    "#print(type(y))\n",
    "# y[np.where(y==1)]=0\n",
    "# y(np.where(y==2))=1\n",
    "#X_train, X_test, y_train, y_test = train_test_split(data, y, test_size=0.3)#, random_state=0\n",
    "#数据集基本行列都确定之后，我们就可以进行分割了，这里将30%的数据集作为测试集：\n",
    "\n",
    "#不標準化\n",
    "# X_train_set = [X_train]\n",
    "# X_test_set = [X_test]\n",
    "# X_train = pd.concat(X_train_set, axis=1)\n",
    "# X_test = pd.concat(X_test_set, axis=1)\n",
    "\n",
    "\n",
    "\n",
    "#w = np.mat(np.random.randn(3,1))\n",
    "\n",
    "\n",
    "\n",
    "\n",
    "# # 基于训练集使用逻辑回归建模\n",
    "# classifier = LogisticRegression()#random_state=0\n",
    "# classifier.fit(X_train, y_train)\n",
    " \n",
    "# # 将模型应用于测试集并查看混淆矩阵\n",
    "# y_pred = classifier.predict(X_test)\n",
    "# confusion_matrix = confusion_matrix(y_test, y_pred)\n",
    "# print(confusion_matrix)\n",
    "\n",
    "#基于训练集使用逻辑回归建模\n",
    "# maxl=0;\n",
    "# maxj=0;\n",
    "#j=0.1;\n",
    "#while True:\n",
    "X_train = data;\n",
    "y_train = y;\n",
    "classifier = LogisticRegression(penalty='l1',C=1,random_state=0,solver ='liblinear',class_weight={0:0.03,1:1})#,solver ='lbfgs'\n",
    "#classifier.fit(data, y)\n",
    "classifier.fit(X_train, y_train)\n",
    "\n",
    "\n",
    "X_test = pd.read_excel('C:/Users/annas/Desktop/複製的Trauma個案資料(每月給安倫)/Trauma個案資料(每月給安倫)/all/all_input_0330_2018_icu_is_die_python.xlsx')\n",
    "y_test = pd.read_excel('C:/Users/annas/Desktop/複製的Trauma個案資料(每月給安倫)/Trauma個案資料(每月給安倫)/all/all_result_0330_2018_icu_is_die_to0_1python.xlsx')\n",
    "X_test_dummy = pd.get_dummies(X_test[['gender']])\n",
    "man = []\n",
    "woman = []\n",
    "for i,g in enumerate(X_test.gender):\n",
    "    if g==1:\n",
    "        man.append(1)\n",
    "        woman.append(0)\n",
    "    elif g==2:\n",
    "        man.append(0)\n",
    "        woman.append(1)\n",
    "    elif g==0:\n",
    "        man.append(0)\n",
    "        woman.append(0)\n",
    "X_test = X_test.drop(labels = ['gender'],axis = 1)\n",
    "X_test_man = pd.DataFrame(man, columns=['man']) \n",
    "X_test_woman = pd.DataFrame(woman , columns=['woman']) \n",
    "X_test = X_test.join(X_test_man)\n",
    "X_test = X_test.join(X_test_woman)\n",
    "\n",
    "\n",
    "\n",
    "\n",
    "\n",
    "y_pred = classifier.predict(X_test)\n",
    "confusion_matrix = confusion_matrix(y_test, y_pred)\n",
    "print('confusion_matrix')\n",
    "print(confusion_matrix)\n",
    "print('accuracy_score',accuracy_score(y_test, y_pred))\n",
    "\n",
    "    # # 将模型应用于测试集并查看混淆矩阵\n",
    "# y_pred = classifier.predict(data)\n",
    "# confusion_matrix = confusion_matrix(y, y_pred)\n",
    "# print(confusion_matrix)\n",
    "#confusion_matrix[0 0]\n",
    "\n",
    "\n",
    "\n",
    "\n",
    "    #X_train, X_test, y_train, y_test\n",
    "\n",
    "from sklearn.metrics import roc_auc_score\n",
    "from sklearn.metrics import roc_curve\n",
    "\n",
    "#logit_roc_auc = roc_auc_score(y, classifier.predict(data))\n",
    "logit_roc_auc = roc_auc_score(y_test, classifier.predict(X_test))\n",
    "print('auc',logit_roc_auc);\n",
    "#print('j',j)\n",
    "#fpr, tpr, thresholds = roc_curve(y, classifier.predict_proba(data)[:,1])\n",
    "fpr, tpr, thresholds = roc_curve(y_test, classifier.predict_proba(X_test)[:,1])\n",
    "plt.figure()\n",
    "plt.plot(fpr, tpr, label='Logistic Regression  (area = %0.2f)' % logit_roc_auc)\n",
    "plt.plot([0, 1], [0, 1],'r--')\n",
    "plt.xlim([0.0, 1.0])\n",
    "plt.ylim([0.0, 1.05])\n",
    "plt.xlabel('False Positive Rate')\n",
    "plt.ylabel('True Positive Rate')\n",
    "plt.title('Receiver operating characteristic')\n",
    "plt.legend(loc=\"lower right\")\n",
    "plt.savefig('Log_ROC')\n",
    "plt.show()\n",
    "# if maxl<logit_roc_auc:\n",
    "#     maxl = logit_roc_auc\n",
    "#     maxj = j\n",
    "# j=j+0.1;\n",
    "# if j>1:\n",
    "#     break;\n",
    "\n",
    "# print('maxl',maxl)\n",
    "# print('maxj',maxj)"
   ]
  },
  {
   "cell_type": "code",
   "execution_count": 40,
   "metadata": {},
   "outputs": [
    {
     "name": "stderr",
     "output_type": "stream",
     "text": [
      "D:\\ANACONDA\\envs\\tensorflowgpu\\lib\\site-packages\\sklearn\\utils\\validation.py:578: DataConversionWarning: A column-vector y was passed when a 1d array was expected. Please change the shape of y to (n_samples, ), for example using ravel().\n",
      "  y = column_or_1d(y, warn=True)\n"
     ]
    },
    {
     "name": "stdout",
     "output_type": "stream",
     "text": [
      "confusion_matrix\n",
      "[[1148  842]\n",
      " [  16  422]]\n",
      "accuracy_score 0.6466227347611203\n",
      "auc 0.7701773708726279\n"
     ]
    },
    {
     "data": {
      "image/png": "[encoded data removed]",
      "text/plain": [
       "<Figure size 432x288 with 1 Axes>"
      ]
     },
     "metadata": {},
     "output_type": "display_data"
    }
   ],
   "source": [
    "#icu是死\n",
    "\n",
    "# 用來訓練的資料: 200901-201902 活著 6695死了+icu  1396 (70%)\n",
    "# 用來測試的資料: 200901-201902 活著 6695死了+icu  1396 (30%)\n",
    "\n",
    "\n",
    "\n",
    "\n",
    "import numpy as np\n",
    "import matplotlib.pyplot as plt\n",
    "import numpy as np\n",
    "import pandas as pd\n",
    "import seaborn as sns\n",
    "import matplotlib.pylab as plt\n",
    "from sklearn.preprocessing import StandardScaler\n",
    "from sklearn.cross_validation import train_test_split\n",
    "from sklearn.linear_model import LogisticRegression\n",
    "from sklearn.metrics import confusion_matrix\n",
    "from sklearn.metrics import classification_report\n",
    "from sklearn.metrics import accuracy_score\n",
    "# 读取数据并查看\n",
    "data = pd.read_excel('C:/Users/annas/Desktop/複製的Trauma個案資料(每月給安倫)/Trauma個案資料(每月給安倫)/all/all_input_0330_until2018_icu_is_die_python.xlsx')\n",
    "data\n",
    "data_dummy = pd.get_dummies(data[['gender']])\n",
    "man = []\n",
    "woman = []\n",
    "for i,g in enumerate(data.gender):\n",
    "    if g==1:\n",
    "        man.append(1)\n",
    "        woman.append(0)\n",
    "    elif g==2:\n",
    "        man.append(0)\n",
    "        woman.append(1)\n",
    "    elif g==0:\n",
    "        man.append(0)\n",
    "        woman.append(0)\n",
    "data = data.drop(labels = ['gender'],axis = 1)\n",
    "d_man = pd.DataFrame(man, columns=['man']) \n",
    "d_woman = pd.DataFrame(woman , columns=['woman']) \n",
    "data = data.join(d_man)\n",
    "data = data.join(d_woman)\n",
    "y = pd.read_excel('C:/Users/annas/Desktop/複製的Trauma個案資料(每月給安倫)/Trauma個案資料(每月給安倫)/all/all_result_0330_until2018_icu_is_die_to0_1python.xlsx')\n",
    "\n",
    "X_train, X_test, y_train, y_test = train_test_split(data, y, test_size=0.3)\n",
    "\n",
    "classifier = LogisticRegression(penalty='l1',C=1,random_state=0,solver ='liblinear',class_weight={0:0.03,1:1})#,solver ='lbfgs'\n",
    "#classifier.fit(data, y)\n",
    "classifier.fit(X_train, y_train)\n",
    "\n",
    "\n",
    "y_pred = classifier.predict(X_test)\n",
    "confusion_matrix = confusion_matrix(y_test, y_pred)\n",
    "print('confusion_matrix')\n",
    "print(confusion_matrix)\n",
    "print('accuracy_score',accuracy_score(y_test, y_pred))\n",
    "\n",
    "    # # 将模型应用于测试集并查看混淆矩阵\n",
    "# y_pred = classifier.predict(data)\n",
    "# confusion_matrix = confusion_matrix(y, y_pred)\n",
    "# print(confusion_matrix)\n",
    "#confusion_matrix[0 0]\n",
    "\n",
    "\n",
    "\n",
    "\n",
    "    #X_train, X_test, y_train, y_test\n",
    "\n",
    "from sklearn.metrics import roc_auc_score\n",
    "from sklearn.metrics import roc_curve\n",
    "\n",
    "#logit_roc_auc = roc_auc_score(y, classifier.predict(data))\n",
    "logit_roc_auc = roc_auc_score(y_test, classifier.predict(X_test))\n",
    "print('auc',logit_roc_auc);\n",
    "#print('j',j)\n",
    "#fpr, tpr, thresholds = roc_curve(y, classifier.predict_proba(data)[:,1])\n",
    "fpr, tpr, thresholds = roc_curve(y_test, classifier.predict_proba(X_test)[:,1])\n",
    "plt.figure()\n",
    "plt.plot(fpr, tpr, label='Logistic Regression  (area = %0.2f)' % logit_roc_auc)\n",
    "plt.plot([0, 1], [0, 1],'r--')\n",
    "plt.xlim([0.0, 1.0])\n",
    "plt.ylim([0.0, 1.05])\n",
    "plt.xlabel('False Positive Rate')\n",
    "plt.ylabel('True Positive Rate')\n",
    "plt.title('Receiver operating characteristic')\n",
    "plt.legend(loc=\"lower right\")\n",
    "plt.savefig('Log_ROC')\n",
    "plt.show()\n",
    "# if maxl<logit_roc_auc:\n",
    "#     maxl = logit_roc_auc\n",
    "#     maxj = j\n",
    "# j=j+0.1;\n",
    "# if j>1:\n",
    "#     break;\n",
    "\n",
    "# print('maxl',maxl)\n",
    "# print('maxj',maxj)\n"
   ]
  },
  {
   "cell_type": "code",
   "execution_count": 42,
   "metadata": {},
   "outputs": [
    {
     "name": "stderr",
     "output_type": "stream",
     "text": [
      "D:\\ANACONDA\\envs\\tensorflowgpu\\lib\\site-packages\\sklearn\\utils\\validation.py:578: DataConversionWarning: A column-vector y was passed when a 1d array was expected. Please change the shape of y to (n_samples, ), for example using ravel().\n",
      "  y = column_or_1d(y, warn=True)\n"
     ]
    },
    {
     "name": "stdout",
     "output_type": "stream",
     "text": [
      "confusion_matrix\n",
      "[[3874 2821]\n",
      " [  56 1340]]\n",
      "accuracy_score 0.6444197256210604\n",
      "auc 0.7692630817592567\n"
     ]
    },
    {
     "data": {
      "image/png": "[encoded data removed]",
      "text/plain": [
       "<Figure size 432x288 with 1 Axes>"
      ]
     },
     "metadata": {},
     "output_type": "display_data"
    }
   ],
   "source": [
    "#icu是死\n",
    "\n",
    "# 用來訓練的資料: 200901-201902 活著 6695死了+icu  1396 (100%)\n",
    "# 用來測試的資料: 200901-201902 活著 6695死了+icu  1396 (100%)\n",
    "\n",
    "\n",
    "\n",
    "\n",
    "import numpy as np\n",
    "import matplotlib.pyplot as plt\n",
    "import numpy as np\n",
    "import pandas as pd\n",
    "import seaborn as sns\n",
    "import matplotlib.pylab as plt\n",
    "from sklearn.preprocessing import StandardScaler\n",
    "from sklearn.cross_validation import train_test_split\n",
    "from sklearn.linear_model import LogisticRegression\n",
    "from sklearn.metrics import confusion_matrix\n",
    "from sklearn.metrics import classification_report\n",
    "from sklearn.metrics import accuracy_score\n",
    "# 读取数据并查看\n",
    "data = pd.read_excel('C:/Users/annas/Desktop/複製的Trauma個案資料(每月給安倫)/Trauma個案資料(每月給安倫)/all/all_input_0330_until2018_icu_is_die_python.xlsx')\n",
    "data\n",
    "data_dummy = pd.get_dummies(data[['gender']])\n",
    "man = []\n",
    "woman = []\n",
    "for i,g in enumerate(data.gender):\n",
    "    if g==1:\n",
    "        man.append(1)\n",
    "        woman.append(0)\n",
    "    elif g==2:\n",
    "        man.append(0)\n",
    "        woman.append(1)\n",
    "    elif g==0:\n",
    "        man.append(0)\n",
    "        woman.append(0)\n",
    "data = data.drop(labels = ['gender'],axis = 1)\n",
    "d_man = pd.DataFrame(man, columns=['man']) \n",
    "d_woman = pd.DataFrame(woman , columns=['woman']) \n",
    "data = data.join(d_man)\n",
    "data = data.join(d_woman)\n",
    "y = pd.read_excel('C:/Users/annas/Desktop/複製的Trauma個案資料(每月給安倫)/Trauma個案資料(每月給安倫)/all/all_result_0330_until2018_icu_is_die_to0_1python.xlsx')\n",
    "\n",
    "#X_train, X_test, y_train, y_test = train_test_split(data, y, test_size=0.3)\n",
    "\n",
    "X_train = data\n",
    "X_test = data\n",
    "y_train=y\n",
    "y_test =y\n",
    "\n",
    "classifier = LogisticRegression(penalty='l1',C=1,random_state=0,solver ='liblinear',class_weight={0:0.03,1:1})#,solver ='lbfgs'\n",
    "#classifier.fit(data, y)\n",
    "classifier.fit(X_train, y_train)\n",
    "\n",
    "\n",
    "y_pred = classifier.predict(X_test)\n",
    "confusion_matrix = confusion_matrix(y_test, y_pred)\n",
    "print('confusion_matrix')\n",
    "print(confusion_matrix)\n",
    "print('accuracy_score',accuracy_score(y_test, y_pred))\n",
    "\n",
    "    # # 将模型应用于测试集并查看混淆矩阵\n",
    "# y_pred = classifier.predict(data)\n",
    "# confusion_matrix = confusion_matrix(y, y_pred)\n",
    "# print(confusion_matrix)\n",
    "#confusion_matrix[0 0]\n",
    "\n",
    "\n",
    "\n",
    "\n",
    "    #X_train, X_test, y_train, y_test\n",
    "\n",
    "from sklearn.metrics import roc_auc_score\n",
    "from sklearn.metrics import roc_curve\n",
    "\n",
    "#logit_roc_auc = roc_auc_score(y, classifier.predict(data))\n",
    "logit_roc_auc = roc_auc_score(y_test, classifier.predict(X_test))\n",
    "print('auc',logit_roc_auc);\n",
    "#print('j',j)\n",
    "#fpr, tpr, thresholds = roc_curve(y, classifier.predict_proba(data)[:,1])\n",
    "fpr, tpr, thresholds = roc_curve(y_test, classifier.predict_proba(X_test)[:,1])\n",
    "plt.figure()\n",
    "plt.plot(fpr, tpr, label='Logistic Regression  (area = %0.2f)' % logit_roc_auc)\n",
    "plt.plot([0, 1], [0, 1],'r--')\n",
    "plt.xlim([0.0, 1.0])\n",
    "plt.ylim([0.0, 1.05])\n",
    "plt.xlabel('False Positive Rate')\n",
    "plt.ylabel('True Positive Rate')\n",
    "plt.title('Receiver operating characteristic')\n",
    "plt.legend(loc=\"lower right\")\n",
    "plt.savefig('Log_ROC')\n",
    "plt.show()\n",
    "# if maxl<logit_roc_auc:\n",
    "#     maxl = logit_roc_auc\n",
    "#     maxj = j\n",
    "# j=j+0.1;\n",
    "# if j>1:\n",
    "#     break;\n",
    "\n",
    "# print('maxl',maxl)\n",
    "# print('maxj',maxj)\n"
   ]
  },
  {
   "cell_type": "code",
   "execution_count": 29,
   "metadata": {
    "scrolled": false
   },
   "outputs": [
    {
     "name": "stderr",
     "output_type": "stream",
     "text": [
      "D:\\ANACONDA\\envs\\tensorflowgpu\\lib\\site-packages\\sklearn\\utils\\validation.py:578: DataConversionWarning: A column-vector y was passed when a 1d array was expected. Please change the shape of y to (n_samples, ), for example using ravel().\n",
      "  y = column_or_1d(y, warn=True)\n"
     ]
    },
    {
     "name": "stdout",
     "output_type": "stream",
     "text": [
      "name our features\n",
      "confusion_matrix\n",
      "[[1756  185]\n",
      " [  13   66]]\n",
      "accuracy_score 0.901980198019802\n",
      "auc 0.8700656714860537\n"
     ]
    },
    {
     "data": {
      "image/png": "[encoded data removed]",
      "text/plain": [
       "<Figure size 432x288 with 1 Axes>"
      ]
     },
     "metadata": {},
     "output_type": "display_data"
    },
    {
     "name": "stdout",
     "output_type": "stream",
     "text": [
      "--------------------------------------------------------------------------------\n",
      "name pluse_pressure\n",
      "confusion_matrix\n",
      "[[1216  725]\n",
      " [  21   58]]\n",
      "accuracy_score 0.6306930693069307\n",
      "auc 0.6803292052250243\n"
     ]
    },
    {
     "name": "stderr",
     "output_type": "stream",
     "text": [
      "D:\\ANACONDA\\envs\\tensorflowgpu\\lib\\site-packages\\sklearn\\utils\\validation.py:578: DataConversionWarning: A column-vector y was passed when a 1d array was expected. Please change the shape of y to (n_samples, ), for example using ravel().\n",
      "  y = column_or_1d(y, warn=True)\n"
     ]
    },
    {
     "data": {
      "image/png": "[encoded data removed]",
      "text/plain": [
       "<Figure size 432x288 with 1 Axes>"
      ]
     },
     "metadata": {},
     "output_type": "display_data"
    },
    {
     "name": "stdout",
     "output_type": "stream",
     "text": [
      "--------------------------------------------------------------------------------\n",
      "name pre_pluse_pressure\n",
      "confusion_matrix\n",
      "[[1211  730]\n",
      " [  18   61]]\n",
      "accuracy_score 0.6297029702970297\n",
      "auc 0.6980285511187629\n"
     ]
    },
    {
     "name": "stderr",
     "output_type": "stream",
     "text": [
      "D:\\ANACONDA\\envs\\tensorflowgpu\\lib\\site-packages\\sklearn\\utils\\validation.py:578: DataConversionWarning: A column-vector y was passed when a 1d array was expected. Please change the shape of y to (n_samples, ), for example using ravel().\n",
      "  y = column_or_1d(y, warn=True)\n"
     ]
    },
    {
     "data": {
      "image/png": "[encoded data removed]",
      "text/plain": [
       "<Figure size 432x288 with 1 Axes>"
      ]
     },
     "metadata": {},
     "output_type": "display_data"
    },
    {
     "name": "stderr",
     "output_type": "stream",
     "text": [
      "D:\\ANACONDA\\envs\\tensorflowgpu\\lib\\site-packages\\sklearn\\utils\\validation.py:578: DataConversionWarning: A column-vector y was passed when a 1d array was expected. Please change the shape of y to (n_samples, ), for example using ravel().\n",
      "  y = column_or_1d(y, warn=True)\n"
     ]
    },
    {
     "name": "stdout",
     "output_type": "stream",
     "text": [
      "--------------------------------------------------------------------------------\n",
      "name pulse_division_systolic_test\n",
      "confusion_matrix\n",
      "[[1439  502]\n",
      " [  24   55]]\n",
      "accuracy_score 0.7396039603960396\n",
      "auc 0.7187864796301007\n"
     ]
    },
    {
     "data": {
      "image/png": "[encoded data removed]",
      "text/plain": [
       "<Figure size 432x288 with 1 Axes>"
      ]
     },
     "metadata": {},
     "output_type": "display_data"
    },
    {
     "name": "stderr",
     "output_type": "stream",
     "text": [
      "D:\\ANACONDA\\envs\\tensorflowgpu\\lib\\site-packages\\sklearn\\utils\\validation.py:578: DataConversionWarning: A column-vector y was passed when a 1d array was expected. Please change the shape of y to (n_samples, ), for example using ravel().\n",
      "  y = column_or_1d(y, warn=True)\n"
     ]
    },
    {
     "name": "stdout",
     "output_type": "stream",
     "text": [
      "--------------------------------------------------------------------------------\n",
      "name pre_pulse_division_systolic_test\n",
      "confusion_matrix\n",
      "[[1927   14]\n",
      " [  36   43]]\n",
      "accuracy_score 0.9752475247524752\n",
      "auc 0.7685455102746204\n"
     ]
    },
    {
     "data": {
      "image/png": "[encoded data removed]",
      "text/plain": [
       "<Figure size 432x288 with 1 Axes>"
      ]
     },
     "metadata": {},
     "output_type": "display_data"
    },
    {
     "name": "stderr",
     "output_type": "stream",
     "text": [
      "D:\\ANACONDA\\envs\\tensorflowgpu\\lib\\site-packages\\sklearn\\utils\\validation.py:578: DataConversionWarning: A column-vector y was passed when a 1d array was expected. Please change the shape of y to (n_samples, ), for example using ravel().\n",
      "  y = column_or_1d(y, warn=True)\n"
     ]
    },
    {
     "name": "stdout",
     "output_type": "stream",
     "text": [
      "--------------------------------------------------------------------------------\n",
      "name comp\n",
      "confusion_matrix\n",
      "[[1889   52]\n",
      " [  67   12]]\n",
      "accuracy_score 0.941089108910891\n",
      "auc 0.5625542099531105\n"
     ]
    },
    {
     "data": {
      "image/png": "[encoded data removed]",
      "text/plain": [
       "<Figure size 432x288 with 1 Axes>"
      ]
     },
     "metadata": {},
     "output_type": "display_data"
    },
    {
     "name": "stderr",
     "output_type": "stream",
     "text": [
      "D:\\ANACONDA\\envs\\tensorflowgpu\\lib\\site-packages\\sklearn\\utils\\validation.py:578: DataConversionWarning: A column-vector y was passed when a 1d array was expected. Please change the shape of y to (n_samples, ), for example using ravel().\n",
      "  y = column_or_1d(y, warn=True)\n"
     ]
    },
    {
     "name": "stdout",
     "output_type": "stream",
     "text": [
      "--------------------------------------------------------------------------------\n",
      "name icu_los_1\n",
      "confusion_matrix\n",
      "[[1603  338]\n",
      " [  37   42]]\n",
      "accuracy_score 0.8143564356435643\n",
      "auc 0.678754263429395\n"
     ]
    },
    {
     "data": {
      "image/png": "[encoded data removed]",
      "text/plain": [
       "<Figure size 432x288 with 1 Axes>"
      ]
     },
     "metadata": {},
     "output_type": "display_data"
    },
    {
     "name": "stderr",
     "output_type": "stream",
     "text": [
      "D:\\ANACONDA\\envs\\tensorflowgpu\\lib\\site-packages\\sklearn\\utils\\validation.py:578: DataConversionWarning: A column-vector y was passed when a 1d array was expected. Please change the shape of y to (n_samples, ), for example using ravel().\n",
      "  y = column_or_1d(y, warn=True)\n"
     ]
    },
    {
     "name": "stdout",
     "output_type": "stream",
     "text": [
      "--------------------------------------------------------------------------------\n",
      "name RTS\n",
      "confusion_matrix\n",
      "[[1900   41]\n",
      " [  24   55]]\n",
      "accuracy_score 0.9678217821782178\n",
      "auc 0.8375396996197968\n"
     ]
    },
    {
     "data": {
      "image/png": "[encoded data removed]",
      "text/plain": [
       "<Figure size 432x288 with 1 Axes>"
      ]
     },
     "metadata": {},
     "output_type": "display_data"
    },
    {
     "name": "stderr",
     "output_type": "stream",
     "text": [
      "D:\\ANACONDA\\envs\\tensorflowgpu\\lib\\site-packages\\sklearn\\utils\\validation.py:578: DataConversionWarning: A column-vector y was passed when a 1d array was expected. Please change the shape of y to (n_samples, ), for example using ravel().\n",
      "  y = column_or_1d(y, warn=True)\n"
     ]
    },
    {
     "name": "stdout",
     "output_type": "stream",
     "text": [
      "--------------------------------------------------------------------------------\n",
      "name ISS\n",
      "confusion_matrix\n",
      "[[1705  236]\n",
      " [  10   69]]\n",
      "accuracy_score 0.8782178217821782\n",
      "auc 0.8759154552983912\n"
     ]
    },
    {
     "data": {
      "image/png": "[encoded data removed]",
      "text/plain": [
       "<Figure size 432x288 with 1 Axes>"
      ]
     },
     "metadata": {},
     "output_type": "display_data"
    },
    {
     "name": "stdout",
     "output_type": "stream",
     "text": [
      "--------------------------------------------------------------------------------\n",
      "name NISS\n",
      "confusion_matrix\n",
      "[[1666  275]\n",
      " [  10   69]]\n",
      "accuracy_score 0.8589108910891089\n",
      "auc 0.8658690874467683\n"
     ]
    },
    {
     "name": "stderr",
     "output_type": "stream",
     "text": [
      "D:\\ANACONDA\\envs\\tensorflowgpu\\lib\\site-packages\\sklearn\\utils\\validation.py:578: DataConversionWarning: A column-vector y was passed when a 1d array was expected. Please change the shape of y to (n_samples, ), for example using ravel().\n",
      "  y = column_or_1d(y, warn=True)\n"
     ]
    },
    {
     "data": {
      "image/png": "[encoded data removed]",
      "text/plain": [
       "<Figure size 432x288 with 1 Axes>"
      ]
     },
     "metadata": {},
     "output_type": "display_data"
    },
    {
     "name": "stderr",
     "output_type": "stream",
     "text": [
      "D:\\ANACONDA\\envs\\tensorflowgpu\\lib\\site-packages\\sklearn\\utils\\validation.py:578: DataConversionWarning: A column-vector y was passed when a 1d array was expected. Please change the shape of y to (n_samples, ), for example using ravel().\n",
      "  y = column_or_1d(y, warn=True)\n"
     ]
    },
    {
     "name": "stdout",
     "output_type": "stream",
     "text": [
      "--------------------------------------------------------------------------------\n",
      "name TRISS\n",
      "confusion_matrix\n",
      "[[1918   23]\n",
      " [  23   56]]\n",
      "accuracy_score 0.9772277227722772\n",
      "auc 0.8485055987061348\n"
     ]
    },
    {
     "data": {
      "image/png": "[encoded data removed]",
      "text/plain": [
       "<Figure size 432x288 with 1 Axes>"
      ]
     },
     "metadata": {},
     "output_type": "display_data"
    },
    {
     "name": "stderr",
     "output_type": "stream",
     "text": [
      "D:\\ANACONDA\\envs\\tensorflowgpu\\lib\\site-packages\\sklearn\\utils\\validation.py:578: DataConversionWarning: A column-vector y was passed when a 1d array was expected. Please change the shape of y to (n_samples, ), for example using ravel().\n",
      "  y = column_or_1d(y, warn=True)\n"
     ]
    },
    {
     "name": "stdout",
     "output_type": "stream",
     "text": [
      "--------------------------------------------------------------------------------\n",
      "name q_sofa\n",
      "confusion_matrix\n",
      "[[1902   39]\n",
      " [  30   49]]\n",
      "accuracy_score 0.9658415841584158\n",
      "auc 0.8000802144268581\n"
     ]
    },
    {
     "data": {
      "image/png": "[encoded data removed]",
      "text/plain": [
       "<Figure size 432x288 with 1 Axes>"
      ]
     },
     "metadata": {},
     "output_type": "display_data"
    }
   ],
   "source": [
    "#只看qsofa\n",
    "#icu是死\n",
    "\n",
    "# 用來訓練的資料: 200901-201902 活著 6695死了+icu  1396 (70%)\n",
    "# 用來測試的資料: 200901-201902 活著 6695死了+icu  1396 (30%)\n",
    "\n",
    "\n",
    "import numpy as np\n",
    "import matplotlib.pyplot as plt\n",
    "import numpy as np\n",
    "import pandas as pd\n",
    "import seaborn as sns\n",
    "import matplotlib.pylab as plt\n",
    "from sklearn.preprocessing import StandardScaler\n",
    "from sklearn.cross_validation import train_test_split\n",
    "from sklearn.linear_model import LogisticRegression\n",
    "from sklearn.metrics import confusion_matrix\n",
    "from sklearn.metrics import classification_report\n",
    "from sklearn.metrics import accuracy_score\n",
    "from sklearn.metrics import roc_auc_score\n",
    "from sklearn.metrics import roc_curve\n",
    "# 读取数据并查看\n",
    "data = pd.read_excel('C:/Users/annas/Desktop/複製的Trauma個案資料(每月給安倫)/Trauma個案資料(每月給安倫)/all/all_input_and_result_0331_until2018_TRSSpython.xlsx')\n",
    "\n",
    "X_train = data.loc[0:6069,data.columns[0:26]]\n",
    "pluse_pressure_train =  data.loc[0:6069,data.columns[22:23]]\n",
    "pre_pluse_pressure_train = data.loc[0:6069,data.columns[23:24]]\n",
    "pulse_division_systolic_train = data.loc[0:6069,data.columns[24:25]]\n",
    "pre_pulse_division_systolic_train = data.loc[0:6069,data.columns[25:26]]\n",
    "comp_train  = data.loc[0:6069,data.columns[26:27]] \n",
    "icu_los_1_train = data.loc[0:6069,data.columns[27:28]]\n",
    "los_train = data.loc[0:6069,data.columns[28:29]]\n",
    "RTS_train = data.loc[0:6069,data.columns[29:30]]\n",
    "ISS_train = data.loc[0:6069,data.columns[30:31]]\n",
    "NISS_train = data.loc[0:6069,data.columns[31:32]]\n",
    "TRISS_train = data.loc[0:6069,data.columns[32:33]]\n",
    "q_sofa_train = data.loc[0:6069,data.columns[33:34]]\n",
    "Y_train = data.loc[0:6069,data.columns[34:35]]\n",
    "\n",
    "X_test = data.loc[6070:8089,data.columns[0:26]]\n",
    "pluse_pressure_test =  data.loc[6070:8089,data.columns[22:23]]\n",
    "pre_pluse_pressure_test = data.loc[6070:8089,data.columns[23:24]]\n",
    "pulse_division_systolic_test = data.loc[6070:8089,data.columns[24:25]]\n",
    "pre_pulse_division_systolic_test = data.loc[6070:8089,data.columns[25:26]]\n",
    "comp_test  = data.loc[6070:8089,data.columns[26:27]] \n",
    "icu_los_1_test = data.loc[6070:8089,data.columns[27:28]]\n",
    "los_test = data.loc[6070:8089,data.columns[28:29]]\n",
    "RTS_test = data.loc[6070:8089,data.columns[29:30]]\n",
    "ISS_test = data.loc[6070:8089,data.columns[30:31]]\n",
    "NISS_test = data.loc[6070:8089,data.columns[31:32]]\n",
    "TRISS_test = data.loc[6070:8089,data.columns[32:33]]\n",
    "q_sofa_test = data.loc[6070:8089,data.columns[33:34]]\n",
    "Y_test = data.loc[6070:8089,data.columns[34:35]]\n",
    "\n",
    "\n",
    "\n",
    "def LR_ROC(x_train, y_train,x_test,y_test,name):\n",
    "    from sklearn.metrics import confusion_matrix\n",
    "    classifier = LogisticRegression(penalty='l1',C=1,random_state=0,solver ='liblinear',class_weight={0:0.03,1:1})#,solver ='lbfgs'\n",
    "    classifier.fit(x_train, y_train)\n",
    "    y_pred = classifier.predict(x_test)\n",
    "    confusion_matrix = confusion_matrix(y_test, y_pred)\n",
    "    print('name',name)\n",
    "    print('confusion_matrix')\n",
    "    print(confusion_matrix)\n",
    "    print('accuracy_score',accuracy_score(y_test, y_pred))\n",
    "    from sklearn.metrics import roc_auc_score\n",
    "    from sklearn.metrics import roc_curve\n",
    "    logit_roc_auc = roc_auc_score(y_test, classifier.predict(x_test))\n",
    "    print('auc',logit_roc_auc);\n",
    "    fpr, tpr, thresholds = roc_curve(y_test, classifier.predict_proba(x_test)[:,1])\n",
    "    plt.figure()\n",
    "    plt.plot(fpr, tpr, label='Logistic Regression  (area = %0.7f)' % logit_roc_auc)\n",
    "    plt.plot([0, 1], [0, 1],'r--')\n",
    "    plt.xlim([0.0, 1.0])\n",
    "    plt.ylim([0.0, 1.05])\n",
    "    plt.xlabel('False Positive Rate')\n",
    "    plt.ylabel('True Positive Rate')\n",
    "    plt.title('Receiver operating characteristic')\n",
    "    plt.legend(loc=\"lower right\")\n",
    "    plt.savefig('Log_ROC')\n",
    "    plt.show()\n",
    "\n",
    "LR_ROC(X_train,Y_train,X_test,Y_test,'our features')\n",
    "print(\"--------------------------------------------------------------------------------\")\n",
    "LR_ROC(pluse_pressure_train,Y_train,pluse_pressure_test,Y_test,'pluse_pressure')\n",
    "print(\"--------------------------------------------------------------------------------\")\n",
    "LR_ROC(pre_pluse_pressure_train,Y_train,pre_pluse_pressure_test,Y_test,'pre_pluse_pressure')\n",
    "print(\"--------------------------------------------------------------------------------\")\n",
    "LR_ROC(pulse_division_systolic_train,Y_train,pulse_division_systolic_test,Y_test,'pulse_division_systolic_test')\n",
    "print(\"--------------------------------------------------------------------------------\")\n",
    "LR_ROC(pre_pulse_division_systolic_train,Y_train,pre_pulse_division_systolic_test,Y_test,'pre_pulse_division_systolic_test')\n",
    "print(\"--------------------------------------------------------------------------------\")\n",
    "LR_ROC(comp_train,Y_train,comp_test,Y_test,'comp')\n",
    "print(\"--------------------------------------------------------------------------------\")\n",
    "LR_ROC(icu_los_1_train,Y_train,icu_los_1_test,Y_test,'icu_los_1')\n",
    "print(\"--------------------------------------------------------------------------------\")\n",
    "LR_ROC(RTS_train,Y_train,RTS_test,Y_test,'RTS')\n",
    "print(\"--------------------------------------------------------------------------------\")\n",
    "LR_ROC(ISS_train,Y_train,ISS_test,Y_test,'ISS')\n",
    "print(\"--------------------------------------------------------------------------------\")\n",
    "LR_ROC(NISS_train,Y_train,NISS_test,Y_test,'NISS')\n",
    "print(\"--------------------------------------------------------------------------------\")\n",
    "LR_ROC(TRISS_train,Y_train,TRISS_test,Y_test,'TRISS')\n",
    "print(\"--------------------------------------------------------------------------------\")\n",
    "LR_ROC(q_sofa_train,Y_train,q_sofa_test,Y_test,'q_sofa')\n",
    "\n"
   ]
  },
  {
   "cell_type": "code",
   "execution_count": null,
   "metadata": {},
   "outputs": [],
   "source": []
  }
 ],
 "metadata": {
  "kernelspec": {
   "display_name": "Python (tensorflowgpu)",
   "language": "python",
   "name": "tensorflowgpu"
  },
  "language_info": {
   "codemirror_mode": {
    "name": "ipython",
    "version": 3
   },
   "file_extension": ".py",
   "mimetype": "text/x-python",
   "name": "python",
   "nbconvert_exporter": "python",
   "pygments_lexer": "ipython3",
   "version": "3.5.5"
  }
 },
 "nbformat": 4,
 "nbformat_minor": 2
}
