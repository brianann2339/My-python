{
 "cells": [
  {
   "cell_type": "code",
   "execution_count": 1,
   "metadata": {},
   "outputs": [
    {
     "name": "stdout",
     "output_type": "stream",
     "text": [
      "env: KERAS_BACKEND=tensorflow\n"
     ]
    }
   ],
   "source": [
    "%env KERAS_BACKEND=tensorflow"
   ]
  },
  {
   "cell_type": "code",
   "execution_count": 2,
   "metadata": {},
   "outputs": [
    {
     "name": "stderr",
     "output_type": "stream",
     "text": [
      "Using TensorFlow backend.\n"
     ]
    }
   ],
   "source": [
    "# Keras functions\n",
    "from keras.models import Sequential\n",
    "from keras.layers import Dense, Activation\n",
    "from keras.optimizers import SGD\n",
    "\n",
    "# Keras dataset\n",
    "from keras.datasets import mnist\n",
    "\n",
    "# Keras utils\n",
    "from keras.utils import np_utils"
   ]
  },
  {
   "cell_type": "markdown",
   "metadata": {},
   "source": [
    "### 讀mnist"
   ]
  },
  {
   "cell_type": "code",
   "execution_count": 9,
   "metadata": {},
   "outputs": [],
   "source": [
    "(x_train0, y_train0), (x_test0, y_test0) = mnist.load_data()"
   ]
  },
  {
   "cell_type": "markdown",
   "metadata": {},
   "source": [
    "### 看大小"
   ]
  },
  {
   "cell_type": "code",
   "execution_count": 10,
   "metadata": {},
   "outputs": [
    {
     "name": "stdout",
     "output_type": "stream",
     "text": [
      "訓練數量: 60000  ,大小: 28 x 28\n",
      "測試數量: 10000  ,大小: 28 x 28\n"
     ]
    }
   ],
   "source": [
    "print(\"訓練數量: %d  ,大小: %d x %d\" %x_train0.shape)\n",
    "print(\"測試數量: %d  ,大小: %d x %d\" %x_test0.shape)\n"
   ]
  },
  {
   "cell_type": "markdown",
   "metadata": {},
   "source": [
    "### 改成一維\n"
   ]
  },
  {
   "cell_type": "code",
   "execution_count": 8,
   "metadata": {},
   "outputs": [],
   "source": [
    "x_train = x_train0.reshape(60000, 784)\n",
    "x_test = x_test0.reshape(10000, 784)"
   ]
  },
  {
   "cell_type": "code",
   "execution_count": 16,
   "metadata": {},
   "outputs": [],
   "source": [
    "from keras.models import Model\n",
    "from keras.layers import Input\n",
    "from keras.layers import concatenate, add"
   ]
  },
  {
   "cell_type": "code",
   "execution_count": 18,
   "metadata": {},
   "outputs": [],
   "source": [
    "x_train = x_train-x_train.min()\n",
    "x_train = x_train/x_train.max()\n",
    "\n",
    "x_test = x_test-x_test.min()\n",
    "x_test = x_test/x_test.max()\n",
    "y_train = np_utils.to_categorical(y_train0, 10)\n",
    "y_test = np_utils.to_categorical(y_test0, 10)\n"
   ]
  },
  {
   "cell_type": "markdown",
   "metadata": {},
   "source": [
    "### function api\n",
    "\n",
    "\n"
   ]
  },
  {
   "cell_type": "markdown",
   "metadata": {},
   "source": [
    "\n",
    "<img src=\"20190426hw_pt.png\" alt=\"drawing\" style=\"width: 400px;\"/>"
   ]
  },
  {
   "cell_type": "code",
   "execution_count": 70,
   "metadata": {},
   "outputs": [
    {
     "name": "stdout",
     "output_type": "stream",
     "text": [
      "__________________________________________________________________________________________________\n",
      "Layer (type)                    Output Shape         Param #     Connected to                     \n",
      "==================================================================================================\n",
      "input_23 (InputLayer)           (None, 784)          0                                            \n",
      "__________________________________________________________________________________________________\n",
      "dense_173 (Dense)               (None, 300)          235500      input_23[0][0]                   \n",
      "__________________________________________________________________________________________________\n",
      "dense_174 (Dense)               (None, 300)          235500      input_23[0][0]                   \n",
      "__________________________________________________________________________________________________\n",
      "dense_175 (Dense)               (None, 200)          60200       dense_173[0][0]                  \n",
      "__________________________________________________________________________________________________\n",
      "dense_176 (Dense)               (None, 150)          45150       dense_173[0][0]                  \n",
      "__________________________________________________________________________________________________\n",
      "dense_177 (Dense)               (None, 200)          60200       dense_174[0][0]                  \n",
      "__________________________________________________________________________________________________\n",
      "dense_178 (Dense)               (None, 150)          45150       dense_174[0][0]                  \n",
      "__________________________________________________________________________________________________\n",
      "concatenate_51 (Concatenate)    (None, 700)          0           dense_175[0][0]                  \n",
      "                                                                 dense_176[0][0]                  \n",
      "                                                                 dense_177[0][0]                  \n",
      "                                                                 dense_178[0][0]                  \n",
      "__________________________________________________________________________________________________\n",
      "dense_179 (Dense)               (None, 10)           7010        concatenate_51[0][0]             \n",
      "==================================================================================================\n",
      "Total params: 688,710\n",
      "Trainable params: 688,710\n",
      "Non-trainable params: 0\n",
      "__________________________________________________________________________________________________\n"
     ]
    }
   ],
   "source": [
    "f_1 = Dense(300, activation='relu')\n",
    "f_2 = Dense(300, activation='relu')\n",
    "f_3 = Dense(200, activation='elu')\n",
    "f_4 = Dense(150, activation='relu')\n",
    "f_5 = Dense(200, activation='elu')\n",
    "f_6 = Dense(150, activation='relu')\n",
    "f_7 = Dense(10, activation='relu')\n",
    "x = Input(shape=(784,))\n",
    "\n",
    "h_1 = f_1(x)\n",
    "h_2 = f_2(x)\n",
    "h_3 = f_3(h_1)\n",
    "h_4 = f_4(h_1)\n",
    "h_5 = f_5(h_2)\n",
    "h_6 = f_6(h_2)\n",
    "h_7 = concatenate([h_3, h_4,h_5,h_6])\n",
    "y = f_7(h_7)\n",
    "\n",
    "\n",
    "model = Model(x, y)\n",
    "model.summary()"
   ]
  },
  {
   "cell_type": "code",
   "execution_count": 63,
   "metadata": {},
   "outputs": [
    {
     "name": "stdout",
     "output_type": "stream",
     "text": [
      "Epoch 1/50\n",
      "60000/60000 [==============================] - 6s 92us/step - loss: 0.0507 - acc: 0.6313\n",
      "Epoch 2/50\n",
      "60000/60000 [==============================] - 5s 81us/step - loss: 0.0260 - acc: 0.8667\n",
      "Epoch 3/50\n",
      "60000/60000 [==============================] - 5s 80us/step - loss: 0.0196 - acc: 0.9122\n",
      "Epoch 4/50\n",
      "60000/60000 [==============================] - 5s 81us/step - loss: 0.0174 - acc: 0.9237\n",
      "Epoch 5/50\n",
      "60000/60000 [==============================] - 5s 82us/step - loss: 0.0159 - acc: 0.9317\n",
      "Epoch 6/50\n",
      "60000/60000 [==============================] - 5s 81us/step - loss: 0.0148 - acc: 0.9376\n",
      "Epoch 7/50\n",
      "60000/60000 [==============================] - 5s 82us/step - loss: 0.0139 - acc: 0.9418\n",
      "Epoch 8/50\n",
      "60000/60000 [==============================] - 5s 85us/step - loss: 0.0131 - acc: 0.9460\n",
      "Epoch 9/50\n",
      "60000/60000 [==============================] - 5s 84us/step - loss: 0.0125 - acc: 0.9491\n",
      "Epoch 10/50\n",
      "60000/60000 [==============================] - 5s 84us/step - loss: 0.0120 - acc: 0.9522\n",
      "Epoch 11/50\n",
      "60000/60000 [==============================] - 5s 86us/step - loss: 0.0115 - acc: 0.9543\n",
      "Epoch 12/50\n",
      "60000/60000 [==============================] - 5s 84us/step - loss: 0.0110 - acc: 0.9566\n",
      "Epoch 13/50\n",
      "60000/60000 [==============================] - 5s 85us/step - loss: 0.0107 - acc: 0.9589\n",
      "Epoch 14/50\n",
      "60000/60000 [==============================] - 5s 86us/step - loss: 0.0103 - acc: 0.9601\n",
      "Epoch 15/50\n",
      "60000/60000 [==============================] - 5s 85us/step - loss: 0.0100 - acc: 0.9616\n",
      "Epoch 16/50\n",
      "60000/60000 [==============================] - 5s 85us/step - loss: 0.0097 - acc: 0.9631\n",
      "Epoch 17/50\n",
      "60000/60000 [==============================] - 5s 86us/step - loss: 0.0094 - acc: 0.9644\n",
      "Epoch 18/50\n",
      "60000/60000 [==============================] - 5s 84us/step - loss: 0.0092 - acc: 0.9654\n",
      "Epoch 19/50\n",
      "60000/60000 [==============================] - 5s 83us/step - loss: 0.0090 - acc: 0.9669\n",
      "Epoch 20/50\n",
      "60000/60000 [==============================] - 5s 86us/step - loss: 0.0088 - acc: 0.9678\n",
      "Epoch 21/50\n",
      "60000/60000 [==============================] - 5s 86us/step - loss: 0.0086 - acc: 0.9687\n",
      "Epoch 22/50\n",
      "60000/60000 [==============================] - 5s 84us/step - loss: 0.0084 - acc: 0.9696\n",
      "Epoch 23/50\n",
      "60000/60000 [==============================] - 5s 84us/step - loss: 0.0082 - acc: 0.9706\n",
      "Epoch 24/50\n",
      "60000/60000 [==============================] - 5s 87us/step - loss: 0.0080 - acc: 0.9717\n",
      "Epoch 25/50\n",
      "60000/60000 [==============================] - 5s 84us/step - loss: 0.0079 - acc: 0.9724\n",
      "Epoch 26/50\n",
      "60000/60000 [==============================] - 5s 84us/step - loss: 0.0077 - acc: 0.9730\n",
      "Epoch 27/50\n",
      "60000/60000 [==============================] - 5s 86us/step - loss: 0.0076 - acc: 0.9739\n",
      "Epoch 28/50\n",
      "60000/60000 [==============================] - 5s 87us/step - loss: 0.0074 - acc: 0.9742\n",
      "Epoch 29/50\n",
      "60000/60000 [==============================] - 5s 86us/step - loss: 0.0073 - acc: 0.9749\n",
      "Epoch 30/50\n",
      "60000/60000 [==============================] - 5s 88us/step - loss: 0.0072 - acc: 0.9753\n",
      "Epoch 31/50\n",
      "60000/60000 [==============================] - 5s 86us/step - loss: 0.0071 - acc: 0.9758\n",
      "Epoch 32/50\n",
      "60000/60000 [==============================] - 5s 86us/step - loss: 0.0070 - acc: 0.9764\n",
      "Epoch 33/50\n",
      "60000/60000 [==============================] - 5s 89us/step - loss: 0.0069 - acc: 0.9769\n",
      "Epoch 34/50\n",
      "60000/60000 [==============================] - 5s 86us/step - loss: 0.0068 - acc: 0.9776\n",
      "Epoch 35/50\n",
      "60000/60000 [==============================] - 5s 87us/step - loss: 0.0067 - acc: 0.9776\n",
      "Epoch 36/50\n",
      "60000/60000 [==============================] - 5s 89us/step - loss: 0.0066 - acc: 0.9780\n",
      "Epoch 37/50\n",
      "60000/60000 [==============================] - 5s 88us/step - loss: 0.0065 - acc: 0.9787\n",
      "Epoch 38/50\n",
      "60000/60000 [==============================] - 5s 88us/step - loss: 0.0064 - acc: 0.9791\n",
      "Epoch 39/50\n",
      "60000/60000 [==============================] - 5s 90us/step - loss: 0.0063 - acc: 0.9795\n",
      "Epoch 40/50\n",
      "60000/60000 [==============================] - 5s 89us/step - loss: 0.0062 - acc: 0.9799\n",
      "Epoch 41/50\n",
      "60000/60000 [==============================] - 5s 89us/step - loss: 0.0061 - acc: 0.9804\n",
      "Epoch 42/50\n",
      "60000/60000 [==============================] - 5s 90us/step - loss: 0.0060 - acc: 0.9804\n",
      "Epoch 43/50\n",
      "60000/60000 [==============================] - 5s 89us/step - loss: 0.0060 - acc: 0.9808\n",
      "Epoch 44/50\n",
      "60000/60000 [==============================] - 5s 88us/step - loss: 0.0059 - acc: 0.9809\n",
      "Epoch 45/50\n",
      "60000/60000 [==============================] - 5s 90us/step - loss: 0.0058 - acc: 0.9816\n",
      "Epoch 46/50\n",
      "60000/60000 [==============================] - 5s 88us/step - loss: 0.0058 - acc: 0.9819\n",
      "Epoch 47/50\n",
      "60000/60000 [==============================] - 6s 94us/step - loss: 0.0057 - acc: 0.9821\n",
      "Epoch 48/50\n",
      "60000/60000 [==============================] - 5s 90us/step - loss: 0.0056 - acc: 0.9823\n",
      "Epoch 49/50\n",
      "60000/60000 [==============================] - 5s 88us/step - loss: 0.0056 - acc: 0.9826\n",
      "Epoch 50/50\n",
      "60000/60000 [==============================] - 5s 88us/step - loss: 0.0055 - acc: 0.9829\n"
     ]
    }
   ],
   "source": [
    "model.compile(loss='mse', optimizer=SGD(lr=0.03), metrics=['accuracy'])\n",
    "X = model.fit(x_train, y_train, batch_size=50, epochs=50)"
   ]
  },
  {
   "cell_type": "markdown",
   "metadata": {},
   "source": [
    "### 印出圖"
   ]
  },
  {
   "cell_type": "code",
   "execution_count": 66,
   "metadata": {},
   "outputs": [
    {
     "data": {
      "text/plain": [
       "Text(0.5,1,'model accuracy')"
      ]
     },
     "execution_count": 66,
     "metadata": {},
     "output_type": "execute_result"
    },
    {
     "data": {
      "image/png": "[encoded data removed]",
      "text/plain": [
       "<Figure size 432x288 with 1 Axes>"
      ]
     },
     "metadata": {},
     "output_type": "display_data"
    }
   ],
   "source": [
    "import matplotlib.pyplot as plt\n",
    "\n",
    "plt.plot(X.history['acc'])\n",
    "\n",
    "plt.xlabel('epoch')\n",
    "plt.ylabel('accuracy')\n",
    "plt.title('model accuracy')\n",
    "\n"
   ]
  },
  {
   "cell_type": "markdown",
   "metadata": {},
   "source": [
    "### 結果"
   ]
  },
  {
   "cell_type": "code",
   "execution_count": 69,
   "metadata": {},
   "outputs": [
    {
     "name": "stdout",
     "output_type": "stream",
     "text": [
      "最後 Loss:  0.005505912248336245\n",
      "最後 accuracy:  0.982850002894799\n"
     ]
    }
   ],
   "source": [
    "print(\"最後 Loss: \",X.history['loss'][-1])\n",
    "print(\"最後 accuracy: \",X.history['acc'][-1])"
   ]
  }
 ],
 "metadata": {
  "kernelspec": {
   "display_name": "Python (tensorflowgpu)",
   "language": "python",
   "name": "tensorflowgpu"
  },
  "language_info": {
   "codemirror_mode": {
    "name": "ipython",
    "version": 3
   },
   "file_extension": ".py",
   "mimetype": "text/x-python",
   "name": "python",
   "nbconvert_exporter": "python",
   "pygments_lexer": "ipython3",
   "version": "3.5.5"
  }
 },
 "nbformat": 4,
 "nbformat_minor": 2
}
