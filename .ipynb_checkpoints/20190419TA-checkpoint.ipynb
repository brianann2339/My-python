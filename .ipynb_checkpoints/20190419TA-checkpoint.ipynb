{
 "cells": [
  {
   "cell_type": "code",
   "execution_count": 3,
   "metadata": {},
   "outputs": [
    {
     "name": "stderr",
     "output_type": "stream",
     "text": [
      "Using TensorFlow backend.\n"
     ]
    }
   ],
   "source": [
    "from keras.datasets import mnist "
   ]
  },
  {
   "cell_type": "code",
   "execution_count": 4,
   "metadata": {},
   "outputs": [],
   "source": [
    "%matplotlib inline\n",
    "import numpy as np\n",
    "import matplotlib.pyplot as plt"
   ]
  },
  {
   "cell_type": "code",
   "execution_count": 5,
   "metadata": {},
   "outputs": [],
   "source": [
    "(x_train,y_train),(x_test,y_test) = mnist.load_data()"
   ]
  },
  {
   "cell_type": "code",
   "execution_count": 6,
   "metadata": {},
   "outputs": [],
   "source": [
    "#mnist.load_data()會幫我存到電腦某個地方之後教會比較快"
   ]
  },
  {
   "cell_type": "code",
   "execution_count": 7,
   "metadata": {},
   "outputs": [
    {
     "data": {
      "text/plain": [
       "10000"
      ]
     },
     "execution_count": 7,
     "metadata": {},
     "output_type": "execute_result"
    }
   ],
   "source": [
    "len(x_test)"
   ]
  },
  {
   "cell_type": "code",
   "execution_count": 8,
   "metadata": {},
   "outputs": [
    {
     "data": {
      "text/plain": [
       "60000"
      ]
     },
     "execution_count": 8,
     "metadata": {},
     "output_type": "execute_result"
    }
   ],
   "source": [
    "len(x_train)"
   ]
  },
  {
   "cell_type": "code",
   "execution_count": 9,
   "metadata": {},
   "outputs": [],
   "source": [
    "X = x_train[8794]"
   ]
  },
  {
   "cell_type": "code",
   "execution_count": 10,
   "metadata": {},
   "outputs": [
    {
     "data": {
      "text/plain": [
       "(28, 28)"
      ]
     },
     "execution_count": 10,
     "metadata": {},
     "output_type": "execute_result"
    }
   ],
   "source": [
    "X.shape"
   ]
  },
  {
   "cell_type": "code",
   "execution_count": 11,
   "metadata": {},
   "outputs": [
    {
     "data": {
      "text/plain": [
       "<matplotlib.image.AxesImage at 0x1b7b04e63c8>"
      ]
     },
     "execution_count": 11,
     "metadata": {},
     "output_type": "execute_result"
    },
    {
     "data": {
      "image/png": "[encoded data removed]",
      "text/plain": [
       "<Figure size 432x288 with 1 Axes>"
      ]
     },
     "metadata": {},
     "output_type": "display_data"
    }
   ],
   "source": [
    "plt.imshow(X,cmap = 'Greys')"
   ]
  },
  {
   "cell_type": "code",
   "execution_count": 12,
   "metadata": {},
   "outputs": [
    {
     "data": {
      "text/plain": [
       "3"
      ]
     },
     "execution_count": 12,
     "metadata": {},
     "output_type": "execute_result"
    }
   ],
   "source": [
    "y_train[8794]"
   ]
  },
  {
   "cell_type": "code",
   "execution_count": 13,
   "metadata": {},
   "outputs": [
    {
     "data": {
      "text/plain": [
       "(60000, 28, 28)"
      ]
     },
     "execution_count": 13,
     "metadata": {},
     "output_type": "execute_result"
    }
   ],
   "source": [
    "x_train.shape#60000筆資料，每一張是28*28"
   ]
  },
  {
   "cell_type": "code",
   "execution_count": 14,
   "metadata": {},
   "outputs": [],
   "source": [
    "x_train = x_train.reshape(60000,784)\n",
    "x_test = x_test.reshape(10000,784)"
   ]
  },
  {
   "cell_type": "code",
   "execution_count": 15,
   "metadata": {},
   "outputs": [
    {
     "data": {
      "text/plain": [
       "(784,)"
      ]
     },
     "execution_count": 15,
     "metadata": {},
     "output_type": "execute_result"
    }
   ],
   "source": [
    "x_train[8794].shape"
   ]
  },
  {
   "cell_type": "code",
   "execution_count": 16,
   "metadata": {},
   "outputs": [],
   "source": [
    "from keras.utils import np_utils"
   ]
  },
  {
   "cell_type": "code",
   "execution_count": 17,
   "metadata": {},
   "outputs": [
    {
     "data": {
      "text/plain": [
       "array([5, 0, 4, ..., 5, 6, 8], dtype=uint8)"
      ]
     },
     "execution_count": 17,
     "metadata": {},
     "output_type": "execute_result"
    }
   ],
   "source": [
    "y_train"
   ]
  },
  {
   "cell_type": "code",
   "execution_count": 18,
   "metadata": {},
   "outputs": [],
   "source": [
    "y_train = np_utils.to_categorical(y_train,10)\n",
    "y_test = np_utils.to_categorical(y_test,10)"
   ]
  },
  {
   "cell_type": "code",
   "execution_count": 19,
   "metadata": {},
   "outputs": [
    {
     "data": {
      "text/plain": [
       "array([0., 0., 0., 1., 0., 0., 0., 0., 0., 0.], dtype=float32)"
      ]
     },
     "execution_count": 19,
     "metadata": {},
     "output_type": "execute_result"
    }
   ],
   "source": [
    "y_train[8794]"
   ]
  },
  {
   "cell_type": "code",
   "execution_count": 20,
   "metadata": {},
   "outputs": [],
   "source": [
    "from keras.models import Sequential\n",
    "from keras.layers import Dense,Activation\n",
    "from keras.optimizers import SGD"
   ]
  },
  {
   "cell_type": "code",
   "execution_count": 21,
   "metadata": {},
   "outputs": [],
   "source": [
    "model_1 = Sequential()\n",
    "#打開Sequential型的函數學習機"
   ]
  },
  {
   "cell_type": "code",
   "execution_count": 22,
   "metadata": {},
   "outputs": [
    {
     "name": "stdout",
     "output_type": "stream",
     "text": [
      "WARNING:tensorflow:From D:\\ANACONDA\\envs\\tensorflowgpu\\lib\\site-packages\\tensorflow\\python\\framework\\op_def_library.py:263: colocate_with (from tensorflow.python.framework.ops) is deprecated and will be removed in a future version.\n",
      "Instructions for updating:\n",
      "Colocations handled automatically by placer.\n"
     ]
    }
   ],
   "source": [
    "#input:784維\n",
    "#output:10維 [0123456789]\n",
    "\n",
    "\n",
    "model_1.add(Dense(4,input_dim = 784))#第一個隱藏層 4個神經元\n",
    "model_1.add(Activation('sigmoid'))\n",
    "#所以輸出是4為"
   ]
  },
  {
   "cell_type": "code",
   "execution_count": 23,
   "metadata": {},
   "outputs": [],
   "source": [
    "model_1.add(Dense(2))#第二個隱藏層 2個神經元 前面的輸出有4維 不但是用寫有幾維的輸入 \n",
    "#因為因為它是接下去的\n",
    "\n",
    "model_1.add(Activation('sigmoid'))"
   ]
  },
  {
   "cell_type": "code",
   "execution_count": 24,
   "metadata": {},
   "outputs": [],
   "source": [
    "model_1.add(Dense(10))#輸出\n",
    "model_1.add(Activation('softmax'))\n",
    "#結果會是矩陣 會顯示像是[0.5 0.5 0 0 0 0 0 0 0 0 ] 意思是代表 \n",
    "#這個圖是0有0.5的機率 這個圖是1有0.5的機率\n",
    "#但也有可能是負值 \n",
    "#所以用softmax從小到大排 然後給他重新定義的值 \n",
    "#但是小的會是小的 大的會是大的 然後矩陣餒10個值加起來是1 "
   ]
  },
  {
   "cell_type": "code",
   "execution_count": 25,
   "metadata": {},
   "outputs": [],
   "source": [
    "model_1.compile(loss='mse',optimizer=SGD(lr = 0.087),metrics=['accuracy'])\n",
    "#optimizer要怎麼最佳化"
   ]
  },
  {
   "cell_type": "code",
   "execution_count": 26,
   "metadata": {},
   "outputs": [
    {
     "name": "stdout",
     "output_type": "stream",
     "text": [
      "_________________________________________________________________\n",
      "Layer (type)                 Output Shape              Param #   \n",
      "=================================================================\n",
      "dense_1 (Dense)              (None, 4)                 3140      \n",
      "_________________________________________________________________\n",
      "activation_1 (Activation)    (None, 4)                 0         \n",
      "_________________________________________________________________\n",
      "dense_2 (Dense)              (None, 2)                 10        \n",
      "_________________________________________________________________\n",
      "activation_2 (Activation)    (None, 2)                 0         \n",
      "_________________________________________________________________\n",
      "dense_3 (Dense)              (None, 10)                30        \n",
      "_________________________________________________________________\n",
      "activation_3 (Activation)    (None, 10)                0         \n",
      "=================================================================\n",
      "Total params: 3,180\n",
      "Trainable params: 3,180\n",
      "Non-trainable params: 0\n",
      "_________________________________________________________________\n"
     ]
    }
   ],
   "source": [
    "model_1.summary()"
   ]
  },
  {
   "cell_type": "code",
   "execution_count": 27,
   "metadata": {},
   "outputs": [
    {
     "data": {
      "text/plain": [
       "3140"
      ]
     },
     "execution_count": 27,
     "metadata": {},
     "output_type": "execute_result"
    }
   ],
   "source": [
    "#784個輸入\n",
    "#4個神經元\n",
    "#weight = 784*4\n",
    "#每一個神經元有一個bius\n",
    "784*4+4"
   ]
  },
  {
   "cell_type": "code",
   "execution_count": 28,
   "metadata": {},
   "outputs": [
    {
     "data": {
      "text/plain": [
       "10"
      ]
     },
     "execution_count": 28,
     "metadata": {},
     "output_type": "execute_result"
    }
   ],
   "source": [
    "#4個輸入\n",
    "#2個神經元\n",
    "#weight = 4*2\n",
    "#每一個神經元有一個bius\n",
    "4*2+2"
   ]
  },
  {
   "cell_type": "code",
   "execution_count": 29,
   "metadata": {},
   "outputs": [
    {
     "data": {
      "text/plain": [
       "30"
      ]
     },
     "execution_count": 29,
     "metadata": {},
     "output_type": "execute_result"
    }
   ],
   "source": [
    "#2個輸入\n",
    "#10個神經元\n",
    "#weight = 2*10\n",
    "#每一個神經元有一個bius\n",
    "2*10+10"
   ]
  },
  {
   "cell_type": "code",
   "execution_count": 30,
   "metadata": {},
   "outputs": [
    {
     "name": "stdout",
     "output_type": "stream",
     "text": [
      "WARNING:tensorflow:From D:\\ANACONDA\\envs\\tensorflowgpu\\lib\\site-packages\\tensorflow\\python\\ops\\math_ops.py:3066: to_int32 (from tensorflow.python.ops.math_ops) is deprecated and will be removed in a future version.\n",
      "Instructions for updating:\n",
      "Use tf.cast instead.\n",
      "Train on 60000 samples, validate on 10000 samples\n",
      "Epoch 1/20\n",
      "60000/60000 [==============================] - 1s 11us/step - loss: 0.0902 - acc: 0.1124 - val_loss: 0.0898 - val_acc: 0.1135\n",
      "Epoch 2/20\n",
      "60000/60000 [==============================] - 1s 9us/step - loss: 0.0896 - acc: 0.1124 - val_loss: 0.0895 - val_acc: 0.1135\n",
      "Epoch 3/20\n",
      "60000/60000 [==============================] - 1s 9us/step - loss: 0.0894 - acc: 0.1124 - val_loss: 0.0893 - val_acc: 0.1135\n",
      "Epoch 4/20\n",
      "60000/60000 [==============================] - 1s 9us/step - loss: 0.0892 - acc: 0.1124 - val_loss: 0.0892 - val_acc: 0.1135\n",
      "Epoch 5/20\n",
      "60000/60000 [==============================] - 1s 9us/step - loss: 0.0891 - acc: 0.1124 - val_loss: 0.0890 - val_acc: 0.1135\n",
      "Epoch 6/20\n",
      "60000/60000 [==============================] - 1s 9us/step - loss: 0.0889 - acc: 0.1124 - val_loss: 0.0888 - val_acc: 0.1135\n",
      "Epoch 7/20\n",
      "60000/60000 [==============================] - 1s 10us/step - loss: 0.0887 - acc: 0.1124 - val_loss: 0.0886 - val_acc: 0.1135\n",
      "Epoch 8/20\n",
      "60000/60000 [==============================] - 1s 9us/step - loss: 0.0885 - acc: 0.1124 - val_loss: 0.0884 - val_acc: 0.1135\n",
      "Epoch 9/20\n",
      "60000/60000 [==============================] - 1s 9us/step - loss: 0.0883 - acc: 0.1124 - val_loss: 0.0882 - val_acc: 0.1135\n",
      "Epoch 10/20\n",
      "60000/60000 [==============================] - 1s 9us/step - loss: 0.0881 - acc: 0.1124 - val_loss: 0.0879 - val_acc: 0.1135\n",
      "Epoch 11/20\n",
      "60000/60000 [==============================] - 1s 9us/step - loss: 0.0878 - acc: 0.1124 - val_loss: 0.0876 - val_acc: 0.1135\n",
      "Epoch 12/20\n",
      "60000/60000 [==============================] - 1s 9us/step - loss: 0.0875 - acc: 0.1124 - val_loss: 0.0872 - val_acc: 0.1135\n",
      "Epoch 13/20\n",
      "60000/60000 [==============================] - 1s 9us/step - loss: 0.0871 - acc: 0.1124 - val_loss: 0.0868 - val_acc: 0.1135\n",
      "Epoch 14/20\n",
      "60000/60000 [==============================] - 1s 9us/step - loss: 0.0867 - acc: 0.1124 - val_loss: 0.0863 - val_acc: 0.1135\n",
      "Epoch 15/20\n",
      "60000/60000 [==============================] - 1s 9us/step - loss: 0.0860 - acc: 0.1124 - val_loss: 0.0856 - val_acc: 0.1135\n",
      "Epoch 16/20\n",
      "60000/60000 [==============================] - 1s 9us/step - loss: 0.0854 - acc: 0.1124 - val_loss: 0.0849 - val_acc: 0.1135\n",
      "Epoch 17/20\n",
      "60000/60000 [==============================] - 1s 9us/step - loss: 0.0848 - acc: 0.1124 - val_loss: 0.0843 - val_acc: 0.1135\n",
      "Epoch 18/20\n",
      "60000/60000 [==============================] - 1s 9us/step - loss: 0.0842 - acc: 0.1124 - val_loss: 0.0838 - val_acc: 0.1135\n",
      "Epoch 19/20\n",
      "60000/60000 [==============================] - 1s 9us/step - loss: 0.0838 - acc: 0.1124 - val_loss: 0.0834 - val_acc: 0.1135\n",
      "Epoch 20/20\n",
      "60000/60000 [==============================] - 1s 9us/step - loss: 0.0834 - acc: 0.1124 - val_loss: 0.0830 - val_acc: 0.1135\n"
     ]
    }
   ],
   "source": [
    "model_1_20 = model_1.fit(x_train,y_train,\n",
    "          batch_size=100,\n",
    "          epochs=20,\n",
    "          verbose=1,validation_data = (x_test,y_test))\n",
    "#batch_size\n",
    "\n",
    "#可以60000筆資料全部輸入以後，找到他的loss function值是多少 但這樣通常不太好\n",
    "#因為看完60000筆 有些因為記憶的方法電腦的誤差 把一些細節忽略掉 所以這樣並不好\n",
    "\n",
    "#所以會設定mini batch_size 就是多少筆調一次參數\n",
    "#epochs 就是要訓練幾次"
   ]
  },
  {
   "cell_type": "code",
   "execution_count": 47,
   "metadata": {},
   "outputs": [
    {
     "data": {
      "application/vnd.jupyter.widget-view+json": {
       "model_id": "56824aa1932f419f94c0c5ddfdcca0af",
       "version_major": 2,
       "version_minor": 0
      },
      "text/plain": [
       "interactive(children=(IntSlider(value=4999, description='測試編號', max=9999), Button(description='Run Interact', …"
      ]
     },
     "metadata": {},
     "output_type": "display_data"
    },
    {
     "data": {
      "text/plain": [
       "<function __main__.test(測試編號)>"
      ]
     },
     "execution_count": 47,
     "metadata": {},
     "output_type": "execute_result"
    }
   ],
   "source": [
    "from ipywidgets import interact_manual\n",
    "predict = model_1.predict_classes(x_test)\n",
    "def test(測試編號):\n",
    "    plt.imshow(x_test[測試編號].reshape(28,28),cmap='Greys')\n",
    "    #因為要畫出來 所以用.reshape(28,28)\n",
    "    print('神經網路判斷為:',predict[測試編號])\n",
    "interact_manual(test,測試編號 = (0,9999))"
   ]
  },
  {
   "cell_type": "code",
   "execution_count": 32,
   "metadata": {},
   "outputs": [
    {
     "name": "stdout",
     "output_type": "stream",
     "text": [
      "10000/10000 [==============================] - 0s 11us/step\n"
     ]
    },
    {
     "data": {
      "text/plain": [
       "[0.08296965824365615, 0.1135]"
      ]
     },
     "execution_count": 32,
     "metadata": {},
     "output_type": "execute_result"
    }
   ],
   "source": [
    "score = model_1.evaluate(x_test,y_test)\n",
    "score"
   ]
  },
  {
   "cell_type": "code",
   "execution_count": 33,
   "metadata": {},
   "outputs": [
    {
     "name": "stdout",
     "output_type": "stream",
     "text": [
      "loss: 0.08296965824365615 正確率: 0.1135\n"
     ]
    }
   ],
   "source": [
    "print('loss:',score[0],'正確率:',score[1])"
   ]
  },
  {
   "cell_type": "markdown",
   "metadata": {},
   "source": [
    "## -------------------------------------------------------------------------\n",
    "## 做正規化"
   ]
  },
  {
   "cell_type": "code",
   "execution_count": 34,
   "metadata": {},
   "outputs": [],
   "source": [
    "x_train_1 = x_train / x_train.max()\n",
    "x_test_1 = x_test / x_test.max()"
   ]
  },
  {
   "cell_type": "code",
   "execution_count": 36,
   "metadata": {},
   "outputs": [
    {
     "data": {
      "text/plain": [
       "1.0"
      ]
     },
     "execution_count": 36,
     "metadata": {},
     "output_type": "execute_result"
    }
   ],
   "source": [
    "x_test_1.max()#因為本來最大值都是255\n",
    "#你除了最大值 這樣就會是1"
   ]
  },
  {
   "cell_type": "code",
   "execution_count": 37,
   "metadata": {},
   "outputs": [],
   "source": [
    "x_train_2 = (x_train - x_train.min())/(x_train.max() - x_train.min())\n",
    "x_test_2 = (x_test - x_test.min())/(x_test.max() - x_test.min())"
   ]
  },
  {
   "cell_type": "code",
   "execution_count": 38,
   "metadata": {},
   "outputs": [
    {
     "data": {
      "text/plain": [
       "1.0"
      ]
     },
     "execution_count": 38,
     "metadata": {},
     "output_type": "execute_result"
    }
   ],
   "source": [
    "x_train_2.max()"
   ]
  },
  {
   "cell_type": "code",
   "execution_count": 40,
   "metadata": {},
   "outputs": [
    {
     "name": "stdout",
     "output_type": "stream",
     "text": [
      "_________________________________________________________________\n",
      "Layer (type)                 Output Shape              Param #   \n",
      "=================================================================\n",
      "dense_4 (Dense)              (None, 4)                 3140      \n",
      "_________________________________________________________________\n",
      "activation_4 (Activation)    (None, 4)                 0         \n",
      "_________________________________________________________________\n",
      "dense_5 (Dense)              (None, 2)                 10        \n",
      "_________________________________________________________________\n",
      "activation_5 (Activation)    (None, 2)                 0         \n",
      "_________________________________________________________________\n",
      "dense_6 (Dense)              (None, 10)                30        \n",
      "_________________________________________________________________\n",
      "activation_6 (Activation)    (None, 10)                0         \n",
      "=================================================================\n",
      "Total params: 3,180\n",
      "Trainable params: 3,180\n",
      "Non-trainable params: 0\n",
      "_________________________________________________________________\n"
     ]
    }
   ],
   "source": [
    "model_2 = Sequential()\n",
    "model_2.add(Dense(4,input_dim = 784))#第一個隱藏層 4個神經元\n",
    "model_2.add(Activation('sigmoid'))\n",
    "model_2.add(Dense(2))\n",
    "model_2.add(Activation('sigmoid'))\n",
    "model_2.add(Dense(10))#輸出\n",
    "model_2.add(Activation('softmax'))\n",
    "model_2.compile(loss='mse',optimizer=SGD(lr = 0.05),metrics=['accuracy'])\n",
    "model_2.summary()"
   ]
  },
  {
   "cell_type": "code",
   "execution_count": 43,
   "metadata": {},
   "outputs": [
    {
     "name": "stdout",
     "output_type": "stream",
     "text": [
      "Train on 60000 samples, validate on 10000 samples\n",
      "Epoch 1/20\n",
      "60000/60000 [==============================] - 1s 11us/step - loss: 0.0902 - acc: 0.1757 - val_loss: 0.0902 - val_acc: 0.1655\n",
      "Epoch 2/20\n",
      "60000/60000 [==============================] - 1s 10us/step - loss: 0.0902 - acc: 0.1454 - val_loss: 0.0901 - val_acc: 0.1327\n",
      "Epoch 3/20\n",
      "60000/60000 [==============================] - 1s 10us/step - loss: 0.0901 - acc: 0.1256 - val_loss: 0.0901 - val_acc: 0.1203\n",
      "Epoch 4/20\n",
      "60000/60000 [==============================] - 1s 10us/step - loss: 0.0901 - acc: 0.1154 - val_loss: 0.0900 - val_acc: 0.1158\n",
      "Epoch 5/20\n",
      "60000/60000 [==============================] - 1s 10us/step - loss: 0.0900 - acc: 0.1135 - val_loss: 0.0900 - val_acc: 0.1141\n",
      "Epoch 6/20\n",
      "60000/60000 [==============================] - 1s 10us/step - loss: 0.0900 - acc: 0.1127 - val_loss: 0.0900 - val_acc: 0.1137\n",
      "Epoch 7/20\n",
      "60000/60000 [==============================] - 1s 10us/step - loss: 0.0899 - acc: 0.1124 - val_loss: 0.0899 - val_acc: 0.1135\n",
      "Epoch 8/20\n",
      "60000/60000 [==============================] - 1s 10us/step - loss: 0.0899 - acc: 0.1124 - val_loss: 0.0899 - val_acc: 0.1135\n",
      "Epoch 9/20\n",
      "60000/60000 [==============================] - 1s 10us/step - loss: 0.0899 - acc: 0.1124 - val_loss: 0.0899 - val_acc: 0.1140\n",
      "Epoch 10/20\n",
      "60000/60000 [==============================] - 1s 10us/step - loss: 0.0899 - acc: 0.1130 - val_loss: 0.0899 - val_acc: 0.1144\n",
      "Epoch 11/20\n",
      "60000/60000 [==============================] - 1s 10us/step - loss: 0.0898 - acc: 0.1134 - val_loss: 0.0898 - val_acc: 0.1146\n",
      "Epoch 12/20\n",
      "60000/60000 [==============================] - 1s 10us/step - loss: 0.0898 - acc: 0.1136 - val_loss: 0.0898 - val_acc: 0.1153\n",
      "Epoch 13/20\n",
      "60000/60000 [==============================] - 1s 11us/step - loss: 0.0898 - acc: 0.1140 - val_loss: 0.0898 - val_acc: 0.1156\n",
      "Epoch 14/20\n",
      "60000/60000 [==============================] - 1s 10us/step - loss: 0.0898 - acc: 0.1144 - val_loss: 0.0898 - val_acc: 0.1164\n",
      "Epoch 15/20\n",
      "60000/60000 [==============================] - 1s 10us/step - loss: 0.0898 - acc: 0.1150 - val_loss: 0.0898 - val_acc: 0.1175\n",
      "Epoch 16/20\n",
      "60000/60000 [==============================] - 1s 10us/step - loss: 0.0898 - acc: 0.1153 - val_loss: 0.0898 - val_acc: 0.1185\n",
      "Epoch 17/20\n",
      "60000/60000 [==============================] - 1s 10us/step - loss: 0.0897 - acc: 0.1160 - val_loss: 0.0897 - val_acc: 0.1201\n",
      "Epoch 18/20\n",
      "60000/60000 [==============================] - 1s 10us/step - loss: 0.0897 - acc: 0.1166 - val_loss: 0.0897 - val_acc: 0.1212\n",
      "Epoch 19/20\n",
      "60000/60000 [==============================] - 1s 10us/step - loss: 0.0897 - acc: 0.1188 - val_loss: 0.0897 - val_acc: 0.1228\n",
      "Epoch 20/20\n",
      "60000/60000 [==============================] - 1s 10us/step - loss: 0.0897 - acc: 0.1197 - val_loss: 0.0897 - val_acc: 0.1246\n"
     ]
    }
   ],
   "source": [
    "model_2_20 = model_2.fit(x_train_1,y_train,batch_size = 100,\n",
    "                        epochs = 20,\n",
    "                        verbose =1,\n",
    "                        validation_data = (x_test_1,y_test))\n",
    "\n",
    "#verbose 要不要把訓練結果跑出來 有 0 1 2"
   ]
  },
  {
   "cell_type": "code",
   "execution_count": 45,
   "metadata": {},
   "outputs": [
    {
     "data": {
      "image/png": "[encoded data removed]",
      "text/plain": [
       "<Figure size 432x288 with 1 Axes>"
      ]
     },
     "metadata": {},
     "output_type": "display_data"
    }
   ],
   "source": [
    "plt.plot(model_1_20.history['acc'])\n",
    "plt.plot(model_2_20.history['acc'])\n",
    "\n",
    "plt.title('model training accuracy')\n",
    "plt.ylabel('accuracy')\n",
    "plt.xlabel('epoch')\n",
    "plt.legend(['model_1','modle_2'],loc = 'best')\n",
    "plt.show()"
   ]
  },
  {
   "cell_type": "code",
   "execution_count": 48,
   "metadata": {},
   "outputs": [
    {
     "data": {
      "image/png": "[encoded data removed]",
      "text/plain": [
       "<Figure size 432x288 with 1 Axes>"
      ]
     },
     "metadata": {},
     "output_type": "display_data"
    }
   ],
   "source": [
    "plt.plot(model_1_20.history['val_loss'])\n",
    "plt.plot(model_2_20.history['val_loss'])\n",
    "\n",
    "plt.title('model validation loss')\n",
    "plt.ylabel('loss')\n",
    "plt.xlabel('epoch')\n",
    "plt.legend(['model_1','modle_2'],loc = 'best')\n",
    "plt.show()"
   ]
  },
  {
   "cell_type": "code",
   "execution_count": 96,
   "metadata": {},
   "outputs": [
    {
     "name": "stdout",
     "output_type": "stream",
     "text": [
      "10000/10000 [==============================] - 0s 11us/step\n"
     ]
    }
   ],
   "source": [
    "score = model.evaluate(x_test,y_test)"
   ]
  },
  {
   "cell_type": "code",
   "execution_count": 97,
   "metadata": {},
   "outputs": [
    {
     "name": "stdout",
     "output_type": "stream",
     "text": [
      "loss: 0.07085968244075776 正確率: 0.4691\n"
     ]
    }
   ],
   "source": [
    "print('loss:',score[0],'正確率:',score[1])\n",
    "#loss 是平均誤差\n",
    "#不過loss很難看的出來好或不好"
   ]
  },
  {
   "cell_type": "code",
   "execution_count": 98,
   "metadata": {},
   "outputs": [],
   "source": [
    "model_json = model.to_json()\n",
    "open('stupid_modle.json','w').write(model_json)\n",
    "model.save_weights('stupid_modle_weight.h5')"
   ]
  },
  {
   "cell_type": "code",
   "execution_count": null,
   "metadata": {},
   "outputs": [],
   "source": []
  }
 ],
 "metadata": {
  "kernelspec": {
   "display_name": "Python (tensorflowgpu)",
   "language": "python",
   "name": "tensorflowgpu"
  },
  "language_info": {
   "codemirror_mode": {
    "name": "ipython",
    "version": 3
   },
   "file_extension": ".py",
   "mimetype": "text/x-python",
   "name": "python",
   "nbconvert_exporter": "python",
   "pygments_lexer": "ipython3",
   "version": "3.5.5"
  }
 },
 "nbformat": 4,
 "nbformat_minor": 2
}
