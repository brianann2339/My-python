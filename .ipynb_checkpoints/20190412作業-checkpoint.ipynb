{
 "cells": [
  {
   "cell_type": "code",
   "execution_count": 32,
   "metadata": {},
   "outputs": [],
   "source": [
    "import numpy as np\n",
    "import matplotlib.pyplot as plt\n",
    "%matplotlib inline\n"
   ]
  },
  {
   "cell_type": "code",
   "execution_count": 44,
   "metadata": {},
   "outputs": [
    {
     "data": {
      "image/png": "[encoded data removed]",
      "text/plain": [
       "<Figure size 432x288 with 1 Axes>"
      ]
     },
     "metadata": {},
     "output_type": "display_data"
    }
   ],
   "source": [
    "x = np.linspace(-5, 5, 1000)\n",
    "y =  x*(x-1)*(x+2)*(x-3)\n",
    "\n",
    "plt.plot(x, y);\n",
    "plt.xlabel(\"x\");\n",
    "plt.ylabel(\"y\");\n",
    "plt.title(\"plot of f(x)\");"
   ]
  },
  {
   "cell_type": "code",
   "execution_count": 45,
   "metadata": {},
   "outputs": [],
   "source": [
    "from sympy import diff\n",
    "def GradientDescent(Xn,tolerance):#fun函數 Xn 初始值 tolerance容忍範圍\n",
    "    n=0;#迭代幾次\n",
    "    Xn_set = []\n",
    "    Yn_set = []\n",
    "    Y_last = 0\n",
    "    while 1:\n",
    "        Xn_set.append(Xn)\n",
    "        fn =  Xn*(Xn-1)*(Xn+2)*(Xn-3)\n",
    "        Yn_set.append(fn) \n",
    "        #print(fn)\n",
    "        \n",
    "        Xnn = Xn+0.05\n",
    "        dfn = ((Xnn*(Xnn-1)*(Xnn+2)*(Xnn-3)-5)-fn)/0.05;#微分\n",
    "        #print('dfn',dfn)\n",
    "        #print('Yn_set[-2]',Yn_set[-2],'fn',fn)\n",
    "        if((n>1) & ((Y_last-fn)<tolerance)):#abs 絕對質\n",
    "            Result = [Xn_set[:-1],Yn_set[:-1], n-1];#root is Xn and number of iterations is n\n",
    "            return Result\n",
    "        \n",
    "        Xn_plus_1 = Xn+1;\n",
    "        #print('Xn_plus_1',Xn_plus_1)\n",
    "        Xn_plus_1 = Xn - fn/dfn;\n",
    "        #print(fn/dfn)\n",
    "        Xn = Xn_plus_1;\n",
    "        #print('Xn',Xn)\n",
    "        Y_last = fn\n",
    "        n=n+1;\n",
    "    \n",
    "\n"
   ]
  },
  {
   "cell_type": "markdown",
   "metadata": {},
   "source": [
    "## X的走向"
   ]
  },
  {
   "cell_type": "code",
   "execution_count": 55,
   "metadata": {},
   "outputs": [
    {
     "data": {
      "text/plain": [
       "[-3,\n",
       " -2.6766731463014715,\n",
       " -2.4715122486709813,\n",
       " -2.3365654008370247,\n",
       " -2.2446590004808735,\n",
       " -2.1802592884639727,\n",
       " -2.1341335956176306,\n",
       " -2.1005447909269064,\n",
       " -2.075778966191179,\n",
       " -2.0573467624681574,\n",
       " -2.0435312409554527,\n",
       " -2.0331206594696876,\n",
       " -2.0252440446921756,\n",
       " -2.019266276157892,\n",
       " -2.0147189646269936,\n",
       " -2.011253631519242,\n",
       " -2.008609235078758,\n",
       " -2.006589195404936,\n",
       " -2.0050448706258677,\n",
       " -2.0038635123670145,\n",
       " -2.0029593907720877,\n",
       " -2.002267198253503,\n",
       " -2.00173711322596,\n",
       " -2.001331086143772,\n",
       " -2.001020033390546,\n",
       " -2.000781710141456,\n",
       " -2.000599093805672,\n",
       " -2.000459153073066,\n",
       " -2.0003519091597255,\n",
       " -2.000269719052057,\n",
       " -2.000206727756995,\n",
       " -2.000158449417391,\n",
       " -2.0001214468045925,\n",
       " -2.0000930859834134,\n",
       " -2.0000713484594,\n",
       " -2.000054687305531,\n",
       " -2.0000419169516435,\n",
       " -2.00003212874838,\n",
       " -2.000024626270827,\n",
       " -2.000018875742906,\n",
       " -2.000014468046086,\n",
       " -2.0000110896040835,\n",
       " -2.000008500068992,\n",
       " -2.0000065152195132,\n",
       " -2.0000049938535533,\n",
       " -2.0000038277420678,\n",
       " -2.0000029339291006,\n",
       " -2.000002248830024,\n",
       " -2.0000017237080026,\n",
       " -2.0000013212068115,\n",
       " -2.000001012693308,\n",
       " -2.0000007762204834,\n",
       " -2.0000005949661745,\n",
       " -2.000000456036355,\n",
       " -2.000000349547875,\n",
       " -2.000000267925392,\n",
       " -2.000000205362475,\n",
       " -2.0000001574085466,\n",
       " -2.0000001206522797]"
      ]
     },
     "execution_count": 55,
     "metadata": {},
     "output_type": "execute_result"
    }
   ],
   "source": [
    "r[0]"
   ]
  },
  {
   "cell_type": "markdown",
   "metadata": {},
   "source": [
    "## Y的走向"
   ]
  },
  {
   "cell_type": "code",
   "execution_count": 56,
   "metadata": {},
   "outputs": [
    {
     "data": {
      "text/plain": [
       "[72,\n",
       " 37.802732737163204,\n",
       " 22.13511710427354,\n",
       " 14.002606607446374,\n",
       " 9.34539986915229,\n",
       " 6.474702610692344,\n",
       " 4.606211116900842,\n",
       " 3.3399971585885466,\n",
       " 2.455769535259391,\n",
       " 1.824247810376499,\n",
       " 1.365509760178553,\n",
       " 1.027990634422022,\n",
       " 0.777237733084581,\n",
       " 0.5895668081993821,\n",
       " 0.4483169595872056,\n",
       " 0.3415491845836482,\n",
       " 0.2605811257170442,\n",
       " 0.19902466727543894,\n",
       " 0.15213637568823205,\n",
       " 0.11636867649133074,\n",
       " 0.08905348022859252,\n",
       " 0.06817540999530929,\n",
       " 0.05220699363953573,\n",
       " 0.039987533400343715,\n",
       " 0.03063326684223462,\n",
       " 0.02347025221395177,\n",
       " 0.017983942635541914,\n",
       " 0.013781128627897361,\n",
       " 0.010561114269342324,\n",
       " 0.008093826957305626,\n",
       " 0.006203157625531829,\n",
       " 0.004754260854270769,\n",
       " 0.0036438613848037184,\n",
       " 0.002792848125477496,\n",
       " 0.0021406115943191843,\n",
       " 0.001640711879313126,\n",
       " 0.001257563017996227,\n",
       " 0.0009638944516819759,\n",
       " 0.0007388069250089933,\n",
       " 0.0005662833323523442,\n",
       " 0.00043404787166744245,\n",
       " 0.00033269193487660634,\n",
       " 0.00025500430954587415,\n",
       " 0.0001954579012901794,\n",
       " 0.0001498163796974522,\n",
       " 0.00011483271623302176,\n",
       " 8.80181398631018e-05,\n",
       " 6.746505749373851e-05,\n",
       " 5.171133218293392e-05,\n",
       " 3.963625845856166e-05,\n",
       " 3.038083102833049e-05,\n",
       " 2.328663318141843e-05,\n",
       " 1.7848996210019797e-05,\n",
       " 1.3681097094077861e-05,\n",
       " 1.0486440040372522e-05,\n",
       " 8.03776398814045e-06,\n",
       " 6.16087555814639e-06,\n",
       " 4.722257167348733e-06,\n",
       " 3.6195688429434874e-06]"
      ]
     },
     "execution_count": 56,
     "metadata": {},
     "output_type": "execute_result"
    }
   ],
   "source": [
    "r[1]"
   ]
  },
  {
   "cell_type": "code",
   "execution_count": 46,
   "metadata": {},
   "outputs": [
    {
     "name": "stdout",
     "output_type": "stream",
     "text": [
      "x= -2.0000001206522797  y= 3.6195688429434874e-06  迭代次數: 58\n"
     ]
    }
   ],
   "source": [
    "r = GradientDescent(-3,0.000001)\n",
    "print('x=',r[0][-1],' y=',r[1][-1],' 迭代次數:',r[2])"
   ]
  },
  {
   "cell_type": "markdown",
   "metadata": {},
   "source": [
    "## 印出點"
   ]
  },
  {
   "cell_type": "code",
   "execution_count": 53,
   "metadata": {},
   "outputs": [
    {
     "data": {
      "image/png": "[encoded data removed]",
      "text/plain": [
       "<Figure size 432x288 with 1 Axes>"
      ]
     },
     "metadata": {},
     "output_type": "display_data"
    }
   ],
   "source": [
    "plt.scatter(r[0],r[1])\n",
    "x = np.linspace(-5,5, 1000)\n",
    "y =  x*(x-1)*(x+2)*(x-3)\n",
    "\n",
    "plt.plot(x, y);\n",
    "plt.xlabel(\"x\");\n",
    "plt.ylabel(\"y\");\n",
    "plt.title(\"plot of f(x)\");"
   ]
  },
  {
   "cell_type": "code",
   "execution_count": null,
   "metadata": {},
   "outputs": [],
   "source": []
  }
 ],
 "metadata": {
  "kernelspec": {
   "display_name": "Python (tensorflowgpu)",
   "language": "python",
   "name": "tensorflowgpu"
  },
  "language_info": {
   "codemirror_mode": {
    "name": "ipython",
    "version": 3
   },
   "file_extension": ".py",
   "mimetype": "text/x-python",
   "name": "python",
   "nbconvert_exporter": "python",
   "pygments_lexer": "ipython3",
   "version": "3.5.5"
  }
 },
 "nbformat": 4,
 "nbformat_minor": 2
}
