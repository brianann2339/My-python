{
 "cells": [
  {
   "cell_type": "code",
   "execution_count": 3,
   "metadata": {},
   "outputs": [
    {
     "name": "stderr",
     "output_type": "stream",
     "text": [
      "Using TensorFlow backend.\n"
     ]
    }
   ],
   "source": [
    "from keras.datasets import mnist "
   ]
  },
  {
   "cell_type": "code",
   "execution_count": 4,
   "metadata": {},
   "outputs": [],
   "source": [
    "%matplotlib inline\n",
    "import numpy as np\n",
    "import matplotlib.pyplot as plt"
   ]
  },
  {
   "cell_type": "code",
   "execution_count": 5,
   "metadata": {},
   "outputs": [],
   "source": [
    "(x_train,y_train),(x_test,y_test) = mnist.load_data()"
   ]
  },
  {
   "cell_type": "code",
   "execution_count": 6,
   "metadata": {},
   "outputs": [],
   "source": [
    "x_train = x_train.reshape(60000,784)\n",
    "x_test = x_test.reshape(10000,784)"
   ]
  },
  {
   "cell_type": "code",
   "execution_count": 7,
   "metadata": {},
   "outputs": [
    {
     "data": {
      "text/plain": [
       "(784,)"
      ]
     },
     "execution_count": 7,
     "metadata": {},
     "output_type": "execute_result"
    }
   ],
   "source": [
    "x_train[8794].shape"
   ]
  },
  {
   "cell_type": "code",
   "execution_count": 8,
   "metadata": {},
   "outputs": [],
   "source": [
    "from keras.utils import np_utils"
   ]
  },
  {
   "cell_type": "code",
   "execution_count": 9,
   "metadata": {},
   "outputs": [
    {
     "data": {
      "text/plain": [
       "array([5, 0, 4, ..., 5, 6, 8], dtype=uint8)"
      ]
     },
     "execution_count": 9,
     "metadata": {},
     "output_type": "execute_result"
    }
   ],
   "source": [
    "y_train"
   ]
  },
  {
   "cell_type": "code",
   "execution_count": 10,
   "metadata": {},
   "outputs": [],
   "source": [
    "y_train = np_utils.to_categorical(y_train,10)\n",
    "y_test = np_utils.to_categorical(y_test,10)"
   ]
  },
  {
   "cell_type": "code",
   "execution_count": 11,
   "metadata": {},
   "outputs": [
    {
     "data": {
      "text/plain": [
       "array([0., 0., 0., 1., 0., 0., 0., 0., 0., 0.], dtype=float32)"
      ]
     },
     "execution_count": 11,
     "metadata": {},
     "output_type": "execute_result"
    }
   ],
   "source": [
    "y_train[8794]"
   ]
  },
  {
   "cell_type": "code",
   "execution_count": 12,
   "metadata": {},
   "outputs": [],
   "source": [
    "from keras.models import Sequential\n",
    "from keras.layers import Dense,Activation\n",
    "from keras.optimizers import SGD"
   ]
  },
  {
   "cell_type": "markdown",
   "metadata": {},
   "source": [
    "\n",
    "\n",
    "## 做正規化"
   ]
  },
  {
   "cell_type": "code",
   "execution_count": 13,
   "metadata": {},
   "outputs": [],
   "source": [
    "x_train = (x_train - x_train.min())/(x_train.max() - x_train.min())\n",
    "x_test = (x_test - x_test.min())/(x_test.max() - x_test.min())"
   ]
  },
  {
   "cell_type": "code",
   "execution_count": 14,
   "metadata": {},
   "outputs": [
    {
     "data": {
      "text/plain": [
       "1.0"
      ]
     },
     "execution_count": 14,
     "metadata": {},
     "output_type": "execute_result"
    }
   ],
   "source": [
    "x_train.max()"
   ]
  },
  {
   "cell_type": "code",
   "execution_count": 15,
   "metadata": {},
   "outputs": [
    {
     "name": "stdout",
     "output_type": "stream",
     "text": [
      "WARNING:tensorflow:From D:\\ANACONDA\\envs\\tensorflowgpu\\lib\\site-packages\\tensorflow\\python\\framework\\op_def_library.py:263: colocate_with (from tensorflow.python.framework.ops) is deprecated and will be removed in a future version.\n",
      "Instructions for updating:\n",
      "Colocations handled automatically by placer.\n",
      "_________________________________________________________________\n",
      "Layer (type)                 Output Shape              Param #   \n",
      "=================================================================\n",
      "dense_1 (Dense)              (None, 100)               78500     \n",
      "_________________________________________________________________\n",
      "activation_1 (Activation)    (None, 100)               0         \n",
      "_________________________________________________________________\n",
      "dense_2 (Dense)              (None, 50)                5050      \n",
      "_________________________________________________________________\n",
      "activation_2 (Activation)    (None, 50)                0         \n",
      "_________________________________________________________________\n",
      "dense_3 (Dense)              (None, 10)                510       \n",
      "_________________________________________________________________\n",
      "activation_3 (Activation)    (None, 10)                0         \n",
      "=================================================================\n",
      "Total params: 84,060\n",
      "Trainable params: 84,060\n",
      "Non-trainable params: 0\n",
      "_________________________________________________________________\n"
     ]
    }
   ],
   "source": [
    "model = Sequential()\n",
    "model.add(Dense(100,input_dim = 784))#第一個隱藏層 4個神經元\n",
    "model.add(Activation('sigmoid'))\n",
    "model.add(Dense(50))\n",
    "model.add(Activation('sigmoid'))\n",
    "model.add(Dense(10))#輸出\n",
    "model.add(Activation('softmax'))\n",
    "model.compile(loss='mse',optimizer=SGD(lr = 0.05),metrics=['accuracy'])\n",
    "model.summary()"
   ]
  },
  {
   "cell_type": "code",
   "execution_count": 16,
   "metadata": {},
   "outputs": [
    {
     "name": "stdout",
     "output_type": "stream",
     "text": [
      "WARNING:tensorflow:From D:\\ANACONDA\\envs\\tensorflowgpu\\lib\\site-packages\\tensorflow\\python\\ops\\math_ops.py:3066: to_int32 (from tensorflow.python.ops.math_ops) is deprecated and will be removed in a future version.\n",
      "Instructions for updating:\n",
      "Use tf.cast instead.\n",
      "Train on 60000 samples, validate on 10000 samples\n",
      "Epoch 1/20\n",
      "60000/60000 [==============================] - 5s 81us/step - loss: 0.0893 - acc: 0.2166 - val_loss: 0.0884 - val_acc: 0.2410\n",
      "Epoch 2/20\n",
      "60000/60000 [==============================] - 5s 83us/step - loss: 0.0871 - acc: 0.2651 - val_loss: 0.0853 - val_acc: 0.2710\n",
      "Epoch 3/20\n",
      "60000/60000 [==============================] - 5s 82us/step - loss: 0.0818 - acc: 0.2929 - val_loss: 0.0770 - val_acc: 0.3651\n",
      "Epoch 4/20\n",
      "60000/60000 [==============================] - 5s 82us/step - loss: 0.0721 - acc: 0.4381 - val_loss: 0.0664 - val_acc: 0.4927\n",
      "Epoch 5/20\n",
      "60000/60000 [==============================] - 5s 80us/step - loss: 0.0608 - acc: 0.5339 - val_loss: 0.0548 - val_acc: 0.5926\n",
      "Epoch 6/20\n",
      "60000/60000 [==============================] - 5s 81us/step - loss: 0.0502 - acc: 0.6579 - val_loss: 0.0449 - val_acc: 0.7227\n",
      "Epoch 7/20\n",
      "60000/60000 [==============================] - 5s 81us/step - loss: 0.0415 - acc: 0.7643 - val_loss: 0.0372 - val_acc: 0.8023\n",
      "Epoch 8/20\n",
      "60000/60000 [==============================] - 5s 82us/step - loss: 0.0346 - acc: 0.8136 - val_loss: 0.0311 - val_acc: 0.8341\n",
      "Epoch 9/20\n",
      "60000/60000 [==============================] - 5s 82us/step - loss: 0.0294 - acc: 0.8397 - val_loss: 0.0266 - val_acc: 0.8538\n",
      "Epoch 10/20\n",
      "60000/60000 [==============================] - 5s 82us/step - loss: 0.0256 - acc: 0.8576 - val_loss: 0.0233 - val_acc: 0.8664\n",
      "Epoch 11/20\n",
      "60000/60000 [==============================] - 5s 83us/step - loss: 0.0228 - acc: 0.8706 - val_loss: 0.0208 - val_acc: 0.8798\n",
      "Epoch 12/20\n",
      "60000/60000 [==============================] - 5s 83us/step - loss: 0.0207 - acc: 0.8803 - val_loss: 0.0191 - val_acc: 0.8871\n",
      "Epoch 13/20\n",
      "60000/60000 [==============================] - 5s 84us/step - loss: 0.0192 - acc: 0.8870 - val_loss: 0.0178 - val_acc: 0.8921\n",
      "Epoch 14/20\n",
      "60000/60000 [==============================] - 5s 84us/step - loss: 0.0181 - acc: 0.8923 - val_loss: 0.0168 - val_acc: 0.8965\n",
      "Epoch 15/20\n",
      "60000/60000 [==============================] - 5s 85us/step - loss: 0.0172 - acc: 0.8959 - val_loss: 0.0161 - val_acc: 0.9008\n",
      "Epoch 16/20\n",
      "60000/60000 [==============================] - 5s 84us/step - loss: 0.0165 - acc: 0.8993 - val_loss: 0.0155 - val_acc: 0.9043\n",
      "Epoch 17/20\n",
      "60000/60000 [==============================] - 5s 85us/step - loss: 0.0159 - acc: 0.9019 - val_loss: 0.0150 - val_acc: 0.9062\n",
      "Epoch 18/20\n",
      "60000/60000 [==============================] - 5s 84us/step - loss: 0.0154 - acc: 0.9045 - val_loss: 0.0145 - val_acc: 0.9084\n",
      "Epoch 19/20\n",
      "60000/60000 [==============================] - 5s 84us/step - loss: 0.0150 - acc: 0.9060 - val_loss: 0.0141 - val_acc: 0.9106\n",
      "Epoch 20/20\n",
      "60000/60000 [==============================] - 5s 85us/step - loss: 0.0146 - acc: 0.9077 - val_loss: 0.0139 - val_acc: 0.9120\n"
     ]
    }
   ],
   "source": [
    "model_1 = model.fit(x_train,y_train,batch_size = 10,\n",
    "                        epochs = 20,\n",
    "                        verbose =1,\n",
    "                        validation_data = (x_test,y_test))\n",
    "\n",
    "#verbose 要不要把訓練結果跑出來 有 0 1 2"
   ]
  },
  {
   "cell_type": "code",
   "execution_count": 17,
   "metadata": {},
   "outputs": [
    {
     "data": {
      "image/png": "[encoded data removed]",
      "text/plain": [
       "<Figure size 432x288 with 1 Axes>"
      ]
     },
     "metadata": {},
     "output_type": "display_data"
    }
   ],
   "source": [
    "plt.plot(model_1.history['acc'])\n",
    "\n",
    "plt.title('model training accuracy')\n",
    "plt.ylabel('accuracy')\n",
    "plt.xlabel('epoch')\n",
    "plt.legend(['model_1'],loc = 'best')\n",
    "plt.show()"
   ]
  },
  {
   "cell_type": "code",
   "execution_count": 18,
   "metadata": {},
   "outputs": [
    {
     "data": {
      "application/vnd.jupyter.widget-view+json": {
       "model_id": "8f9bb364f3d042c495be14047e1ad76d",
       "version_major": 2,
       "version_minor": 0
      },
      "text/plain": [
       "interactive(children=(IntSlider(value=4999, description='測試編號', max=9999), Button(description='Run Interact', …"
      ]
     },
     "metadata": {},
     "output_type": "display_data"
    },
    {
     "data": {
      "text/plain": [
       "<function __main__.test(測試編號)>"
      ]
     },
     "execution_count": 18,
     "metadata": {},
     "output_type": "execute_result"
    }
   ],
   "source": [
    "from ipywidgets import interact_manual\n",
    "predict = model.predict_classes(x_test)\n",
    "def test(測試編號):\n",
    "    plt.imshow(x_test[測試編號].reshape(28,28),cmap='Greys')\n",
    "    #因為要畫出來 所以用.reshape(28,28)\n",
    "    print('神經網路判斷為:',predict[測試編號])\n",
    "interact_manual(test,測試編號 = (0,9999))"
   ]
  },
  {
   "cell_type": "code",
   "execution_count": 19,
   "metadata": {},
   "outputs": [
    {
     "name": "stdout",
     "output_type": "stream",
     "text": [
      "_________________________________________________________________\n",
      "Layer (type)                 Output Shape              Param #   \n",
      "=================================================================\n",
      "dense_4 (Dense)              (None, 100)               78500     \n",
      "_________________________________________________________________\n",
      "activation_4 (Activation)    (None, 100)               0         \n",
      "_________________________________________________________________\n",
      "dense_5 (Dense)              (None, 80)                8080      \n",
      "_________________________________________________________________\n",
      "activation_5 (Activation)    (None, 80)                0         \n",
      "_________________________________________________________________\n",
      "dense_6 (Dense)              (None, 10)                810       \n",
      "_________________________________________________________________\n",
      "activation_6 (Activation)    (None, 10)                0         \n",
      "=================================================================\n",
      "Total params: 87,390\n",
      "Trainable params: 87,390\n",
      "Non-trainable params: 0\n",
      "_________________________________________________________________\n"
     ]
    }
   ],
   "source": [
    "model_2 = Sequential()\n",
    "model_2.add(Dense(100,input_dim = 784))#第一個隱藏層 4個神經元\n",
    "model_2.add(Activation('sigmoid'))\n",
    "model_2.add(Dense(80))\n",
    "model_2.add(Activation('sigmoid'))\n",
    "model_2.add(Dense(10))#輸出\n",
    "model_2.add(Activation('softmax'))\n",
    "model_2.compile(loss='mse',optimizer=SGD(lr = 0.05),metrics=['accuracy'])\n",
    "model_2.summary()"
   ]
  },
  {
   "cell_type": "code",
   "execution_count": 20,
   "metadata": {},
   "outputs": [
    {
     "name": "stdout",
     "output_type": "stream",
     "text": [
      "Train on 60000 samples, validate on 10000 samples\n",
      "Epoch 1/20\n",
      "60000/60000 [==============================] - 5s 83us/step - loss: 0.0895 - acc: 0.1619 - val_loss: 0.0886 - val_acc: 0.2173\n",
      "Epoch 2/20\n",
      "60000/60000 [==============================] - 5s 80us/step - loss: 0.0876 - acc: 0.2477 - val_loss: 0.0861 - val_acc: 0.2944\n",
      "Epoch 3/20\n",
      "60000/60000 [==============================] - 5s 83us/step - loss: 0.0833 - acc: 0.2890 - val_loss: 0.0791 - val_acc: 0.3065\n",
      "Epoch 4/20\n",
      "60000/60000 [==============================] - 5s 86us/step - loss: 0.0746 - acc: 0.3696 - val_loss: 0.0692 - val_acc: 0.4081\n",
      "Epoch 5/20\n",
      "60000/60000 [==============================] - 5s 84us/step - loss: 0.0642 - acc: 0.5088 - val_loss: 0.0584 - val_acc: 0.5814\n",
      "Epoch 6/20\n",
      "60000/60000 [==============================] - 5s 86us/step - loss: 0.0534 - acc: 0.6534 - val_loss: 0.0477 - val_acc: 0.7088\n",
      "Epoch 7/20\n",
      "60000/60000 [==============================] - 5s 86us/step - loss: 0.0433 - acc: 0.7549 - val_loss: 0.0381 - val_acc: 0.7955\n",
      "Epoch 8/20\n",
      "60000/60000 [==============================] - 5s 85us/step - loss: 0.0349 - acc: 0.8151 - val_loss: 0.0308 - val_acc: 0.8394\n",
      "Epoch 9/20\n",
      "60000/60000 [==============================] - 5s 86us/step - loss: 0.0289 - acc: 0.8453 - val_loss: 0.0259 - val_acc: 0.8606\n",
      "Epoch 10/20\n",
      "60000/60000 [==============================] - 5s 88us/step - loss: 0.0250 - acc: 0.8630 - val_loss: 0.0226 - val_acc: 0.8731\n",
      "Epoch 11/20\n",
      "60000/60000 [==============================] - 6s 94us/step - loss: 0.0223 - acc: 0.8729 - val_loss: 0.0204 - val_acc: 0.8831\n",
      "Epoch 12/20\n",
      "60000/60000 [==============================] - 5s 90us/step - loss: 0.0203 - acc: 0.8814 - val_loss: 0.0187 - val_acc: 0.8914\n",
      "Epoch 13/20\n",
      "60000/60000 [==============================] - 5s 87us/step - loss: 0.0189 - acc: 0.8879 - val_loss: 0.0175 - val_acc: 0.8973\n",
      "Epoch 14/20\n",
      "60000/60000 [==============================] - 5s 88us/step - loss: 0.0178 - acc: 0.8924 - val_loss: 0.0166 - val_acc: 0.9008\n",
      "Epoch 15/20\n",
      "60000/60000 [==============================] - 5s 86us/step - loss: 0.0170 - acc: 0.8968 - val_loss: 0.0158 - val_acc: 0.9033\n",
      "Epoch 16/20\n",
      "60000/60000 [==============================] - 5s 86us/step - loss: 0.0163 - acc: 0.8996 - val_loss: 0.0152 - val_acc: 0.9063\n",
      "Epoch 17/20\n",
      "60000/60000 [==============================] - 5s 86us/step - loss: 0.0157 - acc: 0.9025 - val_loss: 0.0148 - val_acc: 0.9087\n",
      "Epoch 18/20\n",
      "60000/60000 [==============================] - 5s 86us/step - loss: 0.0152 - acc: 0.9042 - val_loss: 0.0143 - val_acc: 0.9099\n",
      "Epoch 19/20\n",
      "60000/60000 [==============================] - 5s 86us/step - loss: 0.0148 - acc: 0.9070 - val_loss: 0.0140 - val_acc: 0.9142\n",
      "Epoch 20/20\n",
      "60000/60000 [==============================] - 5s 89us/step - loss: 0.0145 - acc: 0.9086 - val_loss: 0.0137 - val_acc: 0.9146\n"
     ]
    }
   ],
   "source": [
    "model_2_out = model_2.fit(x_train,y_train,batch_size = 10,\n",
    "                        epochs = 20,\n",
    "                        verbose =1,\n",
    "                        validation_data = (x_test,y_test))\n"
   ]
  },
  {
   "cell_type": "code",
   "execution_count": 21,
   "metadata": {},
   "outputs": [
    {
     "data": {
      "application/vnd.jupyter.widget-view+json": {
       "model_id": "a0b201a1f7064238a5bf813a1fba3b30",
       "version_major": 2,
       "version_minor": 0
      },
      "text/plain": [
       "interactive(children=(IntSlider(value=4999, description='測試編號', max=9999), Button(description='Run Interact', …"
      ]
     },
     "metadata": {},
     "output_type": "display_data"
    },
    {
     "data": {
      "text/plain": [
       "<function __main__.test(測試編號)>"
      ]
     },
     "execution_count": 21,
     "metadata": {},
     "output_type": "execute_result"
    }
   ],
   "source": [
    "predict = model_2.predict_classes(x_test)\n",
    "interact_manual(test,測試編號 = (0,9999))"
   ]
  },
  {
   "cell_type": "code",
   "execution_count": 22,
   "metadata": {},
   "outputs": [
    {
     "data": {
      "image/png": "[encoded data removed]",
      "text/plain": [
       "<Figure size 432x288 with 1 Axes>"
      ]
     },
     "metadata": {},
     "output_type": "display_data"
    }
   ],
   "source": [
    "plt.plot(model_1.history['acc'])\n",
    "plt.plot(model_2_out.history['acc'])\n",
    "\n",
    "plt.title('model training accuracy')\n",
    "plt.ylabel('accuracy')\n",
    "plt.xlabel('epoch')\n",
    "plt.legend(['model_1','modle_2'],loc = 'best')\n",
    "plt.show()"
   ]
  },
  {
   "cell_type": "markdown",
   "metadata": {},
   "source": [
    "## 上圖看起來，model_2與model_1相比起來，只是將第二層隱藏層從50個神經元到80個神經元，看起來沒有大幅度的改變\n",
    "##     \n",
    "##    \n",
    "\n",
    "\n",
    "\n",
    "\n"
   ]
  },
  {
   "cell_type": "code",
   "execution_count": 23,
   "metadata": {},
   "outputs": [
    {
     "name": "stdout",
     "output_type": "stream",
     "text": [
      "_________________________________________________________________\n",
      "Layer (type)                 Output Shape              Param #   \n",
      "=================================================================\n",
      "dense_7 (Dense)              (None, 500)               392500    \n",
      "_________________________________________________________________\n",
      "activation_7 (Activation)    (None, 500)               0         \n",
      "_________________________________________________________________\n",
      "dense_8 (Dense)              (None, 100)               50100     \n",
      "_________________________________________________________________\n",
      "activation_8 (Activation)    (None, 100)               0         \n",
      "_________________________________________________________________\n",
      "dense_9 (Dense)              (None, 10)                1010      \n",
      "_________________________________________________________________\n",
      "activation_9 (Activation)    (None, 10)                0         \n",
      "=================================================================\n",
      "Total params: 443,610\n",
      "Trainable params: 443,610\n",
      "Non-trainable params: 0\n",
      "_________________________________________________________________\n"
     ]
    }
   ],
   "source": [
    "model_3 = Sequential()\n",
    "model_3.add(Dense(500,input_dim = 784))#第一個隱藏層 4個神經元\n",
    "model_3.add(Activation('sigmoid'))\n",
    "model_3.add(Dense(100))\n",
    "model_3.add(Activation('sigmoid'))\n",
    "model_3.add(Dense(10))#輸出\n",
    "model_3.add(Activation('softmax'))\n",
    "model_3.compile(loss='mse',optimizer=SGD(lr = 0.05),metrics=['accuracy'])\n",
    "model_3.summary()"
   ]
  },
  {
   "cell_type": "code",
   "execution_count": 24,
   "metadata": {},
   "outputs": [
    {
     "name": "stdout",
     "output_type": "stream",
     "text": [
      "Train on 60000 samples, validate on 10000 samples\n",
      "Epoch 1/20\n",
      "60000/60000 [==============================] - 15s 252us/step - loss: 0.0891 - acc: 0.2022 - val_loss: 0.0877 - val_acc: 0.2773\n",
      "Epoch 2/20\n",
      "60000/60000 [==============================] - 16s 263us/step - loss: 0.0855 - acc: 0.2955 - val_loss: 0.0819 - val_acc: 0.3388\n",
      "Epoch 3/20\n",
      "60000/60000 [==============================] - 17s 286us/step - loss: 0.0756 - acc: 0.4294 - val_loss: 0.0682 - val_acc: 0.5713\n",
      "Epoch 4/20\n",
      "60000/60000 [==============================] - 17s 287us/step - loss: 0.0609 - acc: 0.6051 - val_loss: 0.0524 - val_acc: 0.6749\n",
      "Epoch 5/20\n",
      "60000/60000 [==============================] - 16s 269us/step - loss: 0.0458 - acc: 0.7374 - val_loss: 0.0387 - val_acc: 0.8058\n",
      "Epoch 6/20\n",
      "60000/60000 [==============================] - 18s 306us/step - loss: 0.0346 - acc: 0.8230 - val_loss: 0.0299 - val_acc: 0.8474\n",
      "Epoch 7/20\n",
      "60000/60000 [==============================] - 17s 289us/step - loss: 0.0277 - acc: 0.8557 - val_loss: 0.0243 - val_acc: 0.8707\n",
      "Epoch 8/20\n",
      "60000/60000 [==============================] - 17s 281us/step - loss: 0.0235 - acc: 0.8702 - val_loss: 0.0212 - val_acc: 0.8814\n",
      "Epoch 9/20\n",
      "60000/60000 [==============================] - 17s 288us/step - loss: 0.0209 - acc: 0.8796 - val_loss: 0.0191 - val_acc: 0.8909\n",
      "Epoch 10/20\n",
      "60000/60000 [==============================] - 17s 292us/step - loss: 0.0193 - acc: 0.8861 - val_loss: 0.0178 - val_acc: 0.8953\n",
      "Epoch 11/20\n",
      "60000/60000 [==============================] - 17s 286us/step - loss: 0.0181 - acc: 0.8907 - val_loss: 0.0167 - val_acc: 0.8980\n",
      "Epoch 12/20\n",
      "60000/60000 [==============================] - 18s 295us/step - loss: 0.0172 - acc: 0.8946 - val_loss: 0.0161 - val_acc: 0.8986\n",
      "Epoch 13/20\n",
      "60000/60000 [==============================] - 17s 279us/step - loss: 0.0165 - acc: 0.8975 - val_loss: 0.0155 - val_acc: 0.9027\n",
      "Epoch 14/20\n",
      "60000/60000 [==============================] - 18s 297us/step - loss: 0.0160 - acc: 0.9001 - val_loss: 0.0149 - val_acc: 0.9043\n",
      "Epoch 15/20\n",
      "60000/60000 [==============================] - 17s 280us/step - loss: 0.0155 - acc: 0.9021 - val_loss: 0.0147 - val_acc: 0.9075\n",
      "Epoch 16/20\n",
      "60000/60000 [==============================] - 17s 286us/step - loss: 0.0151 - acc: 0.9047 - val_loss: 0.0142 - val_acc: 0.9083\n",
      "Epoch 17/20\n",
      "60000/60000 [==============================] - 19s 322us/step - loss: 0.0148 - acc: 0.9058 - val_loss: 0.0139 - val_acc: 0.9118\n",
      "Epoch 18/20\n",
      "60000/60000 [==============================] - 17s 291us/step - loss: 0.0145 - acc: 0.9072 - val_loss: 0.0137 - val_acc: 0.9140\n",
      "Epoch 19/20\n",
      "60000/60000 [==============================] - 17s 290us/step - loss: 0.0142 - acc: 0.9097 - val_loss: 0.0135 - val_acc: 0.9141\n",
      "Epoch 20/20\n",
      "60000/60000 [==============================] - 18s 292us/step - loss: 0.0139 - acc: 0.9110 - val_loss: 0.0132 - val_acc: 0.9162\n"
     ]
    }
   ],
   "source": [
    "model_3_out = model_3.fit(x_train,y_train,batch_size = 10,\n",
    "                        epochs = 20,\n",
    "                        verbose =1,\n",
    "                        validation_data = (x_test,y_test))\n"
   ]
  },
  {
   "cell_type": "code",
   "execution_count": 25,
   "metadata": {},
   "outputs": [
    {
     "data": {
      "application/vnd.jupyter.widget-view+json": {
       "model_id": "2156e3af4f5948bd837850e8e85b80ad",
       "version_major": 2,
       "version_minor": 0
      },
      "text/plain": [
       "interactive(children=(IntSlider(value=4999, description='測試編號', max=9999), Button(description='Run Interact', …"
      ]
     },
     "metadata": {},
     "output_type": "display_data"
    },
    {
     "data": {
      "text/plain": [
       "<function __main__.test(測試編號)>"
      ]
     },
     "execution_count": 25,
     "metadata": {},
     "output_type": "execute_result"
    }
   ],
   "source": [
    "predict = model_3.predict_classes(x_test)\n",
    "interact_manual(test,測試編號 = (0,9999))"
   ]
  },
  {
   "cell_type": "code",
   "execution_count": 26,
   "metadata": {},
   "outputs": [
    {
     "data": {
      "image/png": "[encoded data removed]",
      "text/plain": [
       "<Figure size 432x288 with 1 Axes>"
      ]
     },
     "metadata": {},
     "output_type": "display_data"
    }
   ],
   "source": [
    "plt.plot(model_1.history['acc'])\n",
    "plt.plot(model_2_out.history['acc'])\n",
    "plt.plot(model_3_out.history['acc'])\n",
    "\n",
    "plt.title('model training accuracy')\n",
    "plt.ylabel('accuracy')\n",
    "plt.xlabel('epoch')\n",
    "plt.legend(['model_1','modle_2','model_3'],loc = 'best')\n",
    "plt.show()"
   ]
  },
  {
   "cell_type": "markdown",
   "metadata": {},
   "source": [
    "## 由上面看來 model_3神經元數量做大幅的改變 accuracy會更快到達90%\n",
    "##     \n",
    "##    "
   ]
  },
  {
   "cell_type": "code",
   "execution_count": 27,
   "metadata": {},
   "outputs": [
    {
     "name": "stdout",
     "output_type": "stream",
     "text": [
      "_________________________________________________________________\n",
      "Layer (type)                 Output Shape              Param #   \n",
      "=================================================================\n",
      "dense_10 (Dense)             (None, 500)               392500    \n",
      "_________________________________________________________________\n",
      "activation_10 (Activation)   (None, 500)               0         \n",
      "_________________________________________________________________\n",
      "dense_11 (Dense)             (None, 100)               50100     \n",
      "_________________________________________________________________\n",
      "activation_11 (Activation)   (None, 100)               0         \n",
      "_________________________________________________________________\n",
      "dense_12 (Dense)             (None, 10)                1010      \n",
      "_________________________________________________________________\n",
      "activation_12 (Activation)   (None, 10)                0         \n",
      "=================================================================\n",
      "Total params: 443,610\n",
      "Trainable params: 443,610\n",
      "Non-trainable params: 0\n",
      "_________________________________________________________________\n"
     ]
    }
   ],
   "source": [
    "model_4 = Sequential()\n",
    "model_4.add(Dense(500,input_dim = 784))#第一個隱藏層 4個神經元\n",
    "model_4.add(Activation('relu'))\n",
    "model_4.add(Dense(100))\n",
    "model_4.add(Activation('relu'))\n",
    "model_4.add(Dense(10))#輸出\n",
    "model_4.add(Activation('softmax'))\n",
    "model_4.compile(loss='mse',optimizer=SGD(lr = 0.05),metrics=['accuracy'])\n",
    "model_4.summary()"
   ]
  },
  {
   "cell_type": "code",
   "execution_count": 28,
   "metadata": {},
   "outputs": [
    {
     "name": "stdout",
     "output_type": "stream",
     "text": [
      "Train on 60000 samples, validate on 10000 samples\n",
      "Epoch 1/20\n",
      "60000/60000 [==============================] - 16s 270us/step - loss: 0.0324 - acc: 0.7936 - val_loss: 0.0146 - val_acc: 0.9094\n",
      "Epoch 2/20\n",
      "60000/60000 [==============================] - 17s 286us/step - loss: 0.0133 - acc: 0.9173 - val_loss: 0.0116 - val_acc: 0.9254\n",
      "Epoch 3/20\n",
      "60000/60000 [==============================] - 17s 277us/step - loss: 0.0109 - acc: 0.9320 - val_loss: 0.0098 - val_acc: 0.9371\n",
      "Epoch 4/20\n",
      "60000/60000 [==============================] - 17s 281us/step - loss: 0.0094 - acc: 0.9404 - val_loss: 0.0087 - val_acc: 0.9446\n",
      "Epoch 5/20\n",
      "60000/60000 [==============================] - 18s 293us/step - loss: 0.0084 - acc: 0.9479 - val_loss: 0.0080 - val_acc: 0.9495\n",
      "Epoch 6/20\n",
      "60000/60000 [==============================] - 17s 280us/step - loss: 0.0076 - acc: 0.9533 - val_loss: 0.0073 - val_acc: 0.9536\n",
      "Epoch 7/20\n",
      "60000/60000 [==============================] - 16s 274us/step - loss: 0.0069 - acc: 0.9582 - val_loss: 0.0068 - val_acc: 0.9576\n",
      "Epoch 8/20\n",
      "60000/60000 [==============================] - 16s 272us/step - loss: 0.0063 - acc: 0.9616 - val_loss: 0.0066 - val_acc: 0.9566\n",
      "Epoch 9/20\n",
      "60000/60000 [==============================] - 17s 290us/step - loss: 0.0058 - acc: 0.9652 - val_loss: 0.0062 - val_acc: 0.9610\n",
      "Epoch 10/20\n",
      "60000/60000 [==============================] - 17s 278us/step - loss: 0.0054 - acc: 0.9683 - val_loss: 0.0058 - val_acc: 0.9632\n",
      "Epoch 11/20\n",
      "60000/60000 [==============================] - 17s 282us/step - loss: 0.0050 - acc: 0.9705 - val_loss: 0.0055 - val_acc: 0.9645\n",
      "Epoch 12/20\n",
      "60000/60000 [==============================] - 17s 291us/step - loss: 0.0046 - acc: 0.9729 - val_loss: 0.0054 - val_acc: 0.9648\n",
      "Epoch 13/20\n",
      "60000/60000 [==============================] - 17s 281us/step - loss: 0.0043 - acc: 0.9752 - val_loss: 0.0051 - val_acc: 0.9683\n",
      "Epoch 14/20\n",
      "60000/60000 [==============================] - 17s 281us/step - loss: 0.0041 - acc: 0.9769 - val_loss: 0.0049 - val_acc: 0.9692\n",
      "Epoch 15/20\n",
      "60000/60000 [==============================] - 16s 274us/step - loss: 0.0038 - acc: 0.9788 - val_loss: 0.0048 - val_acc: 0.9694\n",
      "Epoch 16/20\n",
      "60000/60000 [==============================] - 17s 286us/step - loss: 0.0036 - acc: 0.9804 - val_loss: 0.0045 - val_acc: 0.9707\n",
      "Epoch 17/20\n",
      "60000/60000 [==============================] - 17s 280us/step - loss: 0.0034 - acc: 0.9815 - val_loss: 0.0045 - val_acc: 0.9714\n",
      "Epoch 18/20\n",
      "60000/60000 [==============================] - 15s 256us/step - loss: 0.0032 - acc: 0.9826 - val_loss: 0.0045 - val_acc: 0.9712\n",
      "Epoch 19/20\n",
      "60000/60000 [==============================] - 16s 274us/step - loss: 0.0030 - acc: 0.9837 - val_loss: 0.0043 - val_acc: 0.9722\n",
      "Epoch 20/20\n",
      "60000/60000 [==============================] - 16s 273us/step - loss: 0.0028 - acc: 0.9848 - val_loss: 0.0042 - val_acc: 0.9736\n"
     ]
    }
   ],
   "source": [
    "model_4_out = model_4.fit(x_train,y_train,batch_size = 10,\n",
    "                        epochs = 20,\n",
    "                        verbose =1,\n",
    "                        validation_data = (x_test,y_test))"
   ]
  },
  {
   "cell_type": "code",
   "execution_count": 29,
   "metadata": {},
   "outputs": [
    {
     "data": {
      "application/vnd.jupyter.widget-view+json": {
       "model_id": "2241d2a56e3343f19cb53b9ff7ac9b1e",
       "version_major": 2,
       "version_minor": 0
      },
      "text/plain": [
       "interactive(children=(IntSlider(value=4999, description='測試編號', max=9999), Button(description='Run Interact', …"
      ]
     },
     "metadata": {},
     "output_type": "display_data"
    },
    {
     "data": {
      "text/plain": [
       "<function __main__.test(測試編號)>"
      ]
     },
     "execution_count": 29,
     "metadata": {},
     "output_type": "execute_result"
    }
   ],
   "source": [
    "predict = model_4.predict_classes(x_test)\n",
    "interact_manual(test,測試編號 = (0,9999))"
   ]
  },
  {
   "cell_type": "code",
   "execution_count": 30,
   "metadata": {},
   "outputs": [
    {
     "data": {
      "image/png": "[encoded data removed]",
      "text/plain": [
       "<Figure size 432x288 with 1 Axes>"
      ]
     },
     "metadata": {},
     "output_type": "display_data"
    }
   ],
   "source": [
    "plt.plot(model_1.history['acc'])\n",
    "plt.plot(model_2_out.history['acc'])\n",
    "plt.plot(model_3_out.history['acc'])\n",
    "plt.plot(model_4_out.history['acc'])\n",
    "plt.title('model training accuracy')\n",
    "plt.ylabel('accuracy')\n",
    "plt.xlabel('epoch')\n",
    "plt.legend(['model_1','modle_2','model_3','model_4'],loc = 'best')\n",
    "plt.show()"
   ]
  },
  {
   "cell_type": "markdown",
   "metadata": {},
   "source": [
    "## 由上面看來 將隱藏層Activation 從 sigmoid 改為 'relu'\n",
    "## accuracy一開始就很高acc: 0.7936  最後更高達0.9848 \n",
    "##     \n",
    "##    "
   ]
  },
  {
   "cell_type": "code",
   "execution_count": 31,
   "metadata": {},
   "outputs": [
    {
     "data": {
      "image/png": "[encoded data removed]",
      "text/plain": [
       "<Figure size 432x288 with 1 Axes>"
      ]
     },
     "metadata": {},
     "output_type": "display_data"
    }
   ],
   "source": [
    "plt.plot(model_1.history['val_loss'])\n",
    "plt.plot(model_2_out.history['val_loss'])\n",
    "plt.plot(model_3_out.history['val_loss'])\n",
    "plt.plot(model_4_out.history['val_loss'])\n",
    "plt.title('model validation loss')\n",
    "plt.ylabel('loss')\n",
    "plt.xlabel('epoch')\n",
    "plt.legend(['model_1','modle_2','model_3','model_4'],loc = 'best')\n",
    "plt.show()"
   ]
  },
  {
   "cell_type": "markdown",
   "metadata": {},
   "source": [
    "## 由上面看來 \n",
    "## model_1與model_2 loss 看起來差不多\n",
    "## model_3 的隱藏層神經元數項較多  loss略為下降\n",
    "## model_4 將隱藏層Activation 從 sigmoid 改為 'relu' ，loss在一開始就比其他模型還要小很多\n",
    "##     \n",
    "##    "
   ]
  },
  {
   "cell_type": "code",
   "execution_count": 32,
   "metadata": {},
   "outputs": [
    {
     "name": "stdout",
     "output_type": "stream",
     "text": [
      "10000/10000 [==============================] - 0s 16us/step\n",
      "10000/10000 [==============================] - 0s 14us/step\n",
      "10000/10000 [==============================] - 0s 22us/step\n",
      "10000/10000 [==============================] - 0s 22us/step\n"
     ]
    }
   ],
   "source": [
    "score1 = model.evaluate(x_test,y_test)\n",
    "score2 = model_2.evaluate(x_test,y_test)\n",
    "score3 = model_3.evaluate(x_test,y_test)\n",
    "score4 = model_4.evaluate(x_test,y_test)"
   ]
  },
  {
   "cell_type": "markdown",
   "metadata": {},
   "source": [
    "## 印出loss accuracy"
   ]
  },
  {
   "cell_type": "code",
   "execution_count": 33,
   "metadata": {},
   "outputs": [
    {
     "name": "stdout",
     "output_type": "stream",
     "text": [
      "loss: 0.013850588832423091 正確率: 0.912\n",
      "loss: 0.013709238089248538 正確率: 0.9146\n",
      "loss: 0.013174376488197595 正確率: 0.9162\n",
      "loss: 0.004185449112094284 正確率: 0.9736\n"
     ]
    }
   ],
   "source": [
    "print('loss:',score1[0],'正確率:',score1[1])\n",
    "print('loss:',score2[0],'正確率:',score2[1])\n",
    "print('loss:',score3[0],'正確率:',score3[1])\n",
    "print('loss:',score4[0],'正確率:',score4[1])\n",
    "#loss 是平均誤差\n",
    "#不過loss很難看的出來好或不好"
   ]
  },
  {
   "cell_type": "markdown",
   "metadata": {},
   "source": [
    "## 將最好的model存起來"
   ]
  },
  {
   "cell_type": "code",
   "execution_count": 34,
   "metadata": {},
   "outputs": [],
   "source": [
    "model_json = model_4.to_json()\n",
    "open('model_4.json','w').write(model_json)\n",
    "model_4.save_weights('model_4_weight.h5')"
   ]
  },
  {
   "cell_type": "code",
   "execution_count": null,
   "metadata": {},
   "outputs": [],
   "source": []
  }
 ],
 "metadata": {
  "kernelspec": {
   "display_name": "Python (tensorflowgpu)",
   "language": "python",
   "name": "tensorflowgpu"
  },
  "language_info": {
   "codemirror_mode": {
    "name": "ipython",
    "version": 3
   },
   "file_extension": ".py",
   "mimetype": "text/x-python",
   "name": "python",
   "nbconvert_exporter": "python",
   "pygments_lexer": "ipython3",
   "version": "3.5.5"
  }
 },
 "nbformat": 4,
 "nbformat_minor": 2
}
