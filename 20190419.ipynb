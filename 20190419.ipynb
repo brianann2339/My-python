{
 "cells": [
  {
   "cell_type": "code",
   "execution_count": 99,
   "metadata": {},
   "outputs": [],
   "source": [
    "from keras.datasets import mnist "
   ]
  },
  {
   "cell_type": "code",
   "execution_count": 100,
   "metadata": {},
   "outputs": [],
   "source": [
    "%matplotlib inline\n",
    "import numpy as np\n",
    "import matplotlib.pyplot as plt"
   ]
  },
  {
   "cell_type": "code",
   "execution_count": 101,
   "metadata": {},
   "outputs": [],
   "source": [
    "(x_train,y_train),(x_test,y_test) = mnist.load_data()"
   ]
  },
  {
   "cell_type": "code",
   "execution_count": 102,
   "metadata": {},
   "outputs": [],
   "source": [
    "#mnist.load_data()會幫我存到電腦某個地方之後教會比較快"
   ]
  },
  {
   "cell_type": "code",
   "execution_count": 103,
   "metadata": {},
   "outputs": [
    {
     "data": {
      "text/plain": [
       "10000"
      ]
     },
     "execution_count": 103,
     "metadata": {},
     "output_type": "execute_result"
    }
   ],
   "source": [
    "len(x_test)"
   ]
  },
  {
   "cell_type": "code",
   "execution_count": 104,
   "metadata": {},
   "outputs": [
    {
     "data": {
      "text/plain": [
       "60000"
      ]
     },
     "execution_count": 104,
     "metadata": {},
     "output_type": "execute_result"
    }
   ],
   "source": [
    "len(x_train)"
   ]
  },
  {
   "cell_type": "code",
   "execution_count": 105,
   "metadata": {},
   "outputs": [],
   "source": [
    "X = x_train[87]"
   ]
  },
  {
   "cell_type": "code",
   "execution_count": 106,
   "metadata": {},
   "outputs": [
    {
     "data": {
      "text/plain": [
       "(28, 28)"
      ]
     },
     "execution_count": 106,
     "metadata": {},
     "output_type": "execute_result"
    }
   ],
   "source": [
    "X.shape"
   ]
  },
  {
   "cell_type": "code",
   "execution_count": 107,
   "metadata": {},
   "outputs": [
    {
     "data": {
      "text/plain": [
       "<matplotlib.image.AxesImage at 0x26d7ffcc4e0>"
      ]
     },
     "execution_count": 107,
     "metadata": {},
     "output_type": "execute_result"
    },
    {
     "data": {
      "image/png": "[encoded data removed]",
      "text/plain": [
       "<Figure size 432x288 with 1 Axes>"
      ]
     },
     "metadata": {},
     "output_type": "display_data"
    }
   ],
   "source": [
    "plt.imshow(X,cmap = 'Greys')"
   ]
  },
  {
   "cell_type": "code",
   "execution_count": 108,
   "metadata": {},
   "outputs": [
    {
     "data": {
      "text/plain": [
       "9"
      ]
     },
     "execution_count": 108,
     "metadata": {},
     "output_type": "execute_result"
    }
   ],
   "source": [
    "y_train[87]"
   ]
  },
  {
   "cell_type": "code",
   "execution_count": 109,
   "metadata": {},
   "outputs": [
    {
     "data": {
      "text/plain": [
       "(60000, 28, 28)"
      ]
     },
     "execution_count": 109,
     "metadata": {},
     "output_type": "execute_result"
    }
   ],
   "source": [
    "x_train.shape#60000筆資料，每一張是28*28"
   ]
  },
  {
   "cell_type": "code",
   "execution_count": 110,
   "metadata": {},
   "outputs": [],
   "source": [
    "x_train = x_train.reshape(60000,784)\n",
    "x_test = x_test.reshape(10000,784)"
   ]
  },
  {
   "cell_type": "code",
   "execution_count": 111,
   "metadata": {},
   "outputs": [],
   "source": [
    "from keras.utils import np_utils"
   ]
  },
  {
   "cell_type": "code",
   "execution_count": 112,
   "metadata": {},
   "outputs": [
    {
     "data": {
      "text/plain": [
       "array([5, 0, 4, ..., 5, 6, 8], dtype=uint8)"
      ]
     },
     "execution_count": 112,
     "metadata": {},
     "output_type": "execute_result"
    }
   ],
   "source": [
    "y_train"
   ]
  },
  {
   "cell_type": "code",
   "execution_count": 113,
   "metadata": {},
   "outputs": [],
   "source": [
    "y_train = np_utils.to_categorical(y_train,10)\n",
    "y_test = np_utils.to_categorical(y_test,10)"
   ]
  },
  {
   "cell_type": "code",
   "execution_count": 114,
   "metadata": {},
   "outputs": [
    {
     "data": {
      "text/plain": [
       "array([0., 0., 0., 0., 0., 0., 0., 0., 0., 1.], dtype=float32)"
      ]
     },
     "execution_count": 114,
     "metadata": {},
     "output_type": "execute_result"
    }
   ],
   "source": [
    "y_train[87]"
   ]
  },
  {
   "cell_type": "code",
   "execution_count": 115,
   "metadata": {},
   "outputs": [],
   "source": [
    "from keras.models import Sequential\n",
    "from keras.layers import Dense,Activation\n",
    "from keras.optimizers import SGD"
   ]
  },
  {
   "cell_type": "code",
   "execution_count": 116,
   "metadata": {},
   "outputs": [],
   "source": [
    "model = Sequential()\n",
    "#打開Sequential型的函數學習機"
   ]
  },
  {
   "cell_type": "code",
   "execution_count": 117,
   "metadata": {},
   "outputs": [],
   "source": [
    "#input:784維\n",
    "#output:10維 [0123456789]\n",
    "\n",
    "\n",
    "model.add(Dense(4,input_dim = 784))#第一個隱藏層 4個神經元\n",
    "model.add(Activation('sigmoid'))\n",
    "#所以輸出是4為"
   ]
  },
  {
   "cell_type": "code",
   "execution_count": 118,
   "metadata": {},
   "outputs": [],
   "source": [
    "model.add(Dense(2))#第二個隱藏層 2個神經元 前面的輸出有4維 不但是用寫有幾維的輸入 \n",
    "#因為因為它是接下去的\n",
    "\n",
    "model.add(Activation('sigmoid'))"
   ]
  },
  {
   "cell_type": "code",
   "execution_count": 119,
   "metadata": {},
   "outputs": [],
   "source": [
    "model.add(Dense(10))#輸出\n",
    "model.add(Activation('softmax'))\n",
    "#結果會是矩陣 會顯示像是[0.5 0.5 0 0 0 0 0 0 0 0 ] 意思是代表 \n",
    "#這個圖是0有0.5的機率 這個圖是1有0.5的機率\n",
    "#但也有可能是負值 \n",
    "#所以用softmax從小到大排 然後給他重新定義的值 \n",
    "#但是小的會是小的 大的會是大的 然後矩陣餒10個值加起來是1 "
   ]
  },
  {
   "cell_type": "code",
   "execution_count": 120,
   "metadata": {},
   "outputs": [],
   "source": [
    "model.compile(loss='mse',optimizer=SGD(lr = 0.087),metrics=['accuracy'])\n",
    "#optimizer要怎麼最佳化"
   ]
  },
  {
   "cell_type": "code",
   "execution_count": 121,
   "metadata": {},
   "outputs": [
    {
     "name": "stdout",
     "output_type": "stream",
     "text": [
      "_________________________________________________________________\n",
      "Layer (type)                 Output Shape              Param #   \n",
      "=================================================================\n",
      "dense_8 (Dense)              (None, 4)                 3140      \n",
      "_________________________________________________________________\n",
      "activation_7 (Activation)    (None, 4)                 0         \n",
      "_________________________________________________________________\n",
      "dense_9 (Dense)              (None, 2)                 10        \n",
      "_________________________________________________________________\n",
      "activation_8 (Activation)    (None, 2)                 0         \n",
      "_________________________________________________________________\n",
      "dense_10 (Dense)             (None, 10)                30        \n",
      "_________________________________________________________________\n",
      "activation_9 (Activation)    (None, 10)                0         \n",
      "=================================================================\n",
      "Total params: 3,180\n",
      "Trainable params: 3,180\n",
      "Non-trainable params: 0\n",
      "_________________________________________________________________\n"
     ]
    }
   ],
   "source": [
    "model.summary()"
   ]
  },
  {
   "cell_type": "code",
   "execution_count": 122,
   "metadata": {},
   "outputs": [
    {
     "data": {
      "text/plain": [
       "3140"
      ]
     },
     "execution_count": 122,
     "metadata": {},
     "output_type": "execute_result"
    }
   ],
   "source": [
    "#784個輸入\n",
    "#4個神經元\n",
    "#weight = 784*4\n",
    "#每一個神經元有一個bius\n",
    "784*4+4"
   ]
  },
  {
   "cell_type": "code",
   "execution_count": 123,
   "metadata": {},
   "outputs": [
    {
     "data": {
      "text/plain": [
       "10"
      ]
     },
     "execution_count": 123,
     "metadata": {},
     "output_type": "execute_result"
    }
   ],
   "source": [
    "#4個輸入\n",
    "#2個神經元\n",
    "#weight = 4*2\n",
    "#每一個神經元有一個bius\n",
    "4*2+2"
   ]
  },
  {
   "cell_type": "code",
   "execution_count": 124,
   "metadata": {},
   "outputs": [
    {
     "data": {
      "text/plain": [
       "30"
      ]
     },
     "execution_count": 124,
     "metadata": {},
     "output_type": "execute_result"
    }
   ],
   "source": [
    "#2個輸入\n",
    "#10個神經元\n",
    "#weight = 2*10\n",
    "#每一個神經元有一個bius\n",
    "2*10+10"
   ]
  },
  {
   "cell_type": "code",
   "execution_count": 125,
   "metadata": {},
   "outputs": [
    {
     "name": "stdout",
     "output_type": "stream",
     "text": [
      "Epoch 1/80\n",
      "60000/60000 [==============================] - 1s 10us/step - loss: 0.0911 - acc: 0.1050\n",
      "Epoch 2/80\n",
      "60000/60000 [==============================] - 1s 8us/step - loss: 0.0905 - acc: 0.1082\n",
      "Epoch 3/80\n",
      "60000/60000 [==============================] - 1s 8us/step - loss: 0.0899 - acc: 0.1220\n",
      "Epoch 4/80\n",
      "60000/60000 [==============================] - ETA: 0s - loss: 0.0895 - acc: 0.144 - 1s 8us/step - loss: 0.0895 - acc: 0.1451\n",
      "Epoch 5/80\n",
      "60000/60000 [==============================] - 1s 8us/step - loss: 0.0892 - acc: 0.1750\n",
      "Epoch 6/80\n",
      "60000/60000 [==============================] - 1s 8us/step - loss: 0.0889 - acc: 0.2176\n",
      "Epoch 7/80\n",
      "60000/60000 [==============================] - 1s 8us/step - loss: 0.0887 - acc: 0.2309\n",
      "Epoch 8/80\n",
      "60000/60000 [==============================] - 1s 8us/step - loss: 0.0885 - acc: 0.2407\n",
      "Epoch 9/80\n",
      "60000/60000 [==============================] - 0s 8us/step - loss: 0.0883 - acc: 0.2455\n",
      "Epoch 10/80\n",
      "60000/60000 [==============================] - 0s 8us/step - loss: 0.0882 - acc: 0.2286\n",
      "Epoch 11/80\n",
      "60000/60000 [==============================] - 0s 8us/step - loss: 0.0880 - acc: 0.2274\n",
      "Epoch 12/80\n",
      "60000/60000 [==============================] - 0s 8us/step - loss: 0.0879 - acc: 0.2269\n",
      "Epoch 13/80\n",
      "60000/60000 [==============================] - 0s 8us/step - loss: 0.0877 - acc: 0.1915\n",
      "Epoch 14/80\n",
      "60000/60000 [==============================] - 1s 10us/step - loss: 0.0876 - acc: 0.1919\n",
      "Epoch 15/80\n",
      "60000/60000 [==============================] - 1s 9us/step - loss: 0.0874 - acc: 0.1928\n",
      "Epoch 16/80\n",
      "60000/60000 [==============================] - 1s 8us/step - loss: 0.0873 - acc: 0.2110\n",
      "Epoch 17/80\n",
      "60000/60000 [==============================] - 1s 9us/step - loss: 0.0871 - acc: 0.2162\n",
      "Epoch 18/80\n",
      "60000/60000 [==============================] - 1s 8us/step - loss: 0.0869 - acc: 0.2164\n",
      "Epoch 19/80\n",
      "60000/60000 [==============================] - 1s 9us/step - loss: 0.0868 - acc: 0.2167\n",
      "Epoch 20/80\n",
      "60000/60000 [==============================] - 1s 9us/step - loss: 0.0866 - acc: 0.2167\n",
      "Epoch 21/80\n",
      "60000/60000 [==============================] - 1s 9us/step - loss: 0.0864 - acc: 0.2160\n",
      "Epoch 22/80\n",
      "60000/60000 [==============================] - 1s 9us/step - loss: 0.0863 - acc: 0.2173\n",
      "Epoch 23/80\n",
      "60000/60000 [==============================] - 1s 9us/step - loss: 0.0861 - acc: 0.2151\n",
      "Epoch 24/80\n",
      "60000/60000 [==============================] - 1s 10us/step - loss: 0.0859 - acc: 0.2147\n",
      "Epoch 25/80\n",
      "60000/60000 [==============================] - 1s 9us/step - loss: 0.0858 - acc: 0.2158\n",
      "Epoch 26/80\n",
      "60000/60000 [==============================] - 1s 8us/step - loss: 0.0856 - acc: 0.2168\n",
      "Epoch 27/80\n",
      "60000/60000 [==============================] - 1s 9us/step - loss: 0.0854 - acc: 0.2149\n",
      "Epoch 28/80\n",
      "60000/60000 [==============================] - 1s 9us/step - loss: 0.0853 - acc: 0.2146\n",
      "Epoch 29/80\n",
      "60000/60000 [==============================] - 1s 9us/step - loss: 0.0851 - acc: 0.2154\n",
      "Epoch 30/80\n",
      "60000/60000 [==============================] - 1s 8us/step - loss: 0.0849 - acc: 0.2162\n",
      "Epoch 31/80\n",
      "60000/60000 [==============================] - 1s 9us/step - loss: 0.0848 - acc: 0.2161\n",
      "Epoch 32/80\n",
      "60000/60000 [==============================] - 1s 10us/step - loss: 0.0846 - acc: 0.2157\n",
      "Epoch 33/80\n",
      "60000/60000 [==============================] - 1s 10us/step - loss: 0.0844 - acc: 0.2191\n",
      "Epoch 34/80\n",
      "60000/60000 [==============================] - 1s 11us/step - loss: 0.0843 - acc: 0.2192\n",
      "Epoch 35/80\n",
      "60000/60000 [==============================] - 1s 11us/step - loss: 0.0841 - acc: 0.2233\n",
      "Epoch 36/80\n",
      "60000/60000 [==============================] - 1s 11us/step - loss: 0.0839 - acc: 0.2315\n",
      "Epoch 37/80\n",
      "60000/60000 [==============================] - 1s 11us/step - loss: 0.0838 - acc: 0.2331\n",
      "Epoch 38/80\n",
      "60000/60000 [==============================] - 1s 11us/step - loss: 0.0836 - acc: 0.2343\n",
      "Epoch 39/80\n",
      "60000/60000 [==============================] - 1s 9us/step - loss: 0.0835 - acc: 0.2384\n",
      "Epoch 40/80\n",
      "60000/60000 [==============================] - 1s 10us/step - loss: 0.0833 - acc: 0.2379\n",
      "Epoch 41/80\n",
      "60000/60000 [==============================] - 1s 10us/step - loss: 0.0831 - acc: 0.2429\n",
      "Epoch 42/80\n",
      "60000/60000 [==============================] - 1s 12us/step - loss: 0.0830 - acc: 0.2393\n",
      "Epoch 43/80\n",
      "60000/60000 [==============================] - 1s 9us/step - loss: 0.0828 - acc: 0.2412\n",
      "Epoch 44/80\n",
      "60000/60000 [==============================] - 1s 9us/step - loss: 0.0827 - acc: 0.2426\n",
      "Epoch 45/80\n",
      "60000/60000 [==============================] - 1s 9us/step - loss: 0.0825 - acc: 0.2437\n",
      "Epoch 46/80\n",
      "60000/60000 [==============================] - 1s 9us/step - loss: 0.0824 - acc: 0.2645\n",
      "Epoch 47/80\n",
      "60000/60000 [==============================] - 1s 10us/step - loss: 0.0822 - acc: 0.2992\n",
      "Epoch 48/80\n",
      "60000/60000 [==============================] - 1s 10us/step - loss: 0.0821 - acc: 0.3039\n",
      "Epoch 49/80\n",
      "60000/60000 [==============================] - 1s 9us/step - loss: 0.0819 - acc: 0.3040\n",
      "Epoch 50/80\n",
      "60000/60000 [==============================] - 1s 9us/step - loss: 0.0818 - acc: 0.3086\n",
      "Epoch 51/80\n",
      "60000/60000 [==============================] - 1s 8us/step - loss: 0.0816 - acc: 0.3070\n",
      "Epoch 52/80\n",
      "60000/60000 [==============================] - 0s 8us/step - loss: 0.0815 - acc: 0.3101\n",
      "Epoch 53/80\n",
      "60000/60000 [==============================] - 0s 8us/step - loss: 0.0813 - acc: 0.3180\n",
      "Epoch 54/80\n",
      "60000/60000 [==============================] - 0s 8us/step - loss: 0.0812 - acc: 0.3294\n",
      "Epoch 55/80\n",
      "60000/60000 [==============================] - 0s 8us/step - loss: 0.0810 - acc: 0.3413\n",
      "Epoch 56/80\n",
      "60000/60000 [==============================] - 1s 9us/step - loss: 0.0808 - acc: 0.3491\n",
      "Epoch 57/80\n",
      "60000/60000 [==============================] - 1s 9us/step - loss: 0.0806 - acc: 0.3538\n",
      "Epoch 58/80\n",
      "60000/60000 [==============================] - 1s 8us/step - loss: 0.0803 - acc: 0.3566\n",
      "Epoch 59/80\n",
      "60000/60000 [==============================] - 1s 8us/step - loss: 0.0800 - acc: 0.3597\n",
      "Epoch 60/80\n",
      "60000/60000 [==============================] - 0s 8us/step - loss: 0.0797 - acc: 0.3645\n",
      "Epoch 61/80\n",
      "60000/60000 [==============================] - 0s 8us/step - loss: 0.0795 - acc: 0.3664\n",
      "Epoch 62/80\n",
      "60000/60000 [==============================] - 0s 8us/step - loss: 0.0792 - acc: 0.3670\n",
      "Epoch 63/80\n",
      "60000/60000 [==============================] - 0s 8us/step - loss: 0.0789 - acc: 0.3652\n",
      "Epoch 64/80\n",
      "60000/60000 [==============================] - 1s 8us/step - loss: 0.0787 - acc: 0.3647\n",
      "Epoch 65/80\n",
      "60000/60000 [==============================] - 0s 8us/step - loss: 0.0785 - acc: 0.3700\n",
      "Epoch 66/80\n",
      "60000/60000 [==============================] - 1s 8us/step - loss: 0.0783 - acc: 0.3675\n",
      "Epoch 67/80\n",
      "60000/60000 [==============================] - 0s 8us/step - loss: 0.0781 - acc: 0.3700\n",
      "Epoch 68/80\n",
      "60000/60000 [==============================] - 0s 8us/step - loss: 0.0778 - acc: 0.3688\n",
      "Epoch 69/80\n",
      "60000/60000 [==============================] - 0s 8us/step - loss: 0.0776 - acc: 0.3684\n",
      "Epoch 70/80\n",
      "60000/60000 [==============================] - 0s 8us/step - loss: 0.0774 - acc: 0.3715\n",
      "Epoch 71/80\n",
      "60000/60000 [==============================] - 0s 8us/step - loss: 0.0772 - acc: 0.3713\n",
      "Epoch 72/80\n",
      "60000/60000 [==============================] - 0s 8us/step - loss: 0.0771 - acc: 0.3716\n",
      "Epoch 73/80\n",
      "60000/60000 [==============================] - 1s 9us/step - loss: 0.0769 - acc: 0.3725\n",
      "Epoch 74/80\n",
      "60000/60000 [==============================] - 1s 8us/step - loss: 0.0767 - acc: 0.3732\n",
      "Epoch 75/80\n",
      "60000/60000 [==============================] - 0s 8us/step - loss: 0.0766 - acc: 0.3729\n",
      "Epoch 76/80\n",
      "60000/60000 [==============================] - 0s 8us/step - loss: 0.0764 - acc: 0.3714\n",
      "Epoch 77/80\n",
      "60000/60000 [==============================] - 0s 8us/step - loss: 0.0762 - acc: 0.3736\n",
      "Epoch 78/80\n",
      "60000/60000 [==============================] - 0s 8us/step - loss: 0.0761 - acc: 0.3725\n",
      "Epoch 79/80\n",
      "60000/60000 [==============================] - 1s 9us/step - loss: 0.0760 - acc: 0.3106\n",
      "Epoch 80/80\n",
      "60000/60000 [==============================] - 0s 8us/step - loss: 0.0758 - acc: 0.3094\n"
     ]
    },
    {
     "data": {
      "text/plain": [
       "<keras.callbacks.History at 0x26d7b505da0>"
      ]
     },
     "execution_count": 125,
     "metadata": {},
     "output_type": "execute_result"
    }
   ],
   "source": [
    "model.fit(x_train,y_train,batch_size=100,epochs=80)\n",
    "#batch_size\n",
    "\n",
    "#可以60000筆資料全部輸入以後，找到他的loss function值是多少 但這樣通常不太好\n",
    "#因為看完60000筆 有些因為記憶的方法電腦的誤差 把一些細節忽略掉 所以這樣並不好\n",
    "\n",
    "#所以會設定mini batch_size 就是多少筆調一次參數\n",
    "#epochs 就是要訓練幾次"
   ]
  },
  {
   "cell_type": "code",
   "execution_count": 126,
   "metadata": {},
   "outputs": [],
   "source": [
    "from ipywidgets import interact_manual"
   ]
  },
  {
   "cell_type": "code",
   "execution_count": 89,
   "metadata": {},
   "outputs": [],
   "source": [
    "predict = model.predict_classes(x_test)"
   ]
  },
  {
   "cell_type": "code",
   "execution_count": 90,
   "metadata": {},
   "outputs": [
    {
     "data": {
      "text/plain": [
       "array([7, 0, 1, ..., 4, 7, 6], dtype=int64)"
      ]
     },
     "execution_count": 90,
     "metadata": {},
     "output_type": "execute_result"
    }
   ],
   "source": [
    "predict"
   ]
  },
  {
   "cell_type": "code",
   "execution_count": 92,
   "metadata": {},
   "outputs": [],
   "source": [
    "def test(測試編號):\n",
    "    plt.imshow(x_test[測試編號].reshape(28,28),cmap='Greys')\n",
    "    #因為要畫出來 所以用.reshape(28,28)\n",
    "    print('神經網路判斷為:',predict[測試編號])"
   ]
  },
  {
   "cell_type": "code",
   "execution_count": 93,
   "metadata": {},
   "outputs": [
    {
     "name": "stdout",
     "output_type": "stream",
     "text": [
      "神經網路判斷為: 7\n"
     ]
    },
    {
     "data": {
      "image/png": "[encoded data removed]",
      "text/plain": [
       "<Figure size 432x288 with 1 Axes>"
      ]
     },
     "metadata": {},
     "output_type": "display_data"
    }
   ],
   "source": [
    "test(87)"
   ]
  },
  {
   "cell_type": "code",
   "execution_count": 95,
   "metadata": {},
   "outputs": [
    {
     "data": {
      "application/vnd.jupyter.widget-view+json": {
       "model_id": "d0b9fb81a99142a2a94452a69d43d828",
       "version_major": 2,
       "version_minor": 0
      },
      "text/plain": [
       "interactive(children=(IntSlider(value=4999, description='測試編號', max=9999), Button(description='Run Interact', …"
      ]
     },
     "metadata": {},
     "output_type": "display_data"
    },
    {
     "data": {
      "text/plain": [
       "<function __main__.test(測試編號)>"
      ]
     },
     "execution_count": 95,
     "metadata": {},
     "output_type": "execute_result"
    }
   ],
   "source": [
    "interact_manual(test,測試編號 = (0,9999))"
   ]
  },
  {
   "cell_type": "code",
   "execution_count": 96,
   "metadata": {},
   "outputs": [
    {
     "name": "stdout",
     "output_type": "stream",
     "text": [
      "10000/10000 [==============================] - 0s 11us/step\n"
     ]
    }
   ],
   "source": [
    "score = model.evaluate(x_test,y_test)"
   ]
  },
  {
   "cell_type": "code",
   "execution_count": 97,
   "metadata": {},
   "outputs": [
    {
     "name": "stdout",
     "output_type": "stream",
     "text": [
      "loss: 0.07085968244075776 正確率: 0.4691\n"
     ]
    }
   ],
   "source": [
    "print('loss:',score[0],'正確率:',score[1])\n",
    "#loss 是平均誤差\n",
    "#不過loss很難看的出來好或不好"
   ]
  },
  {
   "cell_type": "code",
   "execution_count": 98,
   "metadata": {},
   "outputs": [],
   "source": [
    "model_json = model.to_json()\n",
    "open('stupid_modle.json','w').write(model_json)\n",
    "model.save_weights('stupid_modle_weight.h5')"
   ]
  },
  {
   "cell_type": "code",
   "execution_count": null,
   "metadata": {},
   "outputs": [],
   "source": []
  }
 ],
 "metadata": {
  "kernelspec": {
   "display_name": "Python (tensorflowgpu)",
   "language": "python",
   "name": "tensorflowgpu"
  },
  "language_info": {
   "codemirror_mode": {
    "name": "ipython",
    "version": 3
   },
   "file_extension": ".py",
   "mimetype": "text/x-python",
   "name": "python",
   "nbconvert_exporter": "python",
   "pygments_lexer": "ipython3",
   "version": "3.5.5"
  }
 },
 "nbformat": 4,
 "nbformat_minor": 2
}
